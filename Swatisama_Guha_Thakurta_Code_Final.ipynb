{
  "nbformat": 4,
  "nbformat_minor": 0,
  "metadata": {
    "colab": {
      "provenance": []
    },
    "kernelspec": {
      "name": "python3",
      "display_name": "Python 3"
    },
    "language_info": {
      "name": "python"
    },
    "widgets": {
      "application/vnd.jupyter.widget-state+json": {
        "c89c591f38404b848c928bbdd2778a06": {
          "model_module": "@jupyter-widgets/controls",
          "model_name": "HBoxModel",
          "model_module_version": "1.5.0",
          "state": {
            "_dom_classes": [],
            "_model_module": "@jupyter-widgets/controls",
            "_model_module_version": "1.5.0",
            "_model_name": "HBoxModel",
            "_view_count": null,
            "_view_module": "@jupyter-widgets/controls",
            "_view_module_version": "1.5.0",
            "_view_name": "HBoxView",
            "box_style": "",
            "children": [
              "IPY_MODEL_85723da96e89457b8ffbc098a4ec100a",
              "IPY_MODEL_a14ab78f80ef4bcbb01be4653da69688",
              "IPY_MODEL_ea07340069b347c6a47a048c60c9f922"
            ],
            "layout": "IPY_MODEL_d319c0e997424f8c98688d17413c45b0"
          }
        },
        "85723da96e89457b8ffbc098a4ec100a": {
          "model_module": "@jupyter-widgets/controls",
          "model_name": "HTMLModel",
          "model_module_version": "1.5.0",
          "state": {
            "_dom_classes": [],
            "_model_module": "@jupyter-widgets/controls",
            "_model_module_version": "1.5.0",
            "_model_name": "HTMLModel",
            "_view_count": null,
            "_view_module": "@jupyter-widgets/controls",
            "_view_module_version": "1.5.0",
            "_view_name": "HTMLView",
            "description": "",
            "description_tooltip": null,
            "layout": "IPY_MODEL_2e15458eecd349aa9956976aa712dbad",
            "placeholder": "​",
            "style": "IPY_MODEL_f442909a87574381b2a94de93ce47663",
            "value": "tokenizer_config.json: 100%"
          }
        },
        "a14ab78f80ef4bcbb01be4653da69688": {
          "model_module": "@jupyter-widgets/controls",
          "model_name": "FloatProgressModel",
          "model_module_version": "1.5.0",
          "state": {
            "_dom_classes": [],
            "_model_module": "@jupyter-widgets/controls",
            "_model_module_version": "1.5.0",
            "_model_name": "FloatProgressModel",
            "_view_count": null,
            "_view_module": "@jupyter-widgets/controls",
            "_view_module_version": "1.5.0",
            "_view_name": "ProgressView",
            "bar_style": "success",
            "description": "",
            "description_tooltip": null,
            "layout": "IPY_MODEL_88969b9e8ed94617a9ad657775ad43f8",
            "max": 48,
            "min": 0,
            "orientation": "horizontal",
            "style": "IPY_MODEL_39db66b760e3405fb5640e7a38f4490c",
            "value": 48
          }
        },
        "ea07340069b347c6a47a048c60c9f922": {
          "model_module": "@jupyter-widgets/controls",
          "model_name": "HTMLModel",
          "model_module_version": "1.5.0",
          "state": {
            "_dom_classes": [],
            "_model_module": "@jupyter-widgets/controls",
            "_model_module_version": "1.5.0",
            "_model_name": "HTMLModel",
            "_view_count": null,
            "_view_module": "@jupyter-widgets/controls",
            "_view_module_version": "1.5.0",
            "_view_name": "HTMLView",
            "description": "",
            "description_tooltip": null,
            "layout": "IPY_MODEL_9875f3640eae4ef8b77a0eef8fab99b5",
            "placeholder": "​",
            "style": "IPY_MODEL_d379a1a600f44a06a3922f87dd5e3fa2",
            "value": " 48.0/48.0 [00:00&lt;00:00, 2.59kB/s]"
          }
        },
        "d319c0e997424f8c98688d17413c45b0": {
          "model_module": "@jupyter-widgets/base",
          "model_name": "LayoutModel",
          "model_module_version": "1.2.0",
          "state": {
            "_model_module": "@jupyter-widgets/base",
            "_model_module_version": "1.2.0",
            "_model_name": "LayoutModel",
            "_view_count": null,
            "_view_module": "@jupyter-widgets/base",
            "_view_module_version": "1.2.0",
            "_view_name": "LayoutView",
            "align_content": null,
            "align_items": null,
            "align_self": null,
            "border": null,
            "bottom": null,
            "display": null,
            "flex": null,
            "flex_flow": null,
            "grid_area": null,
            "grid_auto_columns": null,
            "grid_auto_flow": null,
            "grid_auto_rows": null,
            "grid_column": null,
            "grid_gap": null,
            "grid_row": null,
            "grid_template_areas": null,
            "grid_template_columns": null,
            "grid_template_rows": null,
            "height": null,
            "justify_content": null,
            "justify_items": null,
            "left": null,
            "margin": null,
            "max_height": null,
            "max_width": null,
            "min_height": null,
            "min_width": null,
            "object_fit": null,
            "object_position": null,
            "order": null,
            "overflow": null,
            "overflow_x": null,
            "overflow_y": null,
            "padding": null,
            "right": null,
            "top": null,
            "visibility": null,
            "width": null
          }
        },
        "2e15458eecd349aa9956976aa712dbad": {
          "model_module": "@jupyter-widgets/base",
          "model_name": "LayoutModel",
          "model_module_version": "1.2.0",
          "state": {
            "_model_module": "@jupyter-widgets/base",
            "_model_module_version": "1.2.0",
            "_model_name": "LayoutModel",
            "_view_count": null,
            "_view_module": "@jupyter-widgets/base",
            "_view_module_version": "1.2.0",
            "_view_name": "LayoutView",
            "align_content": null,
            "align_items": null,
            "align_self": null,
            "border": null,
            "bottom": null,
            "display": null,
            "flex": null,
            "flex_flow": null,
            "grid_area": null,
            "grid_auto_columns": null,
            "grid_auto_flow": null,
            "grid_auto_rows": null,
            "grid_column": null,
            "grid_gap": null,
            "grid_row": null,
            "grid_template_areas": null,
            "grid_template_columns": null,
            "grid_template_rows": null,
            "height": null,
            "justify_content": null,
            "justify_items": null,
            "left": null,
            "margin": null,
            "max_height": null,
            "max_width": null,
            "min_height": null,
            "min_width": null,
            "object_fit": null,
            "object_position": null,
            "order": null,
            "overflow": null,
            "overflow_x": null,
            "overflow_y": null,
            "padding": null,
            "right": null,
            "top": null,
            "visibility": null,
            "width": null
          }
        },
        "f442909a87574381b2a94de93ce47663": {
          "model_module": "@jupyter-widgets/controls",
          "model_name": "DescriptionStyleModel",
          "model_module_version": "1.5.0",
          "state": {
            "_model_module": "@jupyter-widgets/controls",
            "_model_module_version": "1.5.0",
            "_model_name": "DescriptionStyleModel",
            "_view_count": null,
            "_view_module": "@jupyter-widgets/base",
            "_view_module_version": "1.2.0",
            "_view_name": "StyleView",
            "description_width": ""
          }
        },
        "88969b9e8ed94617a9ad657775ad43f8": {
          "model_module": "@jupyter-widgets/base",
          "model_name": "LayoutModel",
          "model_module_version": "1.2.0",
          "state": {
            "_model_module": "@jupyter-widgets/base",
            "_model_module_version": "1.2.0",
            "_model_name": "LayoutModel",
            "_view_count": null,
            "_view_module": "@jupyter-widgets/base",
            "_view_module_version": "1.2.0",
            "_view_name": "LayoutView",
            "align_content": null,
            "align_items": null,
            "align_self": null,
            "border": null,
            "bottom": null,
            "display": null,
            "flex": null,
            "flex_flow": null,
            "grid_area": null,
            "grid_auto_columns": null,
            "grid_auto_flow": null,
            "grid_auto_rows": null,
            "grid_column": null,
            "grid_gap": null,
            "grid_row": null,
            "grid_template_areas": null,
            "grid_template_columns": null,
            "grid_template_rows": null,
            "height": null,
            "justify_content": null,
            "justify_items": null,
            "left": null,
            "margin": null,
            "max_height": null,
            "max_width": null,
            "min_height": null,
            "min_width": null,
            "object_fit": null,
            "object_position": null,
            "order": null,
            "overflow": null,
            "overflow_x": null,
            "overflow_y": null,
            "padding": null,
            "right": null,
            "top": null,
            "visibility": null,
            "width": null
          }
        },
        "39db66b760e3405fb5640e7a38f4490c": {
          "model_module": "@jupyter-widgets/controls",
          "model_name": "ProgressStyleModel",
          "model_module_version": "1.5.0",
          "state": {
            "_model_module": "@jupyter-widgets/controls",
            "_model_module_version": "1.5.0",
            "_model_name": "ProgressStyleModel",
            "_view_count": null,
            "_view_module": "@jupyter-widgets/base",
            "_view_module_version": "1.2.0",
            "_view_name": "StyleView",
            "bar_color": null,
            "description_width": ""
          }
        },
        "9875f3640eae4ef8b77a0eef8fab99b5": {
          "model_module": "@jupyter-widgets/base",
          "model_name": "LayoutModel",
          "model_module_version": "1.2.0",
          "state": {
            "_model_module": "@jupyter-widgets/base",
            "_model_module_version": "1.2.0",
            "_model_name": "LayoutModel",
            "_view_count": null,
            "_view_module": "@jupyter-widgets/base",
            "_view_module_version": "1.2.0",
            "_view_name": "LayoutView",
            "align_content": null,
            "align_items": null,
            "align_self": null,
            "border": null,
            "bottom": null,
            "display": null,
            "flex": null,
            "flex_flow": null,
            "grid_area": null,
            "grid_auto_columns": null,
            "grid_auto_flow": null,
            "grid_auto_rows": null,
            "grid_column": null,
            "grid_gap": null,
            "grid_row": null,
            "grid_template_areas": null,
            "grid_template_columns": null,
            "grid_template_rows": null,
            "height": null,
            "justify_content": null,
            "justify_items": null,
            "left": null,
            "margin": null,
            "max_height": null,
            "max_width": null,
            "min_height": null,
            "min_width": null,
            "object_fit": null,
            "object_position": null,
            "order": null,
            "overflow": null,
            "overflow_x": null,
            "overflow_y": null,
            "padding": null,
            "right": null,
            "top": null,
            "visibility": null,
            "width": null
          }
        },
        "d379a1a600f44a06a3922f87dd5e3fa2": {
          "model_module": "@jupyter-widgets/controls",
          "model_name": "DescriptionStyleModel",
          "model_module_version": "1.5.0",
          "state": {
            "_model_module": "@jupyter-widgets/controls",
            "_model_module_version": "1.5.0",
            "_model_name": "DescriptionStyleModel",
            "_view_count": null,
            "_view_module": "@jupyter-widgets/base",
            "_view_module_version": "1.2.0",
            "_view_name": "StyleView",
            "description_width": ""
          }
        },
        "898623e4f47c4f3e8982395cdccd2b20": {
          "model_module": "@jupyter-widgets/controls",
          "model_name": "HBoxModel",
          "model_module_version": "1.5.0",
          "state": {
            "_dom_classes": [],
            "_model_module": "@jupyter-widgets/controls",
            "_model_module_version": "1.5.0",
            "_model_name": "HBoxModel",
            "_view_count": null,
            "_view_module": "@jupyter-widgets/controls",
            "_view_module_version": "1.5.0",
            "_view_name": "HBoxView",
            "box_style": "",
            "children": [
              "IPY_MODEL_7aea6d6efa8a43ca9d4179c4783c3cea",
              "IPY_MODEL_cd0e1eb9e8114fb18b3bff784ee25eea",
              "IPY_MODEL_38c6b7bf017d46558c83965fca91669e"
            ],
            "layout": "IPY_MODEL_64040009a26d445bbbe7dce12819ea66"
          }
        },
        "7aea6d6efa8a43ca9d4179c4783c3cea": {
          "model_module": "@jupyter-widgets/controls",
          "model_name": "HTMLModel",
          "model_module_version": "1.5.0",
          "state": {
            "_dom_classes": [],
            "_model_module": "@jupyter-widgets/controls",
            "_model_module_version": "1.5.0",
            "_model_name": "HTMLModel",
            "_view_count": null,
            "_view_module": "@jupyter-widgets/controls",
            "_view_module_version": "1.5.0",
            "_view_name": "HTMLView",
            "description": "",
            "description_tooltip": null,
            "layout": "IPY_MODEL_0ea716f5dcdb4e2eac60e388ac05c190",
            "placeholder": "​",
            "style": "IPY_MODEL_c9ae7e0f461f4f1e9a8a9347812170c3",
            "value": "vocab.txt: 100%"
          }
        },
        "cd0e1eb9e8114fb18b3bff784ee25eea": {
          "model_module": "@jupyter-widgets/controls",
          "model_name": "FloatProgressModel",
          "model_module_version": "1.5.0",
          "state": {
            "_dom_classes": [],
            "_model_module": "@jupyter-widgets/controls",
            "_model_module_version": "1.5.0",
            "_model_name": "FloatProgressModel",
            "_view_count": null,
            "_view_module": "@jupyter-widgets/controls",
            "_view_module_version": "1.5.0",
            "_view_name": "ProgressView",
            "bar_style": "success",
            "description": "",
            "description_tooltip": null,
            "layout": "IPY_MODEL_c075398a1719429b92f63279468fb175",
            "max": 231508,
            "min": 0,
            "orientation": "horizontal",
            "style": "IPY_MODEL_b444802f6284496c8d8787ec91d5fe6a",
            "value": 231508
          }
        },
        "38c6b7bf017d46558c83965fca91669e": {
          "model_module": "@jupyter-widgets/controls",
          "model_name": "HTMLModel",
          "model_module_version": "1.5.0",
          "state": {
            "_dom_classes": [],
            "_model_module": "@jupyter-widgets/controls",
            "_model_module_version": "1.5.0",
            "_model_name": "HTMLModel",
            "_view_count": null,
            "_view_module": "@jupyter-widgets/controls",
            "_view_module_version": "1.5.0",
            "_view_name": "HTMLView",
            "description": "",
            "description_tooltip": null,
            "layout": "IPY_MODEL_3173fb6bdf754422be8fccf49eecc330",
            "placeholder": "​",
            "style": "IPY_MODEL_dc497b0703a64f3096856cf5569423ea",
            "value": " 232k/232k [00:00&lt;00:00, 4.28MB/s]"
          }
        },
        "64040009a26d445bbbe7dce12819ea66": {
          "model_module": "@jupyter-widgets/base",
          "model_name": "LayoutModel",
          "model_module_version": "1.2.0",
          "state": {
            "_model_module": "@jupyter-widgets/base",
            "_model_module_version": "1.2.0",
            "_model_name": "LayoutModel",
            "_view_count": null,
            "_view_module": "@jupyter-widgets/base",
            "_view_module_version": "1.2.0",
            "_view_name": "LayoutView",
            "align_content": null,
            "align_items": null,
            "align_self": null,
            "border": null,
            "bottom": null,
            "display": null,
            "flex": null,
            "flex_flow": null,
            "grid_area": null,
            "grid_auto_columns": null,
            "grid_auto_flow": null,
            "grid_auto_rows": null,
            "grid_column": null,
            "grid_gap": null,
            "grid_row": null,
            "grid_template_areas": null,
            "grid_template_columns": null,
            "grid_template_rows": null,
            "height": null,
            "justify_content": null,
            "justify_items": null,
            "left": null,
            "margin": null,
            "max_height": null,
            "max_width": null,
            "min_height": null,
            "min_width": null,
            "object_fit": null,
            "object_position": null,
            "order": null,
            "overflow": null,
            "overflow_x": null,
            "overflow_y": null,
            "padding": null,
            "right": null,
            "top": null,
            "visibility": null,
            "width": null
          }
        },
        "0ea716f5dcdb4e2eac60e388ac05c190": {
          "model_module": "@jupyter-widgets/base",
          "model_name": "LayoutModel",
          "model_module_version": "1.2.0",
          "state": {
            "_model_module": "@jupyter-widgets/base",
            "_model_module_version": "1.2.0",
            "_model_name": "LayoutModel",
            "_view_count": null,
            "_view_module": "@jupyter-widgets/base",
            "_view_module_version": "1.2.0",
            "_view_name": "LayoutView",
            "align_content": null,
            "align_items": null,
            "align_self": null,
            "border": null,
            "bottom": null,
            "display": null,
            "flex": null,
            "flex_flow": null,
            "grid_area": null,
            "grid_auto_columns": null,
            "grid_auto_flow": null,
            "grid_auto_rows": null,
            "grid_column": null,
            "grid_gap": null,
            "grid_row": null,
            "grid_template_areas": null,
            "grid_template_columns": null,
            "grid_template_rows": null,
            "height": null,
            "justify_content": null,
            "justify_items": null,
            "left": null,
            "margin": null,
            "max_height": null,
            "max_width": null,
            "min_height": null,
            "min_width": null,
            "object_fit": null,
            "object_position": null,
            "order": null,
            "overflow": null,
            "overflow_x": null,
            "overflow_y": null,
            "padding": null,
            "right": null,
            "top": null,
            "visibility": null,
            "width": null
          }
        },
        "c9ae7e0f461f4f1e9a8a9347812170c3": {
          "model_module": "@jupyter-widgets/controls",
          "model_name": "DescriptionStyleModel",
          "model_module_version": "1.5.0",
          "state": {
            "_model_module": "@jupyter-widgets/controls",
            "_model_module_version": "1.5.0",
            "_model_name": "DescriptionStyleModel",
            "_view_count": null,
            "_view_module": "@jupyter-widgets/base",
            "_view_module_version": "1.2.0",
            "_view_name": "StyleView",
            "description_width": ""
          }
        },
        "c075398a1719429b92f63279468fb175": {
          "model_module": "@jupyter-widgets/base",
          "model_name": "LayoutModel",
          "model_module_version": "1.2.0",
          "state": {
            "_model_module": "@jupyter-widgets/base",
            "_model_module_version": "1.2.0",
            "_model_name": "LayoutModel",
            "_view_count": null,
            "_view_module": "@jupyter-widgets/base",
            "_view_module_version": "1.2.0",
            "_view_name": "LayoutView",
            "align_content": null,
            "align_items": null,
            "align_self": null,
            "border": null,
            "bottom": null,
            "display": null,
            "flex": null,
            "flex_flow": null,
            "grid_area": null,
            "grid_auto_columns": null,
            "grid_auto_flow": null,
            "grid_auto_rows": null,
            "grid_column": null,
            "grid_gap": null,
            "grid_row": null,
            "grid_template_areas": null,
            "grid_template_columns": null,
            "grid_template_rows": null,
            "height": null,
            "justify_content": null,
            "justify_items": null,
            "left": null,
            "margin": null,
            "max_height": null,
            "max_width": null,
            "min_height": null,
            "min_width": null,
            "object_fit": null,
            "object_position": null,
            "order": null,
            "overflow": null,
            "overflow_x": null,
            "overflow_y": null,
            "padding": null,
            "right": null,
            "top": null,
            "visibility": null,
            "width": null
          }
        },
        "b444802f6284496c8d8787ec91d5fe6a": {
          "model_module": "@jupyter-widgets/controls",
          "model_name": "ProgressStyleModel",
          "model_module_version": "1.5.0",
          "state": {
            "_model_module": "@jupyter-widgets/controls",
            "_model_module_version": "1.5.0",
            "_model_name": "ProgressStyleModel",
            "_view_count": null,
            "_view_module": "@jupyter-widgets/base",
            "_view_module_version": "1.2.0",
            "_view_name": "StyleView",
            "bar_color": null,
            "description_width": ""
          }
        },
        "3173fb6bdf754422be8fccf49eecc330": {
          "model_module": "@jupyter-widgets/base",
          "model_name": "LayoutModel",
          "model_module_version": "1.2.0",
          "state": {
            "_model_module": "@jupyter-widgets/base",
            "_model_module_version": "1.2.0",
            "_model_name": "LayoutModel",
            "_view_count": null,
            "_view_module": "@jupyter-widgets/base",
            "_view_module_version": "1.2.0",
            "_view_name": "LayoutView",
            "align_content": null,
            "align_items": null,
            "align_self": null,
            "border": null,
            "bottom": null,
            "display": null,
            "flex": null,
            "flex_flow": null,
            "grid_area": null,
            "grid_auto_columns": null,
            "grid_auto_flow": null,
            "grid_auto_rows": null,
            "grid_column": null,
            "grid_gap": null,
            "grid_row": null,
            "grid_template_areas": null,
            "grid_template_columns": null,
            "grid_template_rows": null,
            "height": null,
            "justify_content": null,
            "justify_items": null,
            "left": null,
            "margin": null,
            "max_height": null,
            "max_width": null,
            "min_height": null,
            "min_width": null,
            "object_fit": null,
            "object_position": null,
            "order": null,
            "overflow": null,
            "overflow_x": null,
            "overflow_y": null,
            "padding": null,
            "right": null,
            "top": null,
            "visibility": null,
            "width": null
          }
        },
        "dc497b0703a64f3096856cf5569423ea": {
          "model_module": "@jupyter-widgets/controls",
          "model_name": "DescriptionStyleModel",
          "model_module_version": "1.5.0",
          "state": {
            "_model_module": "@jupyter-widgets/controls",
            "_model_module_version": "1.5.0",
            "_model_name": "DescriptionStyleModel",
            "_view_count": null,
            "_view_module": "@jupyter-widgets/base",
            "_view_module_version": "1.2.0",
            "_view_name": "StyleView",
            "description_width": ""
          }
        },
        "1165ce65deda43cd9153900eaaa1b797": {
          "model_module": "@jupyter-widgets/controls",
          "model_name": "HBoxModel",
          "model_module_version": "1.5.0",
          "state": {
            "_dom_classes": [],
            "_model_module": "@jupyter-widgets/controls",
            "_model_module_version": "1.5.0",
            "_model_name": "HBoxModel",
            "_view_count": null,
            "_view_module": "@jupyter-widgets/controls",
            "_view_module_version": "1.5.0",
            "_view_name": "HBoxView",
            "box_style": "",
            "children": [
              "IPY_MODEL_0dca9a98cf4e4da89d6451878fe21d3e",
              "IPY_MODEL_9d666f43fe3c4910aa6b350f0169d439",
              "IPY_MODEL_9e9594ffc1f34127a2f1111d2455aedc"
            ],
            "layout": "IPY_MODEL_a0202a541e064a14b34a2f78ac83a311"
          }
        },
        "0dca9a98cf4e4da89d6451878fe21d3e": {
          "model_module": "@jupyter-widgets/controls",
          "model_name": "HTMLModel",
          "model_module_version": "1.5.0",
          "state": {
            "_dom_classes": [],
            "_model_module": "@jupyter-widgets/controls",
            "_model_module_version": "1.5.0",
            "_model_name": "HTMLModel",
            "_view_count": null,
            "_view_module": "@jupyter-widgets/controls",
            "_view_module_version": "1.5.0",
            "_view_name": "HTMLView",
            "description": "",
            "description_tooltip": null,
            "layout": "IPY_MODEL_98737f6655524baa95e4223e9bef35fe",
            "placeholder": "​",
            "style": "IPY_MODEL_c3ddb0e23efb47bbaadf8764f9514e2e",
            "value": "tokenizer.json: 100%"
          }
        },
        "9d666f43fe3c4910aa6b350f0169d439": {
          "model_module": "@jupyter-widgets/controls",
          "model_name": "FloatProgressModel",
          "model_module_version": "1.5.0",
          "state": {
            "_dom_classes": [],
            "_model_module": "@jupyter-widgets/controls",
            "_model_module_version": "1.5.0",
            "_model_name": "FloatProgressModel",
            "_view_count": null,
            "_view_module": "@jupyter-widgets/controls",
            "_view_module_version": "1.5.0",
            "_view_name": "ProgressView",
            "bar_style": "success",
            "description": "",
            "description_tooltip": null,
            "layout": "IPY_MODEL_250e0e786db243129a515b3a9bbf1295",
            "max": 466062,
            "min": 0,
            "orientation": "horizontal",
            "style": "IPY_MODEL_dd3c2ff8276b403ea8240e48609c078a",
            "value": 466062
          }
        },
        "9e9594ffc1f34127a2f1111d2455aedc": {
          "model_module": "@jupyter-widgets/controls",
          "model_name": "HTMLModel",
          "model_module_version": "1.5.0",
          "state": {
            "_dom_classes": [],
            "_model_module": "@jupyter-widgets/controls",
            "_model_module_version": "1.5.0",
            "_model_name": "HTMLModel",
            "_view_count": null,
            "_view_module": "@jupyter-widgets/controls",
            "_view_module_version": "1.5.0",
            "_view_name": "HTMLView",
            "description": "",
            "description_tooltip": null,
            "layout": "IPY_MODEL_8f58e4f3d5be4e57b98207a45a51b9ca",
            "placeholder": "​",
            "style": "IPY_MODEL_1b2d6786d71a43d1a92d1f399f040a87",
            "value": " 466k/466k [00:00&lt;00:00, 8.66MB/s]"
          }
        },
        "a0202a541e064a14b34a2f78ac83a311": {
          "model_module": "@jupyter-widgets/base",
          "model_name": "LayoutModel",
          "model_module_version": "1.2.0",
          "state": {
            "_model_module": "@jupyter-widgets/base",
            "_model_module_version": "1.2.0",
            "_model_name": "LayoutModel",
            "_view_count": null,
            "_view_module": "@jupyter-widgets/base",
            "_view_module_version": "1.2.0",
            "_view_name": "LayoutView",
            "align_content": null,
            "align_items": null,
            "align_self": null,
            "border": null,
            "bottom": null,
            "display": null,
            "flex": null,
            "flex_flow": null,
            "grid_area": null,
            "grid_auto_columns": null,
            "grid_auto_flow": null,
            "grid_auto_rows": null,
            "grid_column": null,
            "grid_gap": null,
            "grid_row": null,
            "grid_template_areas": null,
            "grid_template_columns": null,
            "grid_template_rows": null,
            "height": null,
            "justify_content": null,
            "justify_items": null,
            "left": null,
            "margin": null,
            "max_height": null,
            "max_width": null,
            "min_height": null,
            "min_width": null,
            "object_fit": null,
            "object_position": null,
            "order": null,
            "overflow": null,
            "overflow_x": null,
            "overflow_y": null,
            "padding": null,
            "right": null,
            "top": null,
            "visibility": null,
            "width": null
          }
        },
        "98737f6655524baa95e4223e9bef35fe": {
          "model_module": "@jupyter-widgets/base",
          "model_name": "LayoutModel",
          "model_module_version": "1.2.0",
          "state": {
            "_model_module": "@jupyter-widgets/base",
            "_model_module_version": "1.2.0",
            "_model_name": "LayoutModel",
            "_view_count": null,
            "_view_module": "@jupyter-widgets/base",
            "_view_module_version": "1.2.0",
            "_view_name": "LayoutView",
            "align_content": null,
            "align_items": null,
            "align_self": null,
            "border": null,
            "bottom": null,
            "display": null,
            "flex": null,
            "flex_flow": null,
            "grid_area": null,
            "grid_auto_columns": null,
            "grid_auto_flow": null,
            "grid_auto_rows": null,
            "grid_column": null,
            "grid_gap": null,
            "grid_row": null,
            "grid_template_areas": null,
            "grid_template_columns": null,
            "grid_template_rows": null,
            "height": null,
            "justify_content": null,
            "justify_items": null,
            "left": null,
            "margin": null,
            "max_height": null,
            "max_width": null,
            "min_height": null,
            "min_width": null,
            "object_fit": null,
            "object_position": null,
            "order": null,
            "overflow": null,
            "overflow_x": null,
            "overflow_y": null,
            "padding": null,
            "right": null,
            "top": null,
            "visibility": null,
            "width": null
          }
        },
        "c3ddb0e23efb47bbaadf8764f9514e2e": {
          "model_module": "@jupyter-widgets/controls",
          "model_name": "DescriptionStyleModel",
          "model_module_version": "1.5.0",
          "state": {
            "_model_module": "@jupyter-widgets/controls",
            "_model_module_version": "1.5.0",
            "_model_name": "DescriptionStyleModel",
            "_view_count": null,
            "_view_module": "@jupyter-widgets/base",
            "_view_module_version": "1.2.0",
            "_view_name": "StyleView",
            "description_width": ""
          }
        },
        "250e0e786db243129a515b3a9bbf1295": {
          "model_module": "@jupyter-widgets/base",
          "model_name": "LayoutModel",
          "model_module_version": "1.2.0",
          "state": {
            "_model_module": "@jupyter-widgets/base",
            "_model_module_version": "1.2.0",
            "_model_name": "LayoutModel",
            "_view_count": null,
            "_view_module": "@jupyter-widgets/base",
            "_view_module_version": "1.2.0",
            "_view_name": "LayoutView",
            "align_content": null,
            "align_items": null,
            "align_self": null,
            "border": null,
            "bottom": null,
            "display": null,
            "flex": null,
            "flex_flow": null,
            "grid_area": null,
            "grid_auto_columns": null,
            "grid_auto_flow": null,
            "grid_auto_rows": null,
            "grid_column": null,
            "grid_gap": null,
            "grid_row": null,
            "grid_template_areas": null,
            "grid_template_columns": null,
            "grid_template_rows": null,
            "height": null,
            "justify_content": null,
            "justify_items": null,
            "left": null,
            "margin": null,
            "max_height": null,
            "max_width": null,
            "min_height": null,
            "min_width": null,
            "object_fit": null,
            "object_position": null,
            "order": null,
            "overflow": null,
            "overflow_x": null,
            "overflow_y": null,
            "padding": null,
            "right": null,
            "top": null,
            "visibility": null,
            "width": null
          }
        },
        "dd3c2ff8276b403ea8240e48609c078a": {
          "model_module": "@jupyter-widgets/controls",
          "model_name": "ProgressStyleModel",
          "model_module_version": "1.5.0",
          "state": {
            "_model_module": "@jupyter-widgets/controls",
            "_model_module_version": "1.5.0",
            "_model_name": "ProgressStyleModel",
            "_view_count": null,
            "_view_module": "@jupyter-widgets/base",
            "_view_module_version": "1.2.0",
            "_view_name": "StyleView",
            "bar_color": null,
            "description_width": ""
          }
        },
        "8f58e4f3d5be4e57b98207a45a51b9ca": {
          "model_module": "@jupyter-widgets/base",
          "model_name": "LayoutModel",
          "model_module_version": "1.2.0",
          "state": {
            "_model_module": "@jupyter-widgets/base",
            "_model_module_version": "1.2.0",
            "_model_name": "LayoutModel",
            "_view_count": null,
            "_view_module": "@jupyter-widgets/base",
            "_view_module_version": "1.2.0",
            "_view_name": "LayoutView",
            "align_content": null,
            "align_items": null,
            "align_self": null,
            "border": null,
            "bottom": null,
            "display": null,
            "flex": null,
            "flex_flow": null,
            "grid_area": null,
            "grid_auto_columns": null,
            "grid_auto_flow": null,
            "grid_auto_rows": null,
            "grid_column": null,
            "grid_gap": null,
            "grid_row": null,
            "grid_template_areas": null,
            "grid_template_columns": null,
            "grid_template_rows": null,
            "height": null,
            "justify_content": null,
            "justify_items": null,
            "left": null,
            "margin": null,
            "max_height": null,
            "max_width": null,
            "min_height": null,
            "min_width": null,
            "object_fit": null,
            "object_position": null,
            "order": null,
            "overflow": null,
            "overflow_x": null,
            "overflow_y": null,
            "padding": null,
            "right": null,
            "top": null,
            "visibility": null,
            "width": null
          }
        },
        "1b2d6786d71a43d1a92d1f399f040a87": {
          "model_module": "@jupyter-widgets/controls",
          "model_name": "DescriptionStyleModel",
          "model_module_version": "1.5.0",
          "state": {
            "_model_module": "@jupyter-widgets/controls",
            "_model_module_version": "1.5.0",
            "_model_name": "DescriptionStyleModel",
            "_view_count": null,
            "_view_module": "@jupyter-widgets/base",
            "_view_module_version": "1.2.0",
            "_view_name": "StyleView",
            "description_width": ""
          }
        },
        "1b7f8f60888943c0af0aae21e480f4ad": {
          "model_module": "@jupyter-widgets/controls",
          "model_name": "HBoxModel",
          "model_module_version": "1.5.0",
          "state": {
            "_dom_classes": [],
            "_model_module": "@jupyter-widgets/controls",
            "_model_module_version": "1.5.0",
            "_model_name": "HBoxModel",
            "_view_count": null,
            "_view_module": "@jupyter-widgets/controls",
            "_view_module_version": "1.5.0",
            "_view_name": "HBoxView",
            "box_style": "",
            "children": [
              "IPY_MODEL_2a8b2fb4f6154e0fb159b54d534e06f4",
              "IPY_MODEL_1808dfc2f9664df2ada6b09cf88c4b40",
              "IPY_MODEL_bc95c9749acb49a6a10caeacbb7d32fa"
            ],
            "layout": "IPY_MODEL_4c62354b5e63429288428c9ceb62c2b2"
          }
        },
        "2a8b2fb4f6154e0fb159b54d534e06f4": {
          "model_module": "@jupyter-widgets/controls",
          "model_name": "HTMLModel",
          "model_module_version": "1.5.0",
          "state": {
            "_dom_classes": [],
            "_model_module": "@jupyter-widgets/controls",
            "_model_module_version": "1.5.0",
            "_model_name": "HTMLModel",
            "_view_count": null,
            "_view_module": "@jupyter-widgets/controls",
            "_view_module_version": "1.5.0",
            "_view_name": "HTMLView",
            "description": "",
            "description_tooltip": null,
            "layout": "IPY_MODEL_87d8867f5d4c449380538b5022123871",
            "placeholder": "​",
            "style": "IPY_MODEL_686d459b73304cbbbe1651e79e9d1bdc",
            "value": "config.json: 100%"
          }
        },
        "1808dfc2f9664df2ada6b09cf88c4b40": {
          "model_module": "@jupyter-widgets/controls",
          "model_name": "FloatProgressModel",
          "model_module_version": "1.5.0",
          "state": {
            "_dom_classes": [],
            "_model_module": "@jupyter-widgets/controls",
            "_model_module_version": "1.5.0",
            "_model_name": "FloatProgressModel",
            "_view_count": null,
            "_view_module": "@jupyter-widgets/controls",
            "_view_module_version": "1.5.0",
            "_view_name": "ProgressView",
            "bar_style": "success",
            "description": "",
            "description_tooltip": null,
            "layout": "IPY_MODEL_91be884e8be34e518a4b43a1efe2b737",
            "max": 570,
            "min": 0,
            "orientation": "horizontal",
            "style": "IPY_MODEL_8e590b5fbb274ba1af2917430081230f",
            "value": 570
          }
        },
        "bc95c9749acb49a6a10caeacbb7d32fa": {
          "model_module": "@jupyter-widgets/controls",
          "model_name": "HTMLModel",
          "model_module_version": "1.5.0",
          "state": {
            "_dom_classes": [],
            "_model_module": "@jupyter-widgets/controls",
            "_model_module_version": "1.5.0",
            "_model_name": "HTMLModel",
            "_view_count": null,
            "_view_module": "@jupyter-widgets/controls",
            "_view_module_version": "1.5.0",
            "_view_name": "HTMLView",
            "description": "",
            "description_tooltip": null,
            "layout": "IPY_MODEL_5d8472f0a8214f23881239b75ca094c5",
            "placeholder": "​",
            "style": "IPY_MODEL_3b75d7f9d9d34a05865c3c64d57b28a7",
            "value": " 570/570 [00:00&lt;00:00, 26.7kB/s]"
          }
        },
        "4c62354b5e63429288428c9ceb62c2b2": {
          "model_module": "@jupyter-widgets/base",
          "model_name": "LayoutModel",
          "model_module_version": "1.2.0",
          "state": {
            "_model_module": "@jupyter-widgets/base",
            "_model_module_version": "1.2.0",
            "_model_name": "LayoutModel",
            "_view_count": null,
            "_view_module": "@jupyter-widgets/base",
            "_view_module_version": "1.2.0",
            "_view_name": "LayoutView",
            "align_content": null,
            "align_items": null,
            "align_self": null,
            "border": null,
            "bottom": null,
            "display": null,
            "flex": null,
            "flex_flow": null,
            "grid_area": null,
            "grid_auto_columns": null,
            "grid_auto_flow": null,
            "grid_auto_rows": null,
            "grid_column": null,
            "grid_gap": null,
            "grid_row": null,
            "grid_template_areas": null,
            "grid_template_columns": null,
            "grid_template_rows": null,
            "height": null,
            "justify_content": null,
            "justify_items": null,
            "left": null,
            "margin": null,
            "max_height": null,
            "max_width": null,
            "min_height": null,
            "min_width": null,
            "object_fit": null,
            "object_position": null,
            "order": null,
            "overflow": null,
            "overflow_x": null,
            "overflow_y": null,
            "padding": null,
            "right": null,
            "top": null,
            "visibility": null,
            "width": null
          }
        },
        "87d8867f5d4c449380538b5022123871": {
          "model_module": "@jupyter-widgets/base",
          "model_name": "LayoutModel",
          "model_module_version": "1.2.0",
          "state": {
            "_model_module": "@jupyter-widgets/base",
            "_model_module_version": "1.2.0",
            "_model_name": "LayoutModel",
            "_view_count": null,
            "_view_module": "@jupyter-widgets/base",
            "_view_module_version": "1.2.0",
            "_view_name": "LayoutView",
            "align_content": null,
            "align_items": null,
            "align_self": null,
            "border": null,
            "bottom": null,
            "display": null,
            "flex": null,
            "flex_flow": null,
            "grid_area": null,
            "grid_auto_columns": null,
            "grid_auto_flow": null,
            "grid_auto_rows": null,
            "grid_column": null,
            "grid_gap": null,
            "grid_row": null,
            "grid_template_areas": null,
            "grid_template_columns": null,
            "grid_template_rows": null,
            "height": null,
            "justify_content": null,
            "justify_items": null,
            "left": null,
            "margin": null,
            "max_height": null,
            "max_width": null,
            "min_height": null,
            "min_width": null,
            "object_fit": null,
            "object_position": null,
            "order": null,
            "overflow": null,
            "overflow_x": null,
            "overflow_y": null,
            "padding": null,
            "right": null,
            "top": null,
            "visibility": null,
            "width": null
          }
        },
        "686d459b73304cbbbe1651e79e9d1bdc": {
          "model_module": "@jupyter-widgets/controls",
          "model_name": "DescriptionStyleModel",
          "model_module_version": "1.5.0",
          "state": {
            "_model_module": "@jupyter-widgets/controls",
            "_model_module_version": "1.5.0",
            "_model_name": "DescriptionStyleModel",
            "_view_count": null,
            "_view_module": "@jupyter-widgets/base",
            "_view_module_version": "1.2.0",
            "_view_name": "StyleView",
            "description_width": ""
          }
        },
        "91be884e8be34e518a4b43a1efe2b737": {
          "model_module": "@jupyter-widgets/base",
          "model_name": "LayoutModel",
          "model_module_version": "1.2.0",
          "state": {
            "_model_module": "@jupyter-widgets/base",
            "_model_module_version": "1.2.0",
            "_model_name": "LayoutModel",
            "_view_count": null,
            "_view_module": "@jupyter-widgets/base",
            "_view_module_version": "1.2.0",
            "_view_name": "LayoutView",
            "align_content": null,
            "align_items": null,
            "align_self": null,
            "border": null,
            "bottom": null,
            "display": null,
            "flex": null,
            "flex_flow": null,
            "grid_area": null,
            "grid_auto_columns": null,
            "grid_auto_flow": null,
            "grid_auto_rows": null,
            "grid_column": null,
            "grid_gap": null,
            "grid_row": null,
            "grid_template_areas": null,
            "grid_template_columns": null,
            "grid_template_rows": null,
            "height": null,
            "justify_content": null,
            "justify_items": null,
            "left": null,
            "margin": null,
            "max_height": null,
            "max_width": null,
            "min_height": null,
            "min_width": null,
            "object_fit": null,
            "object_position": null,
            "order": null,
            "overflow": null,
            "overflow_x": null,
            "overflow_y": null,
            "padding": null,
            "right": null,
            "top": null,
            "visibility": null,
            "width": null
          }
        },
        "8e590b5fbb274ba1af2917430081230f": {
          "model_module": "@jupyter-widgets/controls",
          "model_name": "ProgressStyleModel",
          "model_module_version": "1.5.0",
          "state": {
            "_model_module": "@jupyter-widgets/controls",
            "_model_module_version": "1.5.0",
            "_model_name": "ProgressStyleModel",
            "_view_count": null,
            "_view_module": "@jupyter-widgets/base",
            "_view_module_version": "1.2.0",
            "_view_name": "StyleView",
            "bar_color": null,
            "description_width": ""
          }
        },
        "5d8472f0a8214f23881239b75ca094c5": {
          "model_module": "@jupyter-widgets/base",
          "model_name": "LayoutModel",
          "model_module_version": "1.2.0",
          "state": {
            "_model_module": "@jupyter-widgets/base",
            "_model_module_version": "1.2.0",
            "_model_name": "LayoutModel",
            "_view_count": null,
            "_view_module": "@jupyter-widgets/base",
            "_view_module_version": "1.2.0",
            "_view_name": "LayoutView",
            "align_content": null,
            "align_items": null,
            "align_self": null,
            "border": null,
            "bottom": null,
            "display": null,
            "flex": null,
            "flex_flow": null,
            "grid_area": null,
            "grid_auto_columns": null,
            "grid_auto_flow": null,
            "grid_auto_rows": null,
            "grid_column": null,
            "grid_gap": null,
            "grid_row": null,
            "grid_template_areas": null,
            "grid_template_columns": null,
            "grid_template_rows": null,
            "height": null,
            "justify_content": null,
            "justify_items": null,
            "left": null,
            "margin": null,
            "max_height": null,
            "max_width": null,
            "min_height": null,
            "min_width": null,
            "object_fit": null,
            "object_position": null,
            "order": null,
            "overflow": null,
            "overflow_x": null,
            "overflow_y": null,
            "padding": null,
            "right": null,
            "top": null,
            "visibility": null,
            "width": null
          }
        },
        "3b75d7f9d9d34a05865c3c64d57b28a7": {
          "model_module": "@jupyter-widgets/controls",
          "model_name": "DescriptionStyleModel",
          "model_module_version": "1.5.0",
          "state": {
            "_model_module": "@jupyter-widgets/controls",
            "_model_module_version": "1.5.0",
            "_model_name": "DescriptionStyleModel",
            "_view_count": null,
            "_view_module": "@jupyter-widgets/base",
            "_view_module_version": "1.2.0",
            "_view_name": "StyleView",
            "description_width": ""
          }
        },
        "ff15380c440c4916986945f43249eb07": {
          "model_module": "@jupyter-widgets/controls",
          "model_name": "HBoxModel",
          "model_module_version": "1.5.0",
          "state": {
            "_dom_classes": [],
            "_model_module": "@jupyter-widgets/controls",
            "_model_module_version": "1.5.0",
            "_model_name": "HBoxModel",
            "_view_count": null,
            "_view_module": "@jupyter-widgets/controls",
            "_view_module_version": "1.5.0",
            "_view_name": "HBoxView",
            "box_style": "",
            "children": [
              "IPY_MODEL_49c67717092847edb5db262c1841df94",
              "IPY_MODEL_7d6ec14428884bf18dfe8e2ec4fa6a74",
              "IPY_MODEL_1a1e58533e58400ca9ceb23bf9867273"
            ],
            "layout": "IPY_MODEL_8c52d029e93149e0a90a6469a15f50a9"
          }
        },
        "49c67717092847edb5db262c1841df94": {
          "model_module": "@jupyter-widgets/controls",
          "model_name": "HTMLModel",
          "model_module_version": "1.5.0",
          "state": {
            "_dom_classes": [],
            "_model_module": "@jupyter-widgets/controls",
            "_model_module_version": "1.5.0",
            "_model_name": "HTMLModel",
            "_view_count": null,
            "_view_module": "@jupyter-widgets/controls",
            "_view_module_version": "1.5.0",
            "_view_name": "HTMLView",
            "description": "",
            "description_tooltip": null,
            "layout": "IPY_MODEL_2b6f2683e54f44e9802277f50af34f9b",
            "placeholder": "​",
            "style": "IPY_MODEL_27cfb6493d1346fb812b6d63fdc41216",
            "value": "model.safetensors: 100%"
          }
        },
        "7d6ec14428884bf18dfe8e2ec4fa6a74": {
          "model_module": "@jupyter-widgets/controls",
          "model_name": "FloatProgressModel",
          "model_module_version": "1.5.0",
          "state": {
            "_dom_classes": [],
            "_model_module": "@jupyter-widgets/controls",
            "_model_module_version": "1.5.0",
            "_model_name": "FloatProgressModel",
            "_view_count": null,
            "_view_module": "@jupyter-widgets/controls",
            "_view_module_version": "1.5.0",
            "_view_name": "ProgressView",
            "bar_style": "success",
            "description": "",
            "description_tooltip": null,
            "layout": "IPY_MODEL_016639062d664caba092a1ab7aec1735",
            "max": 440449768,
            "min": 0,
            "orientation": "horizontal",
            "style": "IPY_MODEL_214f6de9c51a4eda887b847b450bfaee",
            "value": 440449768
          }
        },
        "1a1e58533e58400ca9ceb23bf9867273": {
          "model_module": "@jupyter-widgets/controls",
          "model_name": "HTMLModel",
          "model_module_version": "1.5.0",
          "state": {
            "_dom_classes": [],
            "_model_module": "@jupyter-widgets/controls",
            "_model_module_version": "1.5.0",
            "_model_name": "HTMLModel",
            "_view_count": null,
            "_view_module": "@jupyter-widgets/controls",
            "_view_module_version": "1.5.0",
            "_view_name": "HTMLView",
            "description": "",
            "description_tooltip": null,
            "layout": "IPY_MODEL_db4847ba6be2411794781ffa2ad00acd",
            "placeholder": "​",
            "style": "IPY_MODEL_396f8ed523a9448291a6e07f551f925f",
            "value": " 440M/440M [00:05&lt;00:00, 157MB/s]"
          }
        },
        "8c52d029e93149e0a90a6469a15f50a9": {
          "model_module": "@jupyter-widgets/base",
          "model_name": "LayoutModel",
          "model_module_version": "1.2.0",
          "state": {
            "_model_module": "@jupyter-widgets/base",
            "_model_module_version": "1.2.0",
            "_model_name": "LayoutModel",
            "_view_count": null,
            "_view_module": "@jupyter-widgets/base",
            "_view_module_version": "1.2.0",
            "_view_name": "LayoutView",
            "align_content": null,
            "align_items": null,
            "align_self": null,
            "border": null,
            "bottom": null,
            "display": null,
            "flex": null,
            "flex_flow": null,
            "grid_area": null,
            "grid_auto_columns": null,
            "grid_auto_flow": null,
            "grid_auto_rows": null,
            "grid_column": null,
            "grid_gap": null,
            "grid_row": null,
            "grid_template_areas": null,
            "grid_template_columns": null,
            "grid_template_rows": null,
            "height": null,
            "justify_content": null,
            "justify_items": null,
            "left": null,
            "margin": null,
            "max_height": null,
            "max_width": null,
            "min_height": null,
            "min_width": null,
            "object_fit": null,
            "object_position": null,
            "order": null,
            "overflow": null,
            "overflow_x": null,
            "overflow_y": null,
            "padding": null,
            "right": null,
            "top": null,
            "visibility": null,
            "width": null
          }
        },
        "2b6f2683e54f44e9802277f50af34f9b": {
          "model_module": "@jupyter-widgets/base",
          "model_name": "LayoutModel",
          "model_module_version": "1.2.0",
          "state": {
            "_model_module": "@jupyter-widgets/base",
            "_model_module_version": "1.2.0",
            "_model_name": "LayoutModel",
            "_view_count": null,
            "_view_module": "@jupyter-widgets/base",
            "_view_module_version": "1.2.0",
            "_view_name": "LayoutView",
            "align_content": null,
            "align_items": null,
            "align_self": null,
            "border": null,
            "bottom": null,
            "display": null,
            "flex": null,
            "flex_flow": null,
            "grid_area": null,
            "grid_auto_columns": null,
            "grid_auto_flow": null,
            "grid_auto_rows": null,
            "grid_column": null,
            "grid_gap": null,
            "grid_row": null,
            "grid_template_areas": null,
            "grid_template_columns": null,
            "grid_template_rows": null,
            "height": null,
            "justify_content": null,
            "justify_items": null,
            "left": null,
            "margin": null,
            "max_height": null,
            "max_width": null,
            "min_height": null,
            "min_width": null,
            "object_fit": null,
            "object_position": null,
            "order": null,
            "overflow": null,
            "overflow_x": null,
            "overflow_y": null,
            "padding": null,
            "right": null,
            "top": null,
            "visibility": null,
            "width": null
          }
        },
        "27cfb6493d1346fb812b6d63fdc41216": {
          "model_module": "@jupyter-widgets/controls",
          "model_name": "DescriptionStyleModel",
          "model_module_version": "1.5.0",
          "state": {
            "_model_module": "@jupyter-widgets/controls",
            "_model_module_version": "1.5.0",
            "_model_name": "DescriptionStyleModel",
            "_view_count": null,
            "_view_module": "@jupyter-widgets/base",
            "_view_module_version": "1.2.0",
            "_view_name": "StyleView",
            "description_width": ""
          }
        },
        "016639062d664caba092a1ab7aec1735": {
          "model_module": "@jupyter-widgets/base",
          "model_name": "LayoutModel",
          "model_module_version": "1.2.0",
          "state": {
            "_model_module": "@jupyter-widgets/base",
            "_model_module_version": "1.2.0",
            "_model_name": "LayoutModel",
            "_view_count": null,
            "_view_module": "@jupyter-widgets/base",
            "_view_module_version": "1.2.0",
            "_view_name": "LayoutView",
            "align_content": null,
            "align_items": null,
            "align_self": null,
            "border": null,
            "bottom": null,
            "display": null,
            "flex": null,
            "flex_flow": null,
            "grid_area": null,
            "grid_auto_columns": null,
            "grid_auto_flow": null,
            "grid_auto_rows": null,
            "grid_column": null,
            "grid_gap": null,
            "grid_row": null,
            "grid_template_areas": null,
            "grid_template_columns": null,
            "grid_template_rows": null,
            "height": null,
            "justify_content": null,
            "justify_items": null,
            "left": null,
            "margin": null,
            "max_height": null,
            "max_width": null,
            "min_height": null,
            "min_width": null,
            "object_fit": null,
            "object_position": null,
            "order": null,
            "overflow": null,
            "overflow_x": null,
            "overflow_y": null,
            "padding": null,
            "right": null,
            "top": null,
            "visibility": null,
            "width": null
          }
        },
        "214f6de9c51a4eda887b847b450bfaee": {
          "model_module": "@jupyter-widgets/controls",
          "model_name": "ProgressStyleModel",
          "model_module_version": "1.5.0",
          "state": {
            "_model_module": "@jupyter-widgets/controls",
            "_model_module_version": "1.5.0",
            "_model_name": "ProgressStyleModel",
            "_view_count": null,
            "_view_module": "@jupyter-widgets/base",
            "_view_module_version": "1.2.0",
            "_view_name": "StyleView",
            "bar_color": null,
            "description_width": ""
          }
        },
        "db4847ba6be2411794781ffa2ad00acd": {
          "model_module": "@jupyter-widgets/base",
          "model_name": "LayoutModel",
          "model_module_version": "1.2.0",
          "state": {
            "_model_module": "@jupyter-widgets/base",
            "_model_module_version": "1.2.0",
            "_model_name": "LayoutModel",
            "_view_count": null,
            "_view_module": "@jupyter-widgets/base",
            "_view_module_version": "1.2.0",
            "_view_name": "LayoutView",
            "align_content": null,
            "align_items": null,
            "align_self": null,
            "border": null,
            "bottom": null,
            "display": null,
            "flex": null,
            "flex_flow": null,
            "grid_area": null,
            "grid_auto_columns": null,
            "grid_auto_flow": null,
            "grid_auto_rows": null,
            "grid_column": null,
            "grid_gap": null,
            "grid_row": null,
            "grid_template_areas": null,
            "grid_template_columns": null,
            "grid_template_rows": null,
            "height": null,
            "justify_content": null,
            "justify_items": null,
            "left": null,
            "margin": null,
            "max_height": null,
            "max_width": null,
            "min_height": null,
            "min_width": null,
            "object_fit": null,
            "object_position": null,
            "order": null,
            "overflow": null,
            "overflow_x": null,
            "overflow_y": null,
            "padding": null,
            "right": null,
            "top": null,
            "visibility": null,
            "width": null
          }
        },
        "396f8ed523a9448291a6e07f551f925f": {
          "model_module": "@jupyter-widgets/controls",
          "model_name": "DescriptionStyleModel",
          "model_module_version": "1.5.0",
          "state": {
            "_model_module": "@jupyter-widgets/controls",
            "_model_module_version": "1.5.0",
            "_model_name": "DescriptionStyleModel",
            "_view_count": null,
            "_view_module": "@jupyter-widgets/base",
            "_view_module_version": "1.2.0",
            "_view_name": "StyleView",
            "description_width": ""
          }
        },
        "f0219e7bd20c4cb9ae9fb9a7c04baf9f": {
          "model_module": "@jupyter-widgets/controls",
          "model_name": "VBoxModel",
          "model_module_version": "1.5.0",
          "state": {
            "_dom_classes": [],
            "_model_module": "@jupyter-widgets/controls",
            "_model_module_version": "1.5.0",
            "_model_name": "VBoxModel",
            "_view_count": null,
            "_view_module": "@jupyter-widgets/controls",
            "_view_module_version": "1.5.0",
            "_view_name": "VBoxView",
            "box_style": "",
            "children": [
              "IPY_MODEL_2efefae21f03481ca0e8d61da4f3cdb2",
              "IPY_MODEL_c22e1a0786c244b4a53d7328de8d5124"
            ],
            "layout": "IPY_MODEL_49c345130d634666a33a195b596bb58e"
          }
        },
        "2efefae21f03481ca0e8d61da4f3cdb2": {
          "model_module": "@jupyter-widgets/output",
          "model_name": "OutputModel",
          "model_module_version": "1.0.0",
          "state": {
            "_dom_classes": [],
            "_model_module": "@jupyter-widgets/output",
            "_model_module_version": "1.0.0",
            "_model_name": "OutputModel",
            "_view_count": null,
            "_view_module": "@jupyter-widgets/output",
            "_view_module_version": "1.0.0",
            "_view_name": "OutputView",
            "layout": "IPY_MODEL_bdfd31e18e6a44f39e9b0bc3e8c68162",
            "msg_id": "",
            "outputs": [
              {
                "output_type": "display_data",
                "data": {
                  "text/plain": "HTML(value='<h1>Ratings</h1>')",
                  "application/vnd.jupyter.widget-view+json": {
                    "version_major": 2,
                    "version_minor": 0,
                    "model_id": "91c36cdc207543eb9decfb799a0f516f"
                  }
                },
                "metadata": {}
              }
            ]
          }
        },
        "c22e1a0786c244b4a53d7328de8d5124": {
          "model_module": "@jupyter-widgets/controls",
          "model_name": "HBoxModel",
          "model_module_version": "1.5.0",
          "state": {
            "_dom_classes": [],
            "_model_module": "@jupyter-widgets/controls",
            "_model_module_version": "1.5.0",
            "_model_name": "HBoxModel",
            "_view_count": null,
            "_view_module": "@jupyter-widgets/controls",
            "_view_module_version": "1.5.0",
            "_view_name": "HBoxView",
            "box_style": "",
            "children": [
              "IPY_MODEL_1b21719ccb8e4758bba4e44e569f9743",
              "IPY_MODEL_e29bf1b485c243e89c164e36f2571387"
            ],
            "layout": "IPY_MODEL_9c91e43da27448f2b6ad5235393b4402"
          }
        },
        "49c345130d634666a33a195b596bb58e": {
          "model_module": "@jupyter-widgets/base",
          "model_name": "LayoutModel",
          "model_module_version": "1.2.0",
          "state": {
            "_model_module": "@jupyter-widgets/base",
            "_model_module_version": "1.2.0",
            "_model_name": "LayoutModel",
            "_view_count": null,
            "_view_module": "@jupyter-widgets/base",
            "_view_module_version": "1.2.0",
            "_view_name": "LayoutView",
            "align_content": null,
            "align_items": null,
            "align_self": null,
            "border": null,
            "bottom": null,
            "display": null,
            "flex": null,
            "flex_flow": null,
            "grid_area": null,
            "grid_auto_columns": null,
            "grid_auto_flow": null,
            "grid_auto_rows": null,
            "grid_column": null,
            "grid_gap": null,
            "grid_row": null,
            "grid_template_areas": null,
            "grid_template_columns": null,
            "grid_template_rows": null,
            "height": null,
            "justify_content": null,
            "justify_items": null,
            "left": null,
            "margin": null,
            "max_height": null,
            "max_width": null,
            "min_height": null,
            "min_width": null,
            "object_fit": null,
            "object_position": null,
            "order": null,
            "overflow": null,
            "overflow_x": null,
            "overflow_y": null,
            "padding": null,
            "right": null,
            "top": null,
            "visibility": null,
            "width": null
          }
        },
        "1b21719ccb8e4758bba4e44e569f9743": {
          "model_module": "@jupyter-widgets/controls",
          "model_name": "VBoxModel",
          "model_module_version": "1.5.0",
          "state": {
            "_dom_classes": [],
            "_model_module": "@jupyter-widgets/controls",
            "_model_module_version": "1.5.0",
            "_model_name": "VBoxModel",
            "_view_count": null,
            "_view_module": "@jupyter-widgets/controls",
            "_view_module_version": "1.5.0",
            "_view_name": "VBoxView",
            "box_style": "",
            "children": [
              "IPY_MODEL_59d61abe34bb49f6a3d4dedfd443d07c",
              "IPY_MODEL_33e9b2de9cca444c91b3a527eb6e1d5d"
            ],
            "layout": "IPY_MODEL_7fd53a1db2d94f259972e23e9cb94132"
          }
        },
        "e29bf1b485c243e89c164e36f2571387": {
          "model_module": "@jupyter-widgets/controls",
          "model_name": "TextModel",
          "model_module_version": "1.5.0",
          "state": {
            "_dom_classes": [],
            "_model_module": "@jupyter-widgets/controls",
            "_model_module_version": "1.5.0",
            "_model_name": "TextModel",
            "_view_count": null,
            "_view_module": "@jupyter-widgets/controls",
            "_view_module_version": "1.5.0",
            "_view_name": "TextView",
            "continuous_update": true,
            "description": "Avg. Rating:",
            "description_tooltip": null,
            "disabled": true,
            "layout": "IPY_MODEL_86ac555ed2094d0a9eabdcc0997d7c5c",
            "placeholder": "​",
            "style": "IPY_MODEL_4e480954e4444f5782f8f2fa76571c0a",
            "value": "4.38"
          }
        },
        "9c91e43da27448f2b6ad5235393b4402": {
          "model_module": "@jupyter-widgets/base",
          "model_name": "LayoutModel",
          "model_module_version": "1.2.0",
          "state": {
            "_model_module": "@jupyter-widgets/base",
            "_model_module_version": "1.2.0",
            "_model_name": "LayoutModel",
            "_view_count": null,
            "_view_module": "@jupyter-widgets/base",
            "_view_module_version": "1.2.0",
            "_view_name": "LayoutView",
            "align_content": null,
            "align_items": null,
            "align_self": null,
            "border": null,
            "bottom": null,
            "display": null,
            "flex": null,
            "flex_flow": null,
            "grid_area": null,
            "grid_auto_columns": null,
            "grid_auto_flow": null,
            "grid_auto_rows": null,
            "grid_column": null,
            "grid_gap": null,
            "grid_row": null,
            "grid_template_areas": null,
            "grid_template_columns": null,
            "grid_template_rows": null,
            "height": null,
            "justify_content": null,
            "justify_items": null,
            "left": null,
            "margin": null,
            "max_height": null,
            "max_width": null,
            "min_height": null,
            "min_width": null,
            "object_fit": null,
            "object_position": null,
            "order": null,
            "overflow": null,
            "overflow_x": null,
            "overflow_y": null,
            "padding": null,
            "right": null,
            "top": null,
            "visibility": null,
            "width": null
          }
        },
        "59d61abe34bb49f6a3d4dedfd443d07c": {
          "model_module": "@jupyter-widgets/controls",
          "model_name": "DropdownModel",
          "model_module_version": "1.5.0",
          "state": {
            "_dom_classes": [],
            "_model_module": "@jupyter-widgets/controls",
            "_model_module_version": "1.5.0",
            "_model_name": "DropdownModel",
            "_options_labels": [
              "18-25",
              "26-35",
              "36-45",
              "46-55",
              "56-65",
              "66-75",
              "75+"
            ],
            "_view_count": null,
            "_view_module": "@jupyter-widgets/controls",
            "_view_module_version": "1.5.0",
            "_view_name": "DropdownView",
            "description": "Age Group:",
            "description_tooltip": null,
            "disabled": false,
            "index": 0,
            "layout": "IPY_MODEL_7df2ae2fd0944614af3bc3fc78ff5868",
            "style": "IPY_MODEL_f7302f24da054f5cae5435a8bff8d1b1"
          }
        },
        "33e9b2de9cca444c91b3a527eb6e1d5d": {
          "model_module": "@jupyter-widgets/controls",
          "model_name": "DropdownModel",
          "model_module_version": "1.5.0",
          "state": {
            "_dom_classes": [],
            "_model_module": "@jupyter-widgets/controls",
            "_model_module_version": "1.5.0",
            "_model_name": "DropdownModel",
            "_options_labels": [
              "Bottoms",
              "Dresses",
              "Intimate",
              "Jackets",
              "Tops",
              "Trend",
              "Unknown"
            ],
            "_view_count": null,
            "_view_module": "@jupyter-widgets/controls",
            "_view_module_version": "1.5.0",
            "_view_name": "DropdownView",
            "description": "Clothing:",
            "description_tooltip": null,
            "disabled": false,
            "index": 0,
            "layout": "IPY_MODEL_4803f7336b8441c088d6db5bdbfd54b6",
            "style": "IPY_MODEL_2dbe2eca11b94625a3bbe7ab4e150a26"
          }
        },
        "7fd53a1db2d94f259972e23e9cb94132": {
          "model_module": "@jupyter-widgets/base",
          "model_name": "LayoutModel",
          "model_module_version": "1.2.0",
          "state": {
            "_model_module": "@jupyter-widgets/base",
            "_model_module_version": "1.2.0",
            "_model_name": "LayoutModel",
            "_view_count": null,
            "_view_module": "@jupyter-widgets/base",
            "_view_module_version": "1.2.0",
            "_view_name": "LayoutView",
            "align_content": null,
            "align_items": null,
            "align_self": null,
            "border": null,
            "bottom": null,
            "display": null,
            "flex": null,
            "flex_flow": null,
            "grid_area": null,
            "grid_auto_columns": null,
            "grid_auto_flow": null,
            "grid_auto_rows": null,
            "grid_column": null,
            "grid_gap": null,
            "grid_row": null,
            "grid_template_areas": null,
            "grid_template_columns": null,
            "grid_template_rows": null,
            "height": null,
            "justify_content": null,
            "justify_items": null,
            "left": null,
            "margin": null,
            "max_height": null,
            "max_width": null,
            "min_height": null,
            "min_width": null,
            "object_fit": null,
            "object_position": null,
            "order": null,
            "overflow": null,
            "overflow_x": null,
            "overflow_y": null,
            "padding": null,
            "right": null,
            "top": null,
            "visibility": null,
            "width": null
          }
        },
        "86ac555ed2094d0a9eabdcc0997d7c5c": {
          "model_module": "@jupyter-widgets/base",
          "model_name": "LayoutModel",
          "model_module_version": "1.2.0",
          "state": {
            "_model_module": "@jupyter-widgets/base",
            "_model_module_version": "1.2.0",
            "_model_name": "LayoutModel",
            "_view_count": null,
            "_view_module": "@jupyter-widgets/base",
            "_view_module_version": "1.2.0",
            "_view_name": "LayoutView",
            "align_content": null,
            "align_items": null,
            "align_self": null,
            "border": null,
            "bottom": null,
            "display": null,
            "flex": null,
            "flex_flow": null,
            "grid_area": null,
            "grid_auto_columns": null,
            "grid_auto_flow": null,
            "grid_auto_rows": null,
            "grid_column": null,
            "grid_gap": null,
            "grid_row": null,
            "grid_template_areas": null,
            "grid_template_columns": null,
            "grid_template_rows": null,
            "height": null,
            "justify_content": null,
            "justify_items": null,
            "left": null,
            "margin": "0px 0px 0px 40px",
            "max_height": null,
            "max_width": null,
            "min_height": null,
            "min_width": null,
            "object_fit": null,
            "object_position": null,
            "order": null,
            "overflow": null,
            "overflow_x": null,
            "overflow_y": null,
            "padding": null,
            "right": null,
            "top": null,
            "visibility": null,
            "width": null
          }
        },
        "4e480954e4444f5782f8f2fa76571c0a": {
          "model_module": "@jupyter-widgets/controls",
          "model_name": "DescriptionStyleModel",
          "model_module_version": "1.5.0",
          "state": {
            "_model_module": "@jupyter-widgets/controls",
            "_model_module_version": "1.5.0",
            "_model_name": "DescriptionStyleModel",
            "_view_count": null,
            "_view_module": "@jupyter-widgets/base",
            "_view_module_version": "1.2.0",
            "_view_name": "StyleView",
            "description_width": ""
          }
        },
        "7df2ae2fd0944614af3bc3fc78ff5868": {
          "model_module": "@jupyter-widgets/base",
          "model_name": "LayoutModel",
          "model_module_version": "1.2.0",
          "state": {
            "_model_module": "@jupyter-widgets/base",
            "_model_module_version": "1.2.0",
            "_model_name": "LayoutModel",
            "_view_count": null,
            "_view_module": "@jupyter-widgets/base",
            "_view_module_version": "1.2.0",
            "_view_name": "LayoutView",
            "align_content": null,
            "align_items": null,
            "align_self": null,
            "border": null,
            "bottom": null,
            "display": null,
            "flex": null,
            "flex_flow": null,
            "grid_area": null,
            "grid_auto_columns": null,
            "grid_auto_flow": null,
            "grid_auto_rows": null,
            "grid_column": null,
            "grid_gap": null,
            "grid_row": null,
            "grid_template_areas": null,
            "grid_template_columns": null,
            "grid_template_rows": null,
            "height": null,
            "justify_content": null,
            "justify_items": null,
            "left": null,
            "margin": null,
            "max_height": null,
            "max_width": null,
            "min_height": null,
            "min_width": null,
            "object_fit": null,
            "object_position": null,
            "order": null,
            "overflow": null,
            "overflow_x": null,
            "overflow_y": null,
            "padding": null,
            "right": null,
            "top": null,
            "visibility": null,
            "width": null
          }
        },
        "f7302f24da054f5cae5435a8bff8d1b1": {
          "model_module": "@jupyter-widgets/controls",
          "model_name": "DescriptionStyleModel",
          "model_module_version": "1.5.0",
          "state": {
            "_model_module": "@jupyter-widgets/controls",
            "_model_module_version": "1.5.0",
            "_model_name": "DescriptionStyleModel",
            "_view_count": null,
            "_view_module": "@jupyter-widgets/base",
            "_view_module_version": "1.2.0",
            "_view_name": "StyleView",
            "description_width": ""
          }
        },
        "4803f7336b8441c088d6db5bdbfd54b6": {
          "model_module": "@jupyter-widgets/base",
          "model_name": "LayoutModel",
          "model_module_version": "1.2.0",
          "state": {
            "_model_module": "@jupyter-widgets/base",
            "_model_module_version": "1.2.0",
            "_model_name": "LayoutModel",
            "_view_count": null,
            "_view_module": "@jupyter-widgets/base",
            "_view_module_version": "1.2.0",
            "_view_name": "LayoutView",
            "align_content": null,
            "align_items": null,
            "align_self": null,
            "border": null,
            "bottom": null,
            "display": null,
            "flex": null,
            "flex_flow": null,
            "grid_area": null,
            "grid_auto_columns": null,
            "grid_auto_flow": null,
            "grid_auto_rows": null,
            "grid_column": null,
            "grid_gap": null,
            "grid_row": null,
            "grid_template_areas": null,
            "grid_template_columns": null,
            "grid_template_rows": null,
            "height": null,
            "justify_content": null,
            "justify_items": null,
            "left": null,
            "margin": null,
            "max_height": null,
            "max_width": null,
            "min_height": null,
            "min_width": null,
            "object_fit": null,
            "object_position": null,
            "order": null,
            "overflow": null,
            "overflow_x": null,
            "overflow_y": null,
            "padding": null,
            "right": null,
            "top": null,
            "visibility": null,
            "width": null
          }
        },
        "2dbe2eca11b94625a3bbe7ab4e150a26": {
          "model_module": "@jupyter-widgets/controls",
          "model_name": "DescriptionStyleModel",
          "model_module_version": "1.5.0",
          "state": {
            "_model_module": "@jupyter-widgets/controls",
            "_model_module_version": "1.5.0",
            "_model_name": "DescriptionStyleModel",
            "_view_count": null,
            "_view_module": "@jupyter-widgets/base",
            "_view_module_version": "1.2.0",
            "_view_name": "StyleView",
            "description_width": ""
          }
        },
        "91c36cdc207543eb9decfb799a0f516f": {
          "model_module": "@jupyter-widgets/controls",
          "model_name": "HTMLModel",
          "model_module_version": "1.5.0",
          "state": {
            "_dom_classes": [],
            "_model_module": "@jupyter-widgets/controls",
            "_model_module_version": "1.5.0",
            "_model_name": "HTMLModel",
            "_view_count": null,
            "_view_module": "@jupyter-widgets/controls",
            "_view_module_version": "1.5.0",
            "_view_name": "HTMLView",
            "description": "",
            "description_tooltip": null,
            "layout": "IPY_MODEL_77ae722b4a974b53960cefb9cbd561b8",
            "placeholder": "​",
            "style": "IPY_MODEL_43ccfd5322254a90b30696bd2dc0002a",
            "value": "<h1>Ratings</h1>"
          }
        },
        "bdfd31e18e6a44f39e9b0bc3e8c68162": {
          "model_module": "@jupyter-widgets/base",
          "model_name": "LayoutModel",
          "model_module_version": "1.2.0",
          "state": {
            "_model_module": "@jupyter-widgets/base",
            "_model_module_version": "1.2.0",
            "_model_name": "LayoutModel",
            "_view_count": null,
            "_view_module": "@jupyter-widgets/base",
            "_view_module_version": "1.2.0",
            "_view_name": "LayoutView",
            "align_content": null,
            "align_items": null,
            "align_self": null,
            "border": null,
            "bottom": null,
            "display": null,
            "flex": null,
            "flex_flow": null,
            "grid_area": null,
            "grid_auto_columns": null,
            "grid_auto_flow": null,
            "grid_auto_rows": null,
            "grid_column": null,
            "grid_gap": null,
            "grid_row": null,
            "grid_template_areas": null,
            "grid_template_columns": null,
            "grid_template_rows": null,
            "height": null,
            "justify_content": null,
            "justify_items": null,
            "left": null,
            "margin": null,
            "max_height": null,
            "max_width": null,
            "min_height": null,
            "min_width": null,
            "object_fit": null,
            "object_position": null,
            "order": null,
            "overflow": null,
            "overflow_x": null,
            "overflow_y": null,
            "padding": null,
            "right": null,
            "top": null,
            "visibility": null,
            "width": null
          }
        },
        "e9ef753da57d419da20cf8d1bd59a47d": {
          "model_module": "@jupyter-widgets/controls",
          "model_name": "VBoxModel",
          "model_module_version": "1.5.0",
          "state": {
            "_dom_classes": [],
            "_model_module": "@jupyter-widgets/controls",
            "_model_module_version": "1.5.0",
            "_model_name": "VBoxModel",
            "_view_count": null,
            "_view_module": "@jupyter-widgets/controls",
            "_view_module_version": "1.5.0",
            "_view_name": "VBoxView",
            "box_style": "",
            "children": [
              "IPY_MODEL_7458810dac59441aa21e6efe9f0ff1e3",
              "IPY_MODEL_24a719ab3a5d4c798b086f6cbb1b971f"
            ],
            "layout": "IPY_MODEL_7b14c47bebe248e1b3aea4d477e34b0b"
          }
        },
        "77ae722b4a974b53960cefb9cbd561b8": {
          "model_module": "@jupyter-widgets/base",
          "model_name": "LayoutModel",
          "model_module_version": "1.2.0",
          "state": {
            "_model_module": "@jupyter-widgets/base",
            "_model_module_version": "1.2.0",
            "_model_name": "LayoutModel",
            "_view_count": null,
            "_view_module": "@jupyter-widgets/base",
            "_view_module_version": "1.2.0",
            "_view_name": "LayoutView",
            "align_content": null,
            "align_items": null,
            "align_self": null,
            "border": null,
            "bottom": null,
            "display": null,
            "flex": null,
            "flex_flow": null,
            "grid_area": null,
            "grid_auto_columns": null,
            "grid_auto_flow": null,
            "grid_auto_rows": null,
            "grid_column": null,
            "grid_gap": null,
            "grid_row": null,
            "grid_template_areas": null,
            "grid_template_columns": null,
            "grid_template_rows": null,
            "height": null,
            "justify_content": null,
            "justify_items": null,
            "left": null,
            "margin": null,
            "max_height": null,
            "max_width": null,
            "min_height": null,
            "min_width": null,
            "object_fit": null,
            "object_position": null,
            "order": null,
            "overflow": null,
            "overflow_x": null,
            "overflow_y": null,
            "padding": null,
            "right": null,
            "top": null,
            "visibility": null,
            "width": null
          }
        },
        "43ccfd5322254a90b30696bd2dc0002a": {
          "model_module": "@jupyter-widgets/controls",
          "model_name": "DescriptionStyleModel",
          "model_module_version": "1.5.0",
          "state": {
            "_model_module": "@jupyter-widgets/controls",
            "_model_module_version": "1.5.0",
            "_model_name": "DescriptionStyleModel",
            "_view_count": null,
            "_view_module": "@jupyter-widgets/base",
            "_view_module_version": "1.2.0",
            "_view_name": "StyleView",
            "description_width": ""
          }
        },
        "7458810dac59441aa21e6efe9f0ff1e3": {
          "model_module": "@jupyter-widgets/output",
          "model_name": "OutputModel",
          "model_module_version": "1.0.0",
          "state": {
            "_dom_classes": [],
            "_model_module": "@jupyter-widgets/output",
            "_model_module_version": "1.0.0",
            "_model_name": "OutputModel",
            "_view_count": null,
            "_view_module": "@jupyter-widgets/output",
            "_view_module_version": "1.0.0",
            "_view_name": "OutputView",
            "layout": "IPY_MODEL_41d6e67909d24a11bb33be0fb4a8288d",
            "msg_id": "",
            "outputs": [
              {
                "output_type": "display_data",
                "data": {
                  "text/plain": "HTML(value='<h1>Popularity</h1>')",
                  "application/vnd.jupyter.widget-view+json": {
                    "version_major": 2,
                    "version_minor": 0,
                    "model_id": "0df4c51f11e447708a6e05959dba6514"
                  }
                },
                "metadata": {}
              }
            ]
          }
        },
        "24a719ab3a5d4c798b086f6cbb1b971f": {
          "model_module": "@jupyter-widgets/controls",
          "model_name": "HBoxModel",
          "model_module_version": "1.5.0",
          "state": {
            "_dom_classes": [],
            "_model_module": "@jupyter-widgets/controls",
            "_model_module_version": "1.5.0",
            "_model_name": "HBoxModel",
            "_view_count": null,
            "_view_module": "@jupyter-widgets/controls",
            "_view_module_version": "1.5.0",
            "_view_name": "HBoxView",
            "box_style": "",
            "children": [
              "IPY_MODEL_ba789b9d9bc84a858aca6b8e3aadc563",
              "IPY_MODEL_a3b65b8d5133455eb1d36e22a0bcad63",
              "IPY_MODEL_1ad30f755ec34313a8e4f67d8d3a31a4"
            ],
            "layout": "IPY_MODEL_0f6b41ccdb974500b38f9c6418bbc13d"
          }
        },
        "7b14c47bebe248e1b3aea4d477e34b0b": {
          "model_module": "@jupyter-widgets/base",
          "model_name": "LayoutModel",
          "model_module_version": "1.2.0",
          "state": {
            "_model_module": "@jupyter-widgets/base",
            "_model_module_version": "1.2.0",
            "_model_name": "LayoutModel",
            "_view_count": null,
            "_view_module": "@jupyter-widgets/base",
            "_view_module_version": "1.2.0",
            "_view_name": "LayoutView",
            "align_content": null,
            "align_items": null,
            "align_self": null,
            "border": null,
            "bottom": null,
            "display": null,
            "flex": null,
            "flex_flow": null,
            "grid_area": null,
            "grid_auto_columns": null,
            "grid_auto_flow": null,
            "grid_auto_rows": null,
            "grid_column": null,
            "grid_gap": null,
            "grid_row": null,
            "grid_template_areas": null,
            "grid_template_columns": null,
            "grid_template_rows": null,
            "height": null,
            "justify_content": null,
            "justify_items": null,
            "left": null,
            "margin": "40px 0px 40px 0px",
            "max_height": null,
            "max_width": null,
            "min_height": null,
            "min_width": null,
            "object_fit": null,
            "object_position": null,
            "order": null,
            "overflow": null,
            "overflow_x": null,
            "overflow_y": null,
            "padding": null,
            "right": null,
            "top": null,
            "visibility": null,
            "width": null
          }
        },
        "ba789b9d9bc84a858aca6b8e3aadc563": {
          "model_module": "@jupyter-widgets/controls",
          "model_name": "DropdownModel",
          "model_module_version": "1.5.0",
          "state": {
            "_dom_classes": [],
            "_model_module": "@jupyter-widgets/controls",
            "_model_module_version": "1.5.0",
            "_model_name": "DropdownModel",
            "_options_labels": [
              "18-25",
              "26-35",
              "36-45",
              "46-55",
              "56-65",
              "66-75",
              "75+"
            ],
            "_view_count": null,
            "_view_module": "@jupyter-widgets/controls",
            "_view_module_version": "1.5.0",
            "_view_name": "DropdownView",
            "description": "Age Group:",
            "description_tooltip": null,
            "disabled": false,
            "index": 0,
            "layout": "IPY_MODEL_1c0b93344e17436ab03c8775d5de0222",
            "style": "IPY_MODEL_b85a3193c50d4cd1b951289248d8a589"
          }
        },
        "a3b65b8d5133455eb1d36e22a0bcad63": {
          "model_module": "@jupyter-widgets/controls",
          "model_name": "HBoxModel",
          "model_module_version": "1.5.0",
          "state": {
            "_dom_classes": [],
            "_model_module": "@jupyter-widgets/controls",
            "_model_module_version": "1.5.0",
            "_model_name": "HBoxModel",
            "_view_count": null,
            "_view_module": "@jupyter-widgets/controls",
            "_view_module_version": "1.5.0",
            "_view_name": "HBoxView",
            "box_style": "",
            "children": [
              "IPY_MODEL_82c8f78696d544ed9e0af4acc6e6326c",
              "IPY_MODEL_9fbab5d452454b959b8a5666cd696a97"
            ],
            "layout": "IPY_MODEL_306f3e7c7b4e4db28f0b23abd731251d"
          }
        },
        "1ad30f755ec34313a8e4f67d8d3a31a4": {
          "model_module": "@jupyter-widgets/controls",
          "model_name": "HBoxModel",
          "model_module_version": "1.5.0",
          "state": {
            "_dom_classes": [],
            "_model_module": "@jupyter-widgets/controls",
            "_model_module_version": "1.5.0",
            "_model_name": "HBoxModel",
            "_view_count": null,
            "_view_module": "@jupyter-widgets/controls",
            "_view_module_version": "1.5.0",
            "_view_name": "HBoxView",
            "box_style": "",
            "children": [
              "IPY_MODEL_bcc0a135ae0f40c888d71d01f28be144",
              "IPY_MODEL_701b1a145ce446c5b6c8308accc49bc6"
            ],
            "layout": "IPY_MODEL_2bd8e4de5d7f4d108147017908be1b2f"
          }
        },
        "0f6b41ccdb974500b38f9c6418bbc13d": {
          "model_module": "@jupyter-widgets/base",
          "model_name": "LayoutModel",
          "model_module_version": "1.2.0",
          "state": {
            "_model_module": "@jupyter-widgets/base",
            "_model_module_version": "1.2.0",
            "_model_name": "LayoutModel",
            "_view_count": null,
            "_view_module": "@jupyter-widgets/base",
            "_view_module_version": "1.2.0",
            "_view_name": "LayoutView",
            "align_content": null,
            "align_items": null,
            "align_self": null,
            "border": null,
            "bottom": null,
            "display": null,
            "flex": null,
            "flex_flow": null,
            "grid_area": null,
            "grid_auto_columns": null,
            "grid_auto_flow": null,
            "grid_auto_rows": null,
            "grid_column": null,
            "grid_gap": null,
            "grid_row": null,
            "grid_template_areas": null,
            "grid_template_columns": null,
            "grid_template_rows": null,
            "height": null,
            "justify_content": null,
            "justify_items": null,
            "left": null,
            "margin": null,
            "max_height": null,
            "max_width": null,
            "min_height": null,
            "min_width": null,
            "object_fit": null,
            "object_position": null,
            "order": null,
            "overflow": null,
            "overflow_x": null,
            "overflow_y": null,
            "padding": null,
            "right": null,
            "top": null,
            "visibility": null,
            "width": null
          }
        },
        "1c0b93344e17436ab03c8775d5de0222": {
          "model_module": "@jupyter-widgets/base",
          "model_name": "LayoutModel",
          "model_module_version": "1.2.0",
          "state": {
            "_model_module": "@jupyter-widgets/base",
            "_model_module_version": "1.2.0",
            "_model_name": "LayoutModel",
            "_view_count": null,
            "_view_module": "@jupyter-widgets/base",
            "_view_module_version": "1.2.0",
            "_view_name": "LayoutView",
            "align_content": null,
            "align_items": null,
            "align_self": null,
            "border": null,
            "bottom": null,
            "display": null,
            "flex": null,
            "flex_flow": null,
            "grid_area": null,
            "grid_auto_columns": null,
            "grid_auto_flow": null,
            "grid_auto_rows": null,
            "grid_column": null,
            "grid_gap": null,
            "grid_row": null,
            "grid_template_areas": null,
            "grid_template_columns": null,
            "grid_template_rows": null,
            "height": null,
            "justify_content": null,
            "justify_items": null,
            "left": null,
            "margin": null,
            "max_height": null,
            "max_width": null,
            "min_height": null,
            "min_width": null,
            "object_fit": null,
            "object_position": null,
            "order": null,
            "overflow": null,
            "overflow_x": null,
            "overflow_y": null,
            "padding": null,
            "right": null,
            "top": null,
            "visibility": null,
            "width": null
          }
        },
        "b85a3193c50d4cd1b951289248d8a589": {
          "model_module": "@jupyter-widgets/controls",
          "model_name": "DescriptionStyleModel",
          "model_module_version": "1.5.0",
          "state": {
            "_model_module": "@jupyter-widgets/controls",
            "_model_module_version": "1.5.0",
            "_model_name": "DescriptionStyleModel",
            "_view_count": null,
            "_view_module": "@jupyter-widgets/base",
            "_view_module_version": "1.2.0",
            "_view_name": "StyleView",
            "description_width": ""
          }
        },
        "82c8f78696d544ed9e0af4acc6e6326c": {
          "model_module": "@jupyter-widgets/controls",
          "model_name": "LabelModel",
          "model_module_version": "1.5.0",
          "state": {
            "_dom_classes": [],
            "_model_module": "@jupyter-widgets/controls",
            "_model_module_version": "1.5.0",
            "_model_name": "LabelModel",
            "_view_count": null,
            "_view_module": "@jupyter-widgets/controls",
            "_view_module_version": "1.5.0",
            "_view_name": "LabelView",
            "description": "",
            "description_tooltip": null,
            "layout": "IPY_MODEL_1cf04b60b3a04bbc9d9264645da10fe1",
            "placeholder": "​",
            "style": "IPY_MODEL_366adeacceae420da62e972509e19f96",
            "value": "Most popular (except unknown):"
          }
        },
        "9fbab5d452454b959b8a5666cd696a97": {
          "model_module": "@jupyter-widgets/controls",
          "model_name": "TextModel",
          "model_module_version": "1.5.0",
          "state": {
            "_dom_classes": [],
            "_model_module": "@jupyter-widgets/controls",
            "_model_module_version": "1.5.0",
            "_model_name": "TextModel",
            "_view_count": null,
            "_view_module": "@jupyter-widgets/controls",
            "_view_module_version": "1.5.0",
            "_view_name": "TextView",
            "continuous_update": true,
            "description": "",
            "description_tooltip": null,
            "disabled": true,
            "layout": "IPY_MODEL_c63cca8bc60c4ec9889b3d38300fd9dd",
            "placeholder": "​",
            "style": "IPY_MODEL_9f496d2b2ea4452884754fadc63075bd",
            "value": "Bottoms"
          }
        },
        "306f3e7c7b4e4db28f0b23abd731251d": {
          "model_module": "@jupyter-widgets/base",
          "model_name": "LayoutModel",
          "model_module_version": "1.2.0",
          "state": {
            "_model_module": "@jupyter-widgets/base",
            "_model_module_version": "1.2.0",
            "_model_name": "LayoutModel",
            "_view_count": null,
            "_view_module": "@jupyter-widgets/base",
            "_view_module_version": "1.2.0",
            "_view_name": "LayoutView",
            "align_content": null,
            "align_items": null,
            "align_self": null,
            "border": null,
            "bottom": null,
            "display": null,
            "flex": null,
            "flex_flow": null,
            "grid_area": null,
            "grid_auto_columns": null,
            "grid_auto_flow": null,
            "grid_auto_rows": null,
            "grid_column": null,
            "grid_gap": null,
            "grid_row": null,
            "grid_template_areas": null,
            "grid_template_columns": null,
            "grid_template_rows": null,
            "height": null,
            "justify_content": null,
            "justify_items": null,
            "left": null,
            "margin": "0px 0px 0px 40px",
            "max_height": null,
            "max_width": null,
            "min_height": null,
            "min_width": null,
            "object_fit": null,
            "object_position": null,
            "order": null,
            "overflow": null,
            "overflow_x": null,
            "overflow_y": null,
            "padding": null,
            "right": null,
            "top": null,
            "visibility": null,
            "width": null
          }
        },
        "bcc0a135ae0f40c888d71d01f28be144": {
          "model_module": "@jupyter-widgets/controls",
          "model_name": "LabelModel",
          "model_module_version": "1.5.0",
          "state": {
            "_dom_classes": [],
            "_model_module": "@jupyter-widgets/controls",
            "_model_module_version": "1.5.0",
            "_model_name": "LabelModel",
            "_view_count": null,
            "_view_module": "@jupyter-widgets/controls",
            "_view_module_version": "1.5.0",
            "_view_name": "LabelView",
            "description": "",
            "description_tooltip": null,
            "layout": "IPY_MODEL_6c15379c7c9e49738b820e89c5e0fead",
            "placeholder": "​",
            "style": "IPY_MODEL_d3886f35c3014edb965d94eb5ad6a3b4",
            "value": "Least popular (except unknown):"
          }
        },
        "701b1a145ce446c5b6c8308accc49bc6": {
          "model_module": "@jupyter-widgets/controls",
          "model_name": "TextModel",
          "model_module_version": "1.5.0",
          "state": {
            "_dom_classes": [],
            "_model_module": "@jupyter-widgets/controls",
            "_model_module_version": "1.5.0",
            "_model_name": "TextModel",
            "_view_count": null,
            "_view_module": "@jupyter-widgets/controls",
            "_view_module_version": "1.5.0",
            "_view_name": "TextView",
            "continuous_update": true,
            "description": "",
            "description_tooltip": null,
            "disabled": true,
            "layout": "IPY_MODEL_d640b14f0dbc41369e93780476c27c60",
            "placeholder": "​",
            "style": "IPY_MODEL_624937bcec564ec4baeb95949391ff47",
            "value": "Trend"
          }
        },
        "2bd8e4de5d7f4d108147017908be1b2f": {
          "model_module": "@jupyter-widgets/base",
          "model_name": "LayoutModel",
          "model_module_version": "1.2.0",
          "state": {
            "_model_module": "@jupyter-widgets/base",
            "_model_module_version": "1.2.0",
            "_model_name": "LayoutModel",
            "_view_count": null,
            "_view_module": "@jupyter-widgets/base",
            "_view_module_version": "1.2.0",
            "_view_name": "LayoutView",
            "align_content": null,
            "align_items": null,
            "align_self": null,
            "border": null,
            "bottom": null,
            "display": null,
            "flex": null,
            "flex_flow": null,
            "grid_area": null,
            "grid_auto_columns": null,
            "grid_auto_flow": null,
            "grid_auto_rows": null,
            "grid_column": null,
            "grid_gap": null,
            "grid_row": null,
            "grid_template_areas": null,
            "grid_template_columns": null,
            "grid_template_rows": null,
            "height": null,
            "justify_content": null,
            "justify_items": null,
            "left": null,
            "margin": "0px 0px 0px 40px",
            "max_height": null,
            "max_width": null,
            "min_height": null,
            "min_width": null,
            "object_fit": null,
            "object_position": null,
            "order": null,
            "overflow": null,
            "overflow_x": null,
            "overflow_y": null,
            "padding": null,
            "right": null,
            "top": null,
            "visibility": null,
            "width": null
          }
        },
        "1cf04b60b3a04bbc9d9264645da10fe1": {
          "model_module": "@jupyter-widgets/base",
          "model_name": "LayoutModel",
          "model_module_version": "1.2.0",
          "state": {
            "_model_module": "@jupyter-widgets/base",
            "_model_module_version": "1.2.0",
            "_model_name": "LayoutModel",
            "_view_count": null,
            "_view_module": "@jupyter-widgets/base",
            "_view_module_version": "1.2.0",
            "_view_name": "LayoutView",
            "align_content": null,
            "align_items": null,
            "align_self": null,
            "border": null,
            "bottom": null,
            "display": null,
            "flex": null,
            "flex_flow": null,
            "grid_area": null,
            "grid_auto_columns": null,
            "grid_auto_flow": null,
            "grid_auto_rows": null,
            "grid_column": null,
            "grid_gap": null,
            "grid_row": null,
            "grid_template_areas": null,
            "grid_template_columns": null,
            "grid_template_rows": null,
            "height": null,
            "justify_content": null,
            "justify_items": null,
            "left": null,
            "margin": null,
            "max_height": null,
            "max_width": null,
            "min_height": null,
            "min_width": null,
            "object_fit": null,
            "object_position": null,
            "order": null,
            "overflow": null,
            "overflow_x": null,
            "overflow_y": null,
            "padding": null,
            "right": null,
            "top": null,
            "visibility": null,
            "width": "auto"
          }
        },
        "366adeacceae420da62e972509e19f96": {
          "model_module": "@jupyter-widgets/controls",
          "model_name": "DescriptionStyleModel",
          "model_module_version": "1.5.0",
          "state": {
            "_model_module": "@jupyter-widgets/controls",
            "_model_module_version": "1.5.0",
            "_model_name": "DescriptionStyleModel",
            "_view_count": null,
            "_view_module": "@jupyter-widgets/base",
            "_view_module_version": "1.2.0",
            "_view_name": "StyleView",
            "description_width": ""
          }
        },
        "c63cca8bc60c4ec9889b3d38300fd9dd": {
          "model_module": "@jupyter-widgets/base",
          "model_name": "LayoutModel",
          "model_module_version": "1.2.0",
          "state": {
            "_model_module": "@jupyter-widgets/base",
            "_model_module_version": "1.2.0",
            "_model_name": "LayoutModel",
            "_view_count": null,
            "_view_module": "@jupyter-widgets/base",
            "_view_module_version": "1.2.0",
            "_view_name": "LayoutView",
            "align_content": null,
            "align_items": null,
            "align_self": null,
            "border": null,
            "bottom": null,
            "display": null,
            "flex": null,
            "flex_flow": null,
            "grid_area": null,
            "grid_auto_columns": null,
            "grid_auto_flow": null,
            "grid_auto_rows": null,
            "grid_column": null,
            "grid_gap": null,
            "grid_row": null,
            "grid_template_areas": null,
            "grid_template_columns": null,
            "grid_template_rows": null,
            "height": null,
            "justify_content": null,
            "justify_items": null,
            "left": null,
            "margin": null,
            "max_height": null,
            "max_width": null,
            "min_height": null,
            "min_width": null,
            "object_fit": null,
            "object_position": null,
            "order": null,
            "overflow": null,
            "overflow_x": null,
            "overflow_y": null,
            "padding": null,
            "right": null,
            "top": null,
            "visibility": null,
            "width": null
          }
        },
        "9f496d2b2ea4452884754fadc63075bd": {
          "model_module": "@jupyter-widgets/controls",
          "model_name": "DescriptionStyleModel",
          "model_module_version": "1.5.0",
          "state": {
            "_model_module": "@jupyter-widgets/controls",
            "_model_module_version": "1.5.0",
            "_model_name": "DescriptionStyleModel",
            "_view_count": null,
            "_view_module": "@jupyter-widgets/base",
            "_view_module_version": "1.2.0",
            "_view_name": "StyleView",
            "description_width": ""
          }
        },
        "6c15379c7c9e49738b820e89c5e0fead": {
          "model_module": "@jupyter-widgets/base",
          "model_name": "LayoutModel",
          "model_module_version": "1.2.0",
          "state": {
            "_model_module": "@jupyter-widgets/base",
            "_model_module_version": "1.2.0",
            "_model_name": "LayoutModel",
            "_view_count": null,
            "_view_module": "@jupyter-widgets/base",
            "_view_module_version": "1.2.0",
            "_view_name": "LayoutView",
            "align_content": null,
            "align_items": null,
            "align_self": null,
            "border": null,
            "bottom": null,
            "display": null,
            "flex": null,
            "flex_flow": null,
            "grid_area": null,
            "grid_auto_columns": null,
            "grid_auto_flow": null,
            "grid_auto_rows": null,
            "grid_column": null,
            "grid_gap": null,
            "grid_row": null,
            "grid_template_areas": null,
            "grid_template_columns": null,
            "grid_template_rows": null,
            "height": null,
            "justify_content": null,
            "justify_items": null,
            "left": null,
            "margin": null,
            "max_height": null,
            "max_width": null,
            "min_height": null,
            "min_width": null,
            "object_fit": null,
            "object_position": null,
            "order": null,
            "overflow": null,
            "overflow_x": null,
            "overflow_y": null,
            "padding": null,
            "right": null,
            "top": null,
            "visibility": null,
            "width": "auto"
          }
        },
        "d3886f35c3014edb965d94eb5ad6a3b4": {
          "model_module": "@jupyter-widgets/controls",
          "model_name": "DescriptionStyleModel",
          "model_module_version": "1.5.0",
          "state": {
            "_model_module": "@jupyter-widgets/controls",
            "_model_module_version": "1.5.0",
            "_model_name": "DescriptionStyleModel",
            "_view_count": null,
            "_view_module": "@jupyter-widgets/base",
            "_view_module_version": "1.2.0",
            "_view_name": "StyleView",
            "description_width": ""
          }
        },
        "d640b14f0dbc41369e93780476c27c60": {
          "model_module": "@jupyter-widgets/base",
          "model_name": "LayoutModel",
          "model_module_version": "1.2.0",
          "state": {
            "_model_module": "@jupyter-widgets/base",
            "_model_module_version": "1.2.0",
            "_model_name": "LayoutModel",
            "_view_count": null,
            "_view_module": "@jupyter-widgets/base",
            "_view_module_version": "1.2.0",
            "_view_name": "LayoutView",
            "align_content": null,
            "align_items": null,
            "align_self": null,
            "border": null,
            "bottom": null,
            "display": null,
            "flex": null,
            "flex_flow": null,
            "grid_area": null,
            "grid_auto_columns": null,
            "grid_auto_flow": null,
            "grid_auto_rows": null,
            "grid_column": null,
            "grid_gap": null,
            "grid_row": null,
            "grid_template_areas": null,
            "grid_template_columns": null,
            "grid_template_rows": null,
            "height": null,
            "justify_content": null,
            "justify_items": null,
            "left": null,
            "margin": null,
            "max_height": null,
            "max_width": null,
            "min_height": null,
            "min_width": null,
            "object_fit": null,
            "object_position": null,
            "order": null,
            "overflow": null,
            "overflow_x": null,
            "overflow_y": null,
            "padding": null,
            "right": null,
            "top": null,
            "visibility": null,
            "width": null
          }
        },
        "624937bcec564ec4baeb95949391ff47": {
          "model_module": "@jupyter-widgets/controls",
          "model_name": "DescriptionStyleModel",
          "model_module_version": "1.5.0",
          "state": {
            "_model_module": "@jupyter-widgets/controls",
            "_model_module_version": "1.5.0",
            "_model_name": "DescriptionStyleModel",
            "_view_count": null,
            "_view_module": "@jupyter-widgets/base",
            "_view_module_version": "1.2.0",
            "_view_name": "StyleView",
            "description_width": ""
          }
        },
        "0df4c51f11e447708a6e05959dba6514": {
          "model_module": "@jupyter-widgets/controls",
          "model_name": "HTMLModel",
          "model_module_version": "1.5.0",
          "state": {
            "_dom_classes": [],
            "_model_module": "@jupyter-widgets/controls",
            "_model_module_version": "1.5.0",
            "_model_name": "HTMLModel",
            "_view_count": null,
            "_view_module": "@jupyter-widgets/controls",
            "_view_module_version": "1.5.0",
            "_view_name": "HTMLView",
            "description": "",
            "description_tooltip": null,
            "layout": "IPY_MODEL_56e1f84177ec4ff1b48f7ebe3c7c4107",
            "placeholder": "​",
            "style": "IPY_MODEL_cae93e6f97da4289a17b4c31bc443735",
            "value": "<h1>Popularity</h1>"
          }
        },
        "41d6e67909d24a11bb33be0fb4a8288d": {
          "model_module": "@jupyter-widgets/base",
          "model_name": "LayoutModel",
          "model_module_version": "1.2.0",
          "state": {
            "_model_module": "@jupyter-widgets/base",
            "_model_module_version": "1.2.0",
            "_model_name": "LayoutModel",
            "_view_count": null,
            "_view_module": "@jupyter-widgets/base",
            "_view_module_version": "1.2.0",
            "_view_name": "LayoutView",
            "align_content": null,
            "align_items": null,
            "align_self": null,
            "border": null,
            "bottom": null,
            "display": null,
            "flex": null,
            "flex_flow": null,
            "grid_area": null,
            "grid_auto_columns": null,
            "grid_auto_flow": null,
            "grid_auto_rows": null,
            "grid_column": null,
            "grid_gap": null,
            "grid_row": null,
            "grid_template_areas": null,
            "grid_template_columns": null,
            "grid_template_rows": null,
            "height": null,
            "justify_content": null,
            "justify_items": null,
            "left": null,
            "margin": null,
            "max_height": null,
            "max_width": null,
            "min_height": null,
            "min_width": null,
            "object_fit": null,
            "object_position": null,
            "order": null,
            "overflow": null,
            "overflow_x": null,
            "overflow_y": null,
            "padding": null,
            "right": null,
            "top": null,
            "visibility": null,
            "width": null
          }
        },
        "d488585468a84ef3bcb4d8d8e4804dbf": {
          "model_module": "@jupyter-widgets/controls",
          "model_name": "VBoxModel",
          "model_module_version": "1.5.0",
          "state": {
            "_dom_classes": [],
            "_model_module": "@jupyter-widgets/controls",
            "_model_module_version": "1.5.0",
            "_model_name": "VBoxModel",
            "_view_count": null,
            "_view_module": "@jupyter-widgets/controls",
            "_view_module_version": "1.5.0",
            "_view_name": "VBoxView",
            "box_style": "",
            "children": [
              "IPY_MODEL_7afff7a711dd42d5915ad0e1106d3611",
              "IPY_MODEL_310234cfb3ae44d0942051dfb2bda001",
              "IPY_MODEL_c4878c36ac164407beb1eecf9eb56dbf"
            ],
            "layout": "IPY_MODEL_6a7bcb6542da4b6190c28b5a39cffdcb"
          }
        },
        "56e1f84177ec4ff1b48f7ebe3c7c4107": {
          "model_module": "@jupyter-widgets/base",
          "model_name": "LayoutModel",
          "model_module_version": "1.2.0",
          "state": {
            "_model_module": "@jupyter-widgets/base",
            "_model_module_version": "1.2.0",
            "_model_name": "LayoutModel",
            "_view_count": null,
            "_view_module": "@jupyter-widgets/base",
            "_view_module_version": "1.2.0",
            "_view_name": "LayoutView",
            "align_content": null,
            "align_items": null,
            "align_self": null,
            "border": null,
            "bottom": null,
            "display": null,
            "flex": null,
            "flex_flow": null,
            "grid_area": null,
            "grid_auto_columns": null,
            "grid_auto_flow": null,
            "grid_auto_rows": null,
            "grid_column": null,
            "grid_gap": null,
            "grid_row": null,
            "grid_template_areas": null,
            "grid_template_columns": null,
            "grid_template_rows": null,
            "height": null,
            "justify_content": null,
            "justify_items": null,
            "left": null,
            "margin": null,
            "max_height": null,
            "max_width": null,
            "min_height": null,
            "min_width": null,
            "object_fit": null,
            "object_position": null,
            "order": null,
            "overflow": null,
            "overflow_x": null,
            "overflow_y": null,
            "padding": null,
            "right": null,
            "top": null,
            "visibility": null,
            "width": null
          }
        },
        "cae93e6f97da4289a17b4c31bc443735": {
          "model_module": "@jupyter-widgets/controls",
          "model_name": "DescriptionStyleModel",
          "model_module_version": "1.5.0",
          "state": {
            "_model_module": "@jupyter-widgets/controls",
            "_model_module_version": "1.5.0",
            "_model_name": "DescriptionStyleModel",
            "_view_count": null,
            "_view_module": "@jupyter-widgets/base",
            "_view_module_version": "1.2.0",
            "_view_name": "StyleView",
            "description_width": ""
          }
        },
        "7afff7a711dd42d5915ad0e1106d3611": {
          "model_module": "@jupyter-widgets/output",
          "model_name": "OutputModel",
          "model_module_version": "1.0.0",
          "state": {
            "_dom_classes": [],
            "_model_module": "@jupyter-widgets/output",
            "_model_module_version": "1.0.0",
            "_model_name": "OutputModel",
            "_view_count": null,
            "_view_module": "@jupyter-widgets/output",
            "_view_module_version": "1.0.0",
            "_view_name": "OutputView",
            "layout": "IPY_MODEL_a44bae50b68b4164bc4f861c1d506f04",
            "msg_id": "",
            "outputs": [
              {
                "output_type": "display_data",
                "data": {
                  "text/plain": "HTML(value='<h1>Rating distribution</h1>')",
                  "application/vnd.jupyter.widget-view+json": {
                    "version_major": 2,
                    "version_minor": 0,
                    "model_id": "a34f0baa2171466a94dd4bad352a9188"
                  }
                },
                "metadata": {}
              }
            ]
          }
        },
        "310234cfb3ae44d0942051dfb2bda001": {
          "model_module": "@jupyter-widgets/controls",
          "model_name": "DropdownModel",
          "model_module_version": "1.5.0",
          "state": {
            "_dom_classes": [],
            "_model_module": "@jupyter-widgets/controls",
            "_model_module_version": "1.5.0",
            "_model_name": "DropdownModel",
            "_options_labels": [
              "18-25",
              "26-35",
              "36-45",
              "46-55",
              "56-65",
              "66-75",
              "75+"
            ],
            "_view_count": null,
            "_view_module": "@jupyter-widgets/controls",
            "_view_module_version": "1.5.0",
            "_view_name": "DropdownView",
            "description": "Age Group:",
            "description_tooltip": null,
            "disabled": false,
            "index": 0,
            "layout": "IPY_MODEL_527c31db73b54a898632d94271b2f065",
            "style": "IPY_MODEL_fc1e35767b5c476cb3a0e0f2445f7db0"
          }
        },
        "c4878c36ac164407beb1eecf9eb56dbf": {
          "model_module": "@jupyter-widgets/output",
          "model_name": "OutputModel",
          "model_module_version": "1.0.0",
          "state": {
            "_dom_classes": [],
            "_model_module": "@jupyter-widgets/output",
            "_model_module_version": "1.0.0",
            "_model_name": "OutputModel",
            "_view_count": null,
            "_view_module": "@jupyter-widgets/output",
            "_view_module_version": "1.0.0",
            "_view_name": "OutputView",
            "layout": "IPY_MODEL_0dde573ba18a497e9237a4c1ed63583d",
            "msg_id": "",
            "outputs": [
              {
                "output_type": "display_data",
                "data": {
                  "text/plain": "<Figure size 1000x600 with 1 Axes>",
                  "image/png": "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\n"
                },
                "metadata": {}
              }
            ]
          }
        },
        "6a7bcb6542da4b6190c28b5a39cffdcb": {
          "model_module": "@jupyter-widgets/base",
          "model_name": "LayoutModel",
          "model_module_version": "1.2.0",
          "state": {
            "_model_module": "@jupyter-widgets/base",
            "_model_module_version": "1.2.0",
            "_model_name": "LayoutModel",
            "_view_count": null,
            "_view_module": "@jupyter-widgets/base",
            "_view_module_version": "1.2.0",
            "_view_name": "LayoutView",
            "align_content": null,
            "align_items": null,
            "align_self": null,
            "border": null,
            "bottom": null,
            "display": null,
            "flex": null,
            "flex_flow": null,
            "grid_area": null,
            "grid_auto_columns": null,
            "grid_auto_flow": null,
            "grid_auto_rows": null,
            "grid_column": null,
            "grid_gap": null,
            "grid_row": null,
            "grid_template_areas": null,
            "grid_template_columns": null,
            "grid_template_rows": null,
            "height": null,
            "justify_content": null,
            "justify_items": null,
            "left": null,
            "margin": "40px 0px 40px 0px",
            "max_height": null,
            "max_width": null,
            "min_height": null,
            "min_width": null,
            "object_fit": null,
            "object_position": null,
            "order": null,
            "overflow": null,
            "overflow_x": null,
            "overflow_y": null,
            "padding": null,
            "right": null,
            "top": null,
            "visibility": null,
            "width": null
          }
        },
        "527c31db73b54a898632d94271b2f065": {
          "model_module": "@jupyter-widgets/base",
          "model_name": "LayoutModel",
          "model_module_version": "1.2.0",
          "state": {
            "_model_module": "@jupyter-widgets/base",
            "_model_module_version": "1.2.0",
            "_model_name": "LayoutModel",
            "_view_count": null,
            "_view_module": "@jupyter-widgets/base",
            "_view_module_version": "1.2.0",
            "_view_name": "LayoutView",
            "align_content": null,
            "align_items": null,
            "align_self": null,
            "border": null,
            "bottom": null,
            "display": null,
            "flex": null,
            "flex_flow": null,
            "grid_area": null,
            "grid_auto_columns": null,
            "grid_auto_flow": null,
            "grid_auto_rows": null,
            "grid_column": null,
            "grid_gap": null,
            "grid_row": null,
            "grid_template_areas": null,
            "grid_template_columns": null,
            "grid_template_rows": null,
            "height": null,
            "justify_content": null,
            "justify_items": null,
            "left": null,
            "margin": null,
            "max_height": null,
            "max_width": null,
            "min_height": null,
            "min_width": null,
            "object_fit": null,
            "object_position": null,
            "order": null,
            "overflow": null,
            "overflow_x": null,
            "overflow_y": null,
            "padding": null,
            "right": null,
            "top": null,
            "visibility": null,
            "width": null
          }
        },
        "fc1e35767b5c476cb3a0e0f2445f7db0": {
          "model_module": "@jupyter-widgets/controls",
          "model_name": "DescriptionStyleModel",
          "model_module_version": "1.5.0",
          "state": {
            "_model_module": "@jupyter-widgets/controls",
            "_model_module_version": "1.5.0",
            "_model_name": "DescriptionStyleModel",
            "_view_count": null,
            "_view_module": "@jupyter-widgets/base",
            "_view_module_version": "1.2.0",
            "_view_name": "StyleView",
            "description_width": ""
          }
        },
        "a34f0baa2171466a94dd4bad352a9188": {
          "model_module": "@jupyter-widgets/controls",
          "model_name": "HTMLModel",
          "model_module_version": "1.5.0",
          "state": {
            "_dom_classes": [],
            "_model_module": "@jupyter-widgets/controls",
            "_model_module_version": "1.5.0",
            "_model_name": "HTMLModel",
            "_view_count": null,
            "_view_module": "@jupyter-widgets/controls",
            "_view_module_version": "1.5.0",
            "_view_name": "HTMLView",
            "description": "",
            "description_tooltip": null,
            "layout": "IPY_MODEL_8c15345f56fb476ca2d748c3027e0c7e",
            "placeholder": "​",
            "style": "IPY_MODEL_9fe8767e41364c19a9903d9e53c185b1",
            "value": "<h1>Rating distribution</h1>"
          }
        },
        "a44bae50b68b4164bc4f861c1d506f04": {
          "model_module": "@jupyter-widgets/base",
          "model_name": "LayoutModel",
          "model_module_version": "1.2.0",
          "state": {
            "_model_module": "@jupyter-widgets/base",
            "_model_module_version": "1.2.0",
            "_model_name": "LayoutModel",
            "_view_count": null,
            "_view_module": "@jupyter-widgets/base",
            "_view_module_version": "1.2.0",
            "_view_name": "LayoutView",
            "align_content": null,
            "align_items": null,
            "align_self": null,
            "border": null,
            "bottom": null,
            "display": null,
            "flex": null,
            "flex_flow": null,
            "grid_area": null,
            "grid_auto_columns": null,
            "grid_auto_flow": null,
            "grid_auto_rows": null,
            "grid_column": null,
            "grid_gap": null,
            "grid_row": null,
            "grid_template_areas": null,
            "grid_template_columns": null,
            "grid_template_rows": null,
            "height": null,
            "justify_content": null,
            "justify_items": null,
            "left": null,
            "margin": null,
            "max_height": null,
            "max_width": null,
            "min_height": null,
            "min_width": null,
            "object_fit": null,
            "object_position": null,
            "order": null,
            "overflow": null,
            "overflow_x": null,
            "overflow_y": null,
            "padding": null,
            "right": null,
            "top": null,
            "visibility": null,
            "width": null
          }
        },
        "0dde573ba18a497e9237a4c1ed63583d": {
          "model_module": "@jupyter-widgets/base",
          "model_name": "LayoutModel",
          "model_module_version": "1.2.0",
          "state": {
            "_model_module": "@jupyter-widgets/base",
            "_model_module_version": "1.2.0",
            "_model_name": "LayoutModel",
            "_view_count": null,
            "_view_module": "@jupyter-widgets/base",
            "_view_module_version": "1.2.0",
            "_view_name": "LayoutView",
            "align_content": null,
            "align_items": null,
            "align_self": null,
            "border": null,
            "bottom": null,
            "display": null,
            "flex": null,
            "flex_flow": null,
            "grid_area": null,
            "grid_auto_columns": null,
            "grid_auto_flow": null,
            "grid_auto_rows": null,
            "grid_column": null,
            "grid_gap": null,
            "grid_row": null,
            "grid_template_areas": null,
            "grid_template_columns": null,
            "grid_template_rows": null,
            "height": null,
            "justify_content": null,
            "justify_items": null,
            "left": null,
            "margin": null,
            "max_height": null,
            "max_width": null,
            "min_height": null,
            "min_width": null,
            "object_fit": null,
            "object_position": null,
            "order": null,
            "overflow": null,
            "overflow_x": null,
            "overflow_y": null,
            "padding": null,
            "right": null,
            "top": null,
            "visibility": null,
            "width": null
          }
        },
        "f3e571d88b8f4a56a28bef154a734c3f": {
          "model_module": "@jupyter-widgets/controls",
          "model_name": "VBoxModel",
          "model_module_version": "1.5.0",
          "state": {
            "_dom_classes": [],
            "_model_module": "@jupyter-widgets/controls",
            "_model_module_version": "1.5.0",
            "_model_name": "VBoxModel",
            "_view_count": null,
            "_view_module": "@jupyter-widgets/controls",
            "_view_module_version": "1.5.0",
            "_view_name": "VBoxView",
            "box_style": "",
            "children": [
              "IPY_MODEL_d5c750a22a1a4c5f845fc4669153cc6e",
              "IPY_MODEL_8ec75503cded412fad40c57af84a113c",
              "IPY_MODEL_0add638c3dec42298e967d6584ee7829"
            ],
            "layout": "IPY_MODEL_d443f3ba536c4a659202b08982cccc49"
          }
        },
        "8c15345f56fb476ca2d748c3027e0c7e": {
          "model_module": "@jupyter-widgets/base",
          "model_name": "LayoutModel",
          "model_module_version": "1.2.0",
          "state": {
            "_model_module": "@jupyter-widgets/base",
            "_model_module_version": "1.2.0",
            "_model_name": "LayoutModel",
            "_view_count": null,
            "_view_module": "@jupyter-widgets/base",
            "_view_module_version": "1.2.0",
            "_view_name": "LayoutView",
            "align_content": null,
            "align_items": null,
            "align_self": null,
            "border": null,
            "bottom": null,
            "display": null,
            "flex": null,
            "flex_flow": null,
            "grid_area": null,
            "grid_auto_columns": null,
            "grid_auto_flow": null,
            "grid_auto_rows": null,
            "grid_column": null,
            "grid_gap": null,
            "grid_row": null,
            "grid_template_areas": null,
            "grid_template_columns": null,
            "grid_template_rows": null,
            "height": null,
            "justify_content": null,
            "justify_items": null,
            "left": null,
            "margin": null,
            "max_height": null,
            "max_width": null,
            "min_height": null,
            "min_width": null,
            "object_fit": null,
            "object_position": null,
            "order": null,
            "overflow": null,
            "overflow_x": null,
            "overflow_y": null,
            "padding": null,
            "right": null,
            "top": null,
            "visibility": null,
            "width": null
          }
        },
        "9fe8767e41364c19a9903d9e53c185b1": {
          "model_module": "@jupyter-widgets/controls",
          "model_name": "DescriptionStyleModel",
          "model_module_version": "1.5.0",
          "state": {
            "_model_module": "@jupyter-widgets/controls",
            "_model_module_version": "1.5.0",
            "_model_name": "DescriptionStyleModel",
            "_view_count": null,
            "_view_module": "@jupyter-widgets/base",
            "_view_module_version": "1.2.0",
            "_view_name": "StyleView",
            "description_width": ""
          }
        },
        "d5c750a22a1a4c5f845fc4669153cc6e": {
          "model_module": "@jupyter-widgets/output",
          "model_name": "OutputModel",
          "model_module_version": "1.0.0",
          "state": {
            "_dom_classes": [],
            "_model_module": "@jupyter-widgets/output",
            "_model_module_version": "1.0.0",
            "_model_name": "OutputModel",
            "_view_count": null,
            "_view_module": "@jupyter-widgets/output",
            "_view_module_version": "1.0.0",
            "_view_name": "OutputView",
            "layout": "IPY_MODEL_2031b81d8ab841e49460963636aa8d46",
            "msg_id": "",
            "outputs": [
              {
                "output_type": "display_data",
                "data": {
                  "text/plain": "HTML(value='<h1>Clothing type distribution</h1>')",
                  "application/vnd.jupyter.widget-view+json": {
                    "version_major": 2,
                    "version_minor": 0,
                    "model_id": "f054cad049a94067af9def74a9a95820"
                  }
                },
                "metadata": {}
              }
            ]
          }
        },
        "8ec75503cded412fad40c57af84a113c": {
          "model_module": "@jupyter-widgets/controls",
          "model_name": "DropdownModel",
          "model_module_version": "1.5.0",
          "state": {
            "_dom_classes": [],
            "_model_module": "@jupyter-widgets/controls",
            "_model_module_version": "1.5.0",
            "_model_name": "DropdownModel",
            "_options_labels": [
              "VADER_Sentiment",
              "Review_Length"
            ],
            "_view_count": null,
            "_view_module": "@jupyter-widgets/controls",
            "_view_module_version": "1.5.0",
            "_view_name": "DropdownView",
            "description": "Variable:",
            "description_tooltip": null,
            "disabled": false,
            "index": 0,
            "layout": "IPY_MODEL_3f0e1949b653490ca405c486bea2793e",
            "style": "IPY_MODEL_d17a9548df624edf99b60355fe58e73c"
          }
        },
        "0add638c3dec42298e967d6584ee7829": {
          "model_module": "@jupyter-widgets/output",
          "model_name": "OutputModel",
          "model_module_version": "1.0.0",
          "state": {
            "_dom_classes": [],
            "_model_module": "@jupyter-widgets/output",
            "_model_module_version": "1.0.0",
            "_model_name": "OutputModel",
            "_view_count": null,
            "_view_module": "@jupyter-widgets/output",
            "_view_module_version": "1.0.0",
            "_view_name": "OutputView",
            "layout": "IPY_MODEL_a16230b96a594c299e04702bb05bef59",
            "msg_id": "",
            "outputs": [
              {
                "output_type": "display_data",
                "data": {
                  "text/plain": "<Figure size 1000x600 with 1 Axes>",
                  "image/png": "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\n"
                },
                "metadata": {}
              }
            ]
          }
        },
        "d443f3ba536c4a659202b08982cccc49": {
          "model_module": "@jupyter-widgets/base",
          "model_name": "LayoutModel",
          "model_module_version": "1.2.0",
          "state": {
            "_model_module": "@jupyter-widgets/base",
            "_model_module_version": "1.2.0",
            "_model_name": "LayoutModel",
            "_view_count": null,
            "_view_module": "@jupyter-widgets/base",
            "_view_module_version": "1.2.0",
            "_view_name": "LayoutView",
            "align_content": null,
            "align_items": null,
            "align_self": null,
            "border": null,
            "bottom": null,
            "display": null,
            "flex": null,
            "flex_flow": null,
            "grid_area": null,
            "grid_auto_columns": null,
            "grid_auto_flow": null,
            "grid_auto_rows": null,
            "grid_column": null,
            "grid_gap": null,
            "grid_row": null,
            "grid_template_areas": null,
            "grid_template_columns": null,
            "grid_template_rows": null,
            "height": null,
            "justify_content": null,
            "justify_items": null,
            "left": null,
            "margin": "40px 0px 40px 0px",
            "max_height": null,
            "max_width": null,
            "min_height": null,
            "min_width": null,
            "object_fit": null,
            "object_position": null,
            "order": null,
            "overflow": null,
            "overflow_x": null,
            "overflow_y": null,
            "padding": null,
            "right": null,
            "top": null,
            "visibility": null,
            "width": null
          }
        },
        "3f0e1949b653490ca405c486bea2793e": {
          "model_module": "@jupyter-widgets/base",
          "model_name": "LayoutModel",
          "model_module_version": "1.2.0",
          "state": {
            "_model_module": "@jupyter-widgets/base",
            "_model_module_version": "1.2.0",
            "_model_name": "LayoutModel",
            "_view_count": null,
            "_view_module": "@jupyter-widgets/base",
            "_view_module_version": "1.2.0",
            "_view_name": "LayoutView",
            "align_content": null,
            "align_items": null,
            "align_self": null,
            "border": null,
            "bottom": null,
            "display": null,
            "flex": null,
            "flex_flow": null,
            "grid_area": null,
            "grid_auto_columns": null,
            "grid_auto_flow": null,
            "grid_auto_rows": null,
            "grid_column": null,
            "grid_gap": null,
            "grid_row": null,
            "grid_template_areas": null,
            "grid_template_columns": null,
            "grid_template_rows": null,
            "height": null,
            "justify_content": null,
            "justify_items": null,
            "left": null,
            "margin": null,
            "max_height": null,
            "max_width": null,
            "min_height": null,
            "min_width": null,
            "object_fit": null,
            "object_position": null,
            "order": null,
            "overflow": null,
            "overflow_x": null,
            "overflow_y": null,
            "padding": null,
            "right": null,
            "top": null,
            "visibility": null,
            "width": null
          }
        },
        "d17a9548df624edf99b60355fe58e73c": {
          "model_module": "@jupyter-widgets/controls",
          "model_name": "DescriptionStyleModel",
          "model_module_version": "1.5.0",
          "state": {
            "_model_module": "@jupyter-widgets/controls",
            "_model_module_version": "1.5.0",
            "_model_name": "DescriptionStyleModel",
            "_view_count": null,
            "_view_module": "@jupyter-widgets/base",
            "_view_module_version": "1.2.0",
            "_view_name": "StyleView",
            "description_width": ""
          }
        },
        "f054cad049a94067af9def74a9a95820": {
          "model_module": "@jupyter-widgets/controls",
          "model_name": "HTMLModel",
          "model_module_version": "1.5.0",
          "state": {
            "_dom_classes": [],
            "_model_module": "@jupyter-widgets/controls",
            "_model_module_version": "1.5.0",
            "_model_name": "HTMLModel",
            "_view_count": null,
            "_view_module": "@jupyter-widgets/controls",
            "_view_module_version": "1.5.0",
            "_view_name": "HTMLView",
            "description": "",
            "description_tooltip": null,
            "layout": "IPY_MODEL_5f6f1a6665da497f845aae58f2e678c8",
            "placeholder": "​",
            "style": "IPY_MODEL_72f0afdbae6041b2ac78b74791a059df",
            "value": "<h1>Clothing type distribution</h1>"
          }
        },
        "2031b81d8ab841e49460963636aa8d46": {
          "model_module": "@jupyter-widgets/base",
          "model_name": "LayoutModel",
          "model_module_version": "1.2.0",
          "state": {
            "_model_module": "@jupyter-widgets/base",
            "_model_module_version": "1.2.0",
            "_model_name": "LayoutModel",
            "_view_count": null,
            "_view_module": "@jupyter-widgets/base",
            "_view_module_version": "1.2.0",
            "_view_name": "LayoutView",
            "align_content": null,
            "align_items": null,
            "align_self": null,
            "border": null,
            "bottom": null,
            "display": null,
            "flex": null,
            "flex_flow": null,
            "grid_area": null,
            "grid_auto_columns": null,
            "grid_auto_flow": null,
            "grid_auto_rows": null,
            "grid_column": null,
            "grid_gap": null,
            "grid_row": null,
            "grid_template_areas": null,
            "grid_template_columns": null,
            "grid_template_rows": null,
            "height": null,
            "justify_content": null,
            "justify_items": null,
            "left": null,
            "margin": null,
            "max_height": null,
            "max_width": null,
            "min_height": null,
            "min_width": null,
            "object_fit": null,
            "object_position": null,
            "order": null,
            "overflow": null,
            "overflow_x": null,
            "overflow_y": null,
            "padding": null,
            "right": null,
            "top": null,
            "visibility": null,
            "width": null
          }
        },
        "a16230b96a594c299e04702bb05bef59": {
          "model_module": "@jupyter-widgets/base",
          "model_name": "LayoutModel",
          "model_module_version": "1.2.0",
          "state": {
            "_model_module": "@jupyter-widgets/base",
            "_model_module_version": "1.2.0",
            "_model_name": "LayoutModel",
            "_view_count": null,
            "_view_module": "@jupyter-widgets/base",
            "_view_module_version": "1.2.0",
            "_view_name": "LayoutView",
            "align_content": null,
            "align_items": null,
            "align_self": null,
            "border": null,
            "bottom": null,
            "display": null,
            "flex": null,
            "flex_flow": null,
            "grid_area": null,
            "grid_auto_columns": null,
            "grid_auto_flow": null,
            "grid_auto_rows": null,
            "grid_column": null,
            "grid_gap": null,
            "grid_row": null,
            "grid_template_areas": null,
            "grid_template_columns": null,
            "grid_template_rows": null,
            "height": null,
            "justify_content": null,
            "justify_items": null,
            "left": null,
            "margin": null,
            "max_height": null,
            "max_width": null,
            "min_height": null,
            "min_width": null,
            "object_fit": null,
            "object_position": null,
            "order": null,
            "overflow": null,
            "overflow_x": null,
            "overflow_y": null,
            "padding": null,
            "right": null,
            "top": null,
            "visibility": null,
            "width": null
          }
        },
        "5f6f1a6665da497f845aae58f2e678c8": {
          "model_module": "@jupyter-widgets/base",
          "model_name": "LayoutModel",
          "model_module_version": "1.2.0",
          "state": {
            "_model_module": "@jupyter-widgets/base",
            "_model_module_version": "1.2.0",
            "_model_name": "LayoutModel",
            "_view_count": null,
            "_view_module": "@jupyter-widgets/base",
            "_view_module_version": "1.2.0",
            "_view_name": "LayoutView",
            "align_content": null,
            "align_items": null,
            "align_self": null,
            "border": null,
            "bottom": null,
            "display": null,
            "flex": null,
            "flex_flow": null,
            "grid_area": null,
            "grid_auto_columns": null,
            "grid_auto_flow": null,
            "grid_auto_rows": null,
            "grid_column": null,
            "grid_gap": null,
            "grid_row": null,
            "grid_template_areas": null,
            "grid_template_columns": null,
            "grid_template_rows": null,
            "height": null,
            "justify_content": null,
            "justify_items": null,
            "left": null,
            "margin": null,
            "max_height": null,
            "max_width": null,
            "min_height": null,
            "min_width": null,
            "object_fit": null,
            "object_position": null,
            "order": null,
            "overflow": null,
            "overflow_x": null,
            "overflow_y": null,
            "padding": null,
            "right": null,
            "top": null,
            "visibility": null,
            "width": null
          }
        },
        "72f0afdbae6041b2ac78b74791a059df": {
          "model_module": "@jupyter-widgets/controls",
          "model_name": "DescriptionStyleModel",
          "model_module_version": "1.5.0",
          "state": {
            "_model_module": "@jupyter-widgets/controls",
            "_model_module_version": "1.5.0",
            "_model_name": "DescriptionStyleModel",
            "_view_count": null,
            "_view_module": "@jupyter-widgets/base",
            "_view_module_version": "1.2.0",
            "_view_name": "StyleView",
            "description_width": ""
          }
        }
      }
    }
  },
  "cells": [
    {
      "cell_type": "markdown",
      "source": [
        "# **Project of Swatisama Guha Thakurta**\n",
        "\n",
        "**Python code**"
      ],
      "metadata": {
        "id": "-6c0yNdDYPAl"
      }
    },
    {
      "cell_type": "markdown",
      "source": [
        "**The Raw_Reviews dataset contains the following columns:**\n",
        "\n",
        "Product_ID: Unique identifier for the product.\n",
        "\n",
        "Age: Age of the reviewer.\n",
        "\n",
        "Title: Title of the review (some missing values).\n",
        "\n",
        "Text_Review: The content of the review.\n",
        "\n",
        "Rating: Star rating given by the reviewer (likely on a scale from 1 to 5).\n",
        "\n",
        "Type: Type or category of the product (e.g., Dresses, Tops, etc.)."
      ],
      "metadata": {
        "id": "m-D15leq8PgU"
      }
    },
    {
      "cell_type": "markdown",
      "source": [
        "To generate insights beyond overall sentiment, we will start exploring aspects like:\n",
        "\n",
        "**Age-based Analysis**: How do different age groups perceive products?\n",
        "\n",
        "**Category Analysis**: Which product types receive the best or worst ratings?\n",
        "\n",
        "**Review Length vs Rating**: Are longer reviews associated with more critical or positive feedback?\n",
        "\n",
        "**Common Phrases**: Common Phrases in Positive vs Negative Reviews: Use Natural Language Processing (NLP) techniques to identify frequent words or phrases in 5-star reviews compared to 1- or 2-star reviews.\n",
        "\n",
        "**Rating Discrepancies by Product Type**: Highlight any specific products that have particularly polarized reviews (e.g., a mix of 1-star and 5-star reviews).\n",
        "\n",
        "**Analysis of Missing Review Titles:** Explore if missing titles indicate any pattern in terms of rating or review content.\n",
        "\n"
      ],
      "metadata": {
        "id": "b1fV8JFv-wj9"
      }
    },
    {
      "cell_type": "code",
      "source": [
        "#Install Required Libraries\n",
        "!pip install transformers\n",
        "!pip install torch\n",
        "!pip install scikit-learn\n",
        "!pip install nltk\n"
      ],
      "metadata": {
        "colab": {
          "base_uri": "https://localhost:8080/"
        },
        "id": "Cmh9uj_uH3Ba",
        "outputId": "6ee80b46-5375-4d3a-9f7b-dfbddd962914"
      },
      "execution_count": 1,
      "outputs": [
        {
          "output_type": "stream",
          "name": "stdout",
          "text": [
            "Requirement already satisfied: transformers in /usr/local/lib/python3.10/dist-packages (4.44.2)\n",
            "Requirement already satisfied: filelock in /usr/local/lib/python3.10/dist-packages (from transformers) (3.16.1)\n",
            "Requirement already satisfied: huggingface-hub<1.0,>=0.23.2 in /usr/local/lib/python3.10/dist-packages (from transformers) (0.24.7)\n",
            "Requirement already satisfied: numpy>=1.17 in /usr/local/lib/python3.10/dist-packages (from transformers) (1.26.4)\n",
            "Requirement already satisfied: packaging>=20.0 in /usr/local/lib/python3.10/dist-packages (from transformers) (24.1)\n",
            "Requirement already satisfied: pyyaml>=5.1 in /usr/local/lib/python3.10/dist-packages (from transformers) (6.0.2)\n",
            "Requirement already satisfied: regex!=2019.12.17 in /usr/local/lib/python3.10/dist-packages (from transformers) (2024.9.11)\n",
            "Requirement already satisfied: requests in /usr/local/lib/python3.10/dist-packages (from transformers) (2.32.3)\n",
            "Requirement already satisfied: safetensors>=0.4.1 in /usr/local/lib/python3.10/dist-packages (from transformers) (0.4.5)\n",
            "Requirement already satisfied: tokenizers<0.20,>=0.19 in /usr/local/lib/python3.10/dist-packages (from transformers) (0.19.1)\n",
            "Requirement already satisfied: tqdm>=4.27 in /usr/local/lib/python3.10/dist-packages (from transformers) (4.66.5)\n",
            "Requirement already satisfied: fsspec>=2023.5.0 in /usr/local/lib/python3.10/dist-packages (from huggingface-hub<1.0,>=0.23.2->transformers) (2024.6.1)\n",
            "Requirement already satisfied: typing-extensions>=3.7.4.3 in /usr/local/lib/python3.10/dist-packages (from huggingface-hub<1.0,>=0.23.2->transformers) (4.12.2)\n",
            "Requirement already satisfied: charset-normalizer<4,>=2 in /usr/local/lib/python3.10/dist-packages (from requests->transformers) (3.3.2)\n",
            "Requirement already satisfied: idna<4,>=2.5 in /usr/local/lib/python3.10/dist-packages (from requests->transformers) (3.10)\n",
            "Requirement already satisfied: urllib3<3,>=1.21.1 in /usr/local/lib/python3.10/dist-packages (from requests->transformers) (2.2.3)\n",
            "Requirement already satisfied: certifi>=2017.4.17 in /usr/local/lib/python3.10/dist-packages (from requests->transformers) (2024.8.30)\n",
            "Requirement already satisfied: torch in /usr/local/lib/python3.10/dist-packages (2.4.1+cu121)\n",
            "Requirement already satisfied: filelock in /usr/local/lib/python3.10/dist-packages (from torch) (3.16.1)\n",
            "Requirement already satisfied: typing-extensions>=4.8.0 in /usr/local/lib/python3.10/dist-packages (from torch) (4.12.2)\n",
            "Requirement already satisfied: sympy in /usr/local/lib/python3.10/dist-packages (from torch) (1.13.3)\n",
            "Requirement already satisfied: networkx in /usr/local/lib/python3.10/dist-packages (from torch) (3.3)\n",
            "Requirement already satisfied: jinja2 in /usr/local/lib/python3.10/dist-packages (from torch) (3.1.4)\n",
            "Requirement already satisfied: fsspec in /usr/local/lib/python3.10/dist-packages (from torch) (2024.6.1)\n",
            "Requirement already satisfied: MarkupSafe>=2.0 in /usr/local/lib/python3.10/dist-packages (from jinja2->torch) (2.1.5)\n",
            "Requirement already satisfied: mpmath<1.4,>=1.1.0 in /usr/local/lib/python3.10/dist-packages (from sympy->torch) (1.3.0)\n",
            "Requirement already satisfied: scikit-learn in /usr/local/lib/python3.10/dist-packages (1.5.2)\n",
            "Requirement already satisfied: numpy>=1.19.5 in /usr/local/lib/python3.10/dist-packages (from scikit-learn) (1.26.4)\n",
            "Requirement already satisfied: scipy>=1.6.0 in /usr/local/lib/python3.10/dist-packages (from scikit-learn) (1.13.1)\n",
            "Requirement already satisfied: joblib>=1.2.0 in /usr/local/lib/python3.10/dist-packages (from scikit-learn) (1.4.2)\n",
            "Requirement already satisfied: threadpoolctl>=3.1.0 in /usr/local/lib/python3.10/dist-packages (from scikit-learn) (3.5.0)\n",
            "Requirement already satisfied: nltk in /usr/local/lib/python3.10/dist-packages (3.8.1)\n",
            "Requirement already satisfied: click in /usr/local/lib/python3.10/dist-packages (from nltk) (8.1.7)\n",
            "Requirement already satisfied: joblib in /usr/local/lib/python3.10/dist-packages (from nltk) (1.4.2)\n",
            "Requirement already satisfied: regex>=2021.8.3 in /usr/local/lib/python3.10/dist-packages (from nltk) (2024.9.11)\n",
            "Requirement already satisfied: tqdm in /usr/local/lib/python3.10/dist-packages (from nltk) (4.66.5)\n"
          ]
        }
      ]
    },
    {
      "cell_type": "code",
      "execution_count": 2,
      "metadata": {
        "colab": {
          "base_uri": "https://localhost:8080/"
        },
        "id": "tdysB17I8IPb",
        "outputId": "9f674439-ed29-4010-95f5-c92320ebe68e"
      },
      "outputs": [
        {
          "output_type": "stream",
          "name": "stdout",
          "text": [
            "Mounted at /content/drive\n"
          ]
        }
      ],
      "source": [
        "from google.colab import drive\n",
        "drive.mount('/content/drive')\n",
        "file_path = \"/content/drive/My Drive/Raw_Reviews.csv\"\n"
      ]
    },
    {
      "cell_type": "code",
      "source": [
        "import pandas as pd  # For data manipulation and analysis\n",
        "import matplotlib.pyplot as plt  # For visualizations\n",
        "import seaborn as sns  # For more advanced and aesthetic visualizations"
      ],
      "metadata": {
        "id": "RWmmUE63UC3v"
      },
      "execution_count": 3,
      "outputs": []
    },
    {
      "cell_type": "code",
      "source": [
        "data_frame=pd.read_csv(file_path)"
      ],
      "metadata": {
        "id": "wDYCf12FUH8y"
      },
      "execution_count": 4,
      "outputs": []
    },
    {
      "cell_type": "markdown",
      "source": [
        "# **handling missing values**"
      ],
      "metadata": {
        "id": "sP0l_Y_fYyWg"
      }
    },
    {
      "cell_type": "code",
      "source": [
        "#missing values per column\n",
        "data_frame.isnull().sum()"
      ],
      "metadata": {
        "colab": {
          "base_uri": "https://localhost:8080/",
          "height": 272
        },
        "id": "uqblrFlGUjWG",
        "outputId": "bd519104-34c1-4591-fc84-a575b0664c68"
      },
      "execution_count": 5,
      "outputs": [
        {
          "output_type": "execute_result",
          "data": {
            "text/plain": [
              "Product_ID        0\n",
              "Age               0\n",
              "Title          3810\n",
              "Text_Review     845\n",
              "Rating            0\n",
              "Type             14\n",
              "dtype: int64"
            ],
            "text/html": [
              "<div>\n",
              "<style scoped>\n",
              "    .dataframe tbody tr th:only-of-type {\n",
              "        vertical-align: middle;\n",
              "    }\n",
              "\n",
              "    .dataframe tbody tr th {\n",
              "        vertical-align: top;\n",
              "    }\n",
              "\n",
              "    .dataframe thead th {\n",
              "        text-align: right;\n",
              "    }\n",
              "</style>\n",
              "<table border=\"1\" class=\"dataframe\">\n",
              "  <thead>\n",
              "    <tr style=\"text-align: right;\">\n",
              "      <th></th>\n",
              "      <th>0</th>\n",
              "    </tr>\n",
              "  </thead>\n",
              "  <tbody>\n",
              "    <tr>\n",
              "      <th>Product_ID</th>\n",
              "      <td>0</td>\n",
              "    </tr>\n",
              "    <tr>\n",
              "      <th>Age</th>\n",
              "      <td>0</td>\n",
              "    </tr>\n",
              "    <tr>\n",
              "      <th>Title</th>\n",
              "      <td>3810</td>\n",
              "    </tr>\n",
              "    <tr>\n",
              "      <th>Text_Review</th>\n",
              "      <td>845</td>\n",
              "    </tr>\n",
              "    <tr>\n",
              "      <th>Rating</th>\n",
              "      <td>0</td>\n",
              "    </tr>\n",
              "    <tr>\n",
              "      <th>Type</th>\n",
              "      <td>14</td>\n",
              "    </tr>\n",
              "  </tbody>\n",
              "</table>\n",
              "</div><br><label><b>dtype:</b> int64</label>"
            ]
          },
          "metadata": {},
          "execution_count": 5
        }
      ]
    },
    {
      "cell_type": "code",
      "source": [
        "def handle_missing_values(df):\n",
        "  #handling missing value in Text_Review column\n",
        "  df['Text_Review'].fillna(\"No Review\", inplace=True)\n",
        "\n",
        "  #handling missing value in Title column\n",
        "\n",
        "  df['Title'].fillna(\"No Title\", inplace=True)\n",
        "  #handling missing value in type column\n",
        "  df['Type'].fillna(\"Unknown\", inplace=True)\n",
        "  return df\n",
        "\n",
        "data_frame = handle_missing_values(data_frame)"
      ],
      "metadata": {
        "id": "eXAbIOL9VT67"
      },
      "execution_count": 6,
      "outputs": []
    },
    {
      "cell_type": "code",
      "source": [
        "data_frame.isnull().sum()"
      ],
      "metadata": {
        "colab": {
          "base_uri": "https://localhost:8080/",
          "height": 272
        },
        "id": "WCoF9hfNVgkL",
        "outputId": "77fbc8b8-e19d-47a4-e19b-4bbec4e7b31e"
      },
      "execution_count": 7,
      "outputs": [
        {
          "output_type": "execute_result",
          "data": {
            "text/plain": [
              "Product_ID     0\n",
              "Age            0\n",
              "Title          0\n",
              "Text_Review    0\n",
              "Rating         0\n",
              "Type           0\n",
              "dtype: int64"
            ],
            "text/html": [
              "<div>\n",
              "<style scoped>\n",
              "    .dataframe tbody tr th:only-of-type {\n",
              "        vertical-align: middle;\n",
              "    }\n",
              "\n",
              "    .dataframe tbody tr th {\n",
              "        vertical-align: top;\n",
              "    }\n",
              "\n",
              "    .dataframe thead th {\n",
              "        text-align: right;\n",
              "    }\n",
              "</style>\n",
              "<table border=\"1\" class=\"dataframe\">\n",
              "  <thead>\n",
              "    <tr style=\"text-align: right;\">\n",
              "      <th></th>\n",
              "      <th>0</th>\n",
              "    </tr>\n",
              "  </thead>\n",
              "  <tbody>\n",
              "    <tr>\n",
              "      <th>Product_ID</th>\n",
              "      <td>0</td>\n",
              "    </tr>\n",
              "    <tr>\n",
              "      <th>Age</th>\n",
              "      <td>0</td>\n",
              "    </tr>\n",
              "    <tr>\n",
              "      <th>Title</th>\n",
              "      <td>0</td>\n",
              "    </tr>\n",
              "    <tr>\n",
              "      <th>Text_Review</th>\n",
              "      <td>0</td>\n",
              "    </tr>\n",
              "    <tr>\n",
              "      <th>Rating</th>\n",
              "      <td>0</td>\n",
              "    </tr>\n",
              "    <tr>\n",
              "      <th>Type</th>\n",
              "      <td>0</td>\n",
              "    </tr>\n",
              "  </tbody>\n",
              "</table>\n",
              "</div><br><label><b>dtype:</b> int64</label>"
            ]
          },
          "metadata": {},
          "execution_count": 7
        }
      ]
    },
    {
      "cell_type": "markdown",
      "source": [
        "Once the missing values are handled, We will start with **Age group wise analysis**.\n",
        "\n",
        "we can focus on the following steps:\n",
        "\n",
        "**Age Distribution**: First we need to understand the distribution of ages in the dataset.\n",
        "\n",
        "**Age vs Rating Distribution**: We will how ratings vary across different age groups.\n",
        "\n",
        "**Product Type Preference by Age**: Find which product types are more popular among specific age groups.\n",
        "\n",
        "**Rating Spread within Age Groups**: We will check if any age groups tend to give consistently higher or lower ratings.\n"
      ],
      "metadata": {
        "id": "UhD5FONkQnG-"
      }
    },
    {
      "cell_type": "code",
      "source": [
        "def age_summary_of_reviewers(data_frame):\n",
        "  # Plotting the age distribution using a histogram\n",
        "  plt.figure(figsize=(10,6))\n",
        "  plt.hist(data_frame['Age'].dropna(), bins=20, edgecolor='black', color='skyblue')\n",
        "  plt.title('Age Distribution of Reviewers')\n",
        "  plt.xlabel('Age')\n",
        "  plt.ylabel('Frequency')\n",
        "  plt.grid(True)\n",
        "  plt.show()\n",
        "\n",
        "  # Summary statistics for the Age column\n",
        "  age_summary = data_frame['Age'].describe()\n",
        "\n",
        "  # Creating a table for summary statistics\n",
        "  summary_df = pd.DataFrame(age_summary).transpose()\n",
        "  return summary_df\n",
        "\n",
        "# Displaying the table to the console\n",
        "print(age_summary_of_reviewers(data_frame))"
      ],
      "metadata": {
        "colab": {
          "base_uri": "https://localhost:8080/",
          "height": 599
        },
        "id": "VvejED1-ZB9a",
        "outputId": "7bc20f1e-c57a-4977-e29a-c281fe914970"
      },
      "execution_count": 8,
      "outputs": [
        {
          "output_type": "display_data",
          "data": {
            "text/plain": [
              "<Figure size 1000x600 with 1 Axes>"
            ],
            "image/png": "[encoded data removed]"
          },
          "metadata": {}
        },
        {
          "output_type": "stream",
          "name": "stdout",
          "text": [
            "       count       mean        std   min   25%   50%   75%   max\n",
            "Age  23486.0  43.198544  12.279544  18.0  34.0  41.0  52.0  99.0\n"
          ]
        }
      ]
    },
    {
      "cell_type": "markdown",
      "source": [
        "Now we will create Age groups and then create  a table of the distribution of ages"
      ],
      "metadata": {
        "id": "3vpuTbpKTpDx"
      }
    },
    {
      "cell_type": "code",
      "source": [
        "def add_age_bins(df):\n",
        "  # Creating age bins for table\n",
        "  age_bins = [18, 25, 35, 45, 55, 65, 75, 100]\n",
        "  age_labels = ['18-25', '26-35', '36-45', '46-55', '56-65', '66-75', '75+']\n",
        "  df['Age_Group'] = pd.cut(df['Age'], bins=age_bins, labels=age_labels)\n",
        "  return df\n",
        "\n",
        "def make_age_distribution_df(df):\n",
        "  # Creating a table of the distribution of ages\n",
        "  age_distribution_table = df['Age_Group'].value_counts().sort_index()\n",
        "\n",
        "  # Converting the age distribution to a DataFrame\n",
        "  age_distribution_df = pd.DataFrame(age_distribution_table).reset_index()\n",
        "  age_distribution_df.columns = ['Age_Group', 'Count']\n",
        "  return age_distribution_df\n",
        "\n",
        "data_frame = add_age_bins(data_frame)\n",
        "age_distribution_df = make_age_distribution_df(data_frame)\n",
        "\n",
        "# Display the table\n",
        "print(age_distribution_df)"
      ],
      "metadata": {
        "colab": {
          "base_uri": "https://localhost:8080/"
        },
        "id": "aA8VqJuHaBY3",
        "outputId": "4b276e70-22ef-4076-b2a1-bbab98804a2e"
      },
      "execution_count": 9,
      "outputs": [
        {
          "output_type": "stream",
          "name": "stdout",
          "text": [
            "  Age_Group  Count\n",
            "0     18-25   1219\n",
            "1     26-35   5753\n",
            "2     36-45   7391\n",
            "3     46-55   4909\n",
            "4     56-65   3050\n",
            "5     66-75    993\n",
            "6       75+    167\n"
          ]
        }
      ]
    },
    {
      "cell_type": "code",
      "source": [
        "def group_by_age_and_calc_average_rating(df):\n",
        "  # Grouping by Age Group and calculating average rating\n",
        "  age_rating_distribution = data_frame.groupby('Age_Group')['Rating'].mean().reset_index()\n",
        "  return age_rating_distribution\n",
        "\n",
        "def plot_age_rating_distribution(age_rating_distribution):\n",
        "  # Plotting the Age vs Rating distribution\n",
        "  plt.figure(figsize=(10,6))\n",
        "  plt.bar(age_rating_distribution['Age_Group'], age_rating_distribution['Rating'], color='skyblue', edgecolor='black')\n",
        "  plt.title('Average Rating by Age Group')\n",
        "  plt.xlabel('Age Group')\n",
        "  plt.ylabel('Average Rating')\n",
        "  plt.grid(True)\n",
        "  plt.show()\n",
        "\n",
        "age_rating_distribution = group_by_age_and_calc_average_rating(data_frame)\n",
        "plot_age_rating_distribution(age_rating_distribution)\n",
        "\n",
        "# Displaying the table with Age vs Rating distribution\n",
        "print(age_rating_distribution)"
      ],
      "metadata": {
        "colab": {
          "base_uri": "https://localhost:8080/",
          "height": 758
        },
        "id": "VnEaGE6sa4P1",
        "outputId": "6556e895-e5d7-42dc-995e-f5efdf44f59f"
      },
      "execution_count": 10,
      "outputs": [
        {
          "output_type": "stream",
          "name": "stderr",
          "text": [
            "<ipython-input-10-dac18e69e93b>:3: FutureWarning: The default of observed=False is deprecated and will be changed to True in a future version of pandas. Pass observed=False to retain current behavior or observed=True to adopt the future default and silence this warning.\n",
            "  age_rating_distribution = data_frame.groupby('Age_Group')['Rating'].mean().reset_index()\n"
          ]
        },
        {
          "output_type": "display_data",
          "data": {
            "text/plain": [
              "<Figure size 1000x600 with 1 Axes>"
            ],
            "image/png": "[encoded data removed]"
          },
          "metadata": {}
        },
        {
          "output_type": "stream",
          "name": "stdout",
          "text": [
            "  Age_Group    Rating\n",
            "0     18-25  4.292043\n",
            "1     26-35  4.136451\n",
            "2     36-45  4.191043\n",
            "3     46-55  4.175596\n",
            "4     56-65  4.301639\n",
            "5     66-75  4.201410\n",
            "6       75+  4.401198\n"
          ]
        }
      ]
    },
    {
      "cell_type": "markdown",
      "source": [
        "There doesn't seem to be a significant difference in average ratings across the different age groups, as they all cluster around similar values.\n",
        "\n",
        "We would like to focus on this- Product Category Influence: Check if specific product categories (e.g., dresses, tops) show different patterns across age groups in terms of ratings."
      ],
      "metadata": {
        "id": "0gmieH-rbaDF"
      }
    },
    {
      "cell_type": "code",
      "source": [
        "def age_product_rating(df):\n",
        "  # Grouping by Age Group and Product Type to calculate the average rating for each combination\n",
        "  age_product_rating = df.groupby(['Age_Group', 'Type'])['Rating'].mean().reset_index()\n",
        "\n",
        "  # Filling NaN values in the Rating column with 0\n",
        "  age_product_rating['Rating'].fillna(0, inplace=True)\n",
        "  return age_product_rating\n",
        "\n",
        "age_product_rating = age_product_rating(data_frame)\n",
        "\n",
        "# Displaying the updated data\n",
        "print(age_product_rating)"
      ],
      "metadata": {
        "colab": {
          "base_uri": "https://localhost:8080/"
        },
        "id": "7w0zHdcib_h7",
        "outputId": "f2ea110f-18c5-479b-8aa9-25dc5568f1f5"
      },
      "execution_count": 11,
      "outputs": [
        {
          "output_type": "stream",
          "name": "stdout",
          "text": [
            "   Age_Group      Type    Rating\n",
            "0      18-25   Bottoms  4.375691\n",
            "1      18-25   Dresses  4.292958\n",
            "2      18-25  Intimate  4.295652\n",
            "3      18-25   Jackets  4.370370\n",
            "4      18-25      Tops  4.266932\n",
            "5      18-25     Trend  3.400000\n",
            "6      18-25   Unknown  5.000000\n",
            "7      26-35   Bottoms  4.214689\n",
            "8      26-35   Dresses  4.091537\n",
            "9      26-35  Intimate  4.265537\n",
            "10     26-35   Jackets  4.177606\n",
            "11     26-35      Tops  4.104696\n",
            "12     26-35     Trend  4.222222\n",
            "13     26-35   Unknown  5.000000\n",
            "14     36-45   Bottoms  4.270396\n",
            "15     36-45   Dresses  4.155644\n",
            "16     36-45  Intimate  4.295276\n",
            "17     36-45   Jackets  4.269896\n",
            "18     36-45      Tops  4.159532\n",
            "19     36-45     Trend  4.000000\n",
            "20     36-45   Unknown  5.000000\n",
            "21     46-55   Bottoms  4.320802\n",
            "22     46-55   Dresses  4.141821\n",
            "23     46-55  Intimate  4.269006\n",
            "24     46-55   Jackets  4.273632\n",
            "25     46-55      Tops  4.127558\n",
            "26     46-55     Trend  3.400000\n",
            "27     46-55   Unknown  5.000000\n",
            "28     56-65   Bottoms  4.349693\n",
            "29     56-65   Dresses  4.250346\n",
            "30     56-65  Intimate  4.343949\n",
            "31     56-65   Jackets  4.314465\n",
            "32     56-65      Tops  4.311008\n",
            "33     56-65     Trend  3.642857\n",
            "34     56-65   Unknown  0.000000\n",
            "35     66-75   Bottoms  4.385714\n",
            "36     66-75   Dresses  4.028708\n",
            "37     66-75  Intimate  4.000000\n",
            "38     66-75   Jackets  4.262295\n",
            "39     66-75      Tops  4.244618\n",
            "40     66-75     Trend  3.857143\n",
            "41     66-75   Unknown  0.000000\n",
            "42       75+   Bottoms  4.500000\n",
            "43       75+   Dresses  4.317073\n",
            "44       75+  Intimate  4.882353\n",
            "45       75+   Jackets  4.888889\n",
            "46       75+      Tops  4.259259\n",
            "47       75+     Trend  5.000000\n",
            "48       75+   Unknown  0.000000\n"
          ]
        },
        {
          "output_type": "stream",
          "name": "stderr",
          "text": [
            "<ipython-input-11-a205c230c611>:3: FutureWarning: The default of observed=False is deprecated and will be changed to True in a future version of pandas. Pass observed=False to retain current behavior or observed=True to adopt the future default and silence this warning.\n",
            "  age_product_rating = df.groupby(['Age_Group', 'Type'])['Rating'].mean().reset_index()\n"
          ]
        }
      ]
    },
    {
      "cell_type": "code",
      "source": [
        "def plot_age_rating_distribution(age_product_rating):\n",
        "  # Plotting the data using a barplot\n",
        "  plt.figure(figsize=(12,8))\n",
        "\n",
        "  # Using seaborn to plot a barplot with Age_Group on the x-axis and average rating on the y-axis, using Product Type as hue\n",
        "  sns.barplot(data=age_product_rating, x='Age_Group', y='Rating', hue='Type', palette='Set2')\n",
        "\n",
        "  # Adding title and labels\n",
        "  plt.title('Average Rating by Product Category Across Age Groups', fontsize=16)\n",
        "  plt.xlabel('Age Group', fontsize=12)\n",
        "  plt.ylabel('Average Rating', fontsize=12)\n",
        "  plt.xticks(rotation=45)  # Rotate x-axis labels for readability\n",
        "  plt.legend(title='Product Category')\n",
        "\n",
        "  # Show the plot\n",
        "  plt.tight_layout()\n",
        "  plt.show()\n",
        "\n",
        "plot_age_rating_distribution(age_product_rating)"
      ],
      "metadata": {
        "colab": {
          "base_uri": "https://localhost:8080/",
          "height": 807
        },
        "id": "mK4pi0XydI-6",
        "outputId": "042ca3c8-5e2d-4ad7-d25f-145fdb8a567a"
      },
      "execution_count": 12,
      "outputs": [
        {
          "output_type": "display_data",
          "data": {
            "text/plain": [
              "<Figure size 1200x800 with 1 Axes>"
            ],
            "image/png": "[encoded data removed]"
          },
          "metadata": {}
        }
      ]
    },
    {
      "cell_type": "markdown",
      "source": [
        "**Key Observations:**\n",
        "\n",
        "\n",
        "*   Bottoms and Jackets consistently perform well across all age groups, with especially high ratings from older age groups (75+).\n",
        "*   Intimate products have a consistently strong showing, particularly among older age groups.\n",
        "\n",
        "*   Dresses are most favored by younger age groups (18-25) and show a slight decline in popularity with age.\n",
        "\n",
        "*   Trend products have the lowest ratings in younger groups but surprisingly high ratings in the 75+ group (though with fewer reviews, it may be less representative).\n",
        "\n",
        "\n"
      ],
      "metadata": {
        "id": "p2Tx7QdExAin"
      }
    },
    {
      "cell_type": "markdown",
      "source": [
        "**We are now analyzing the consistency of ratings for different age groups by calculating the standard deviation, which helps to assess how much agreement or disagreement exists among the ratings within each age group.**"
      ],
      "metadata": {
        "id": "Q-_xXQAAZtIs"
      }
    },
    {
      "cell_type": "code",
      "source": [
        "def calc_rating_spread_by_age_group(df):\n",
        "  # Grouping by Age Group and calculating the standard deviation of the ratings\n",
        "  rating_spread = df.groupby('Age_Group')['Rating'].std().reset_index()\n",
        "  return rating_spread\n",
        "\n",
        "rating_spread = calc_rating_spread_by_age_group(data_frame)\n",
        "\n",
        "# Display the standard deviation of ratings to analyze rating consistency\n",
        "print(rating_spread)"
      ],
      "metadata": {
        "colab": {
          "base_uri": "https://localhost:8080/"
        },
        "id": "8UacTLWs3vNy",
        "outputId": "01d2542b-e8d7-4cd5-e80b-603019845b2f"
      },
      "execution_count": 13,
      "outputs": [
        {
          "output_type": "stream",
          "name": "stdout",
          "text": [
            "  Age_Group    Rating\n",
            "0     18-25  1.037884\n",
            "1     26-35  1.138671\n",
            "2     36-45  1.100267\n",
            "3     46-55  1.115264\n",
            "4     56-65  1.083356\n",
            "5     66-75  1.126888\n",
            "6       75+  1.103444\n"
          ]
        },
        {
          "output_type": "stream",
          "name": "stderr",
          "text": [
            "<ipython-input-13-1cdd511c28b0>:3: FutureWarning: The default of observed=False is deprecated and will be changed to True in a future version of pandas. Pass observed=False to retain current behavior or observed=True to adopt the future default and silence this warning.\n",
            "  rating_spread = df.groupby('Age_Group')['Rating'].std().reset_index()\n"
          ]
        }
      ]
    },
    {
      "cell_type": "markdown",
      "source": [
        "**Analysis:**\n",
        "\n",
        "*   The 26-35 and 66-75 age groups show the highest spread in ratings, indicating more variability in their opinions.\n",
        "*   The 18-25 and 56-65 age groups have a lower standard deviation, meaning their ratings are relatively more consistent.\n",
        "\n",
        "\n",
        "Overall, there are no extremely large differences in rating spread across age groups, but the slight variations suggest that younger and older individuals may have more extreme opinions compared to the middle age groups."
      ],
      "metadata": {
        "id": "wEKUmBZo8MwR"
      }
    },
    {
      "cell_type": "code",
      "source": [
        "import seaborn as sns\n",
        "import matplotlib.pyplot as plt\n",
        "\n",
        "def plot_within_group_ratings_spread(df):\n",
        "  # Plotting a boxplot to show the spread of ratings within each age group\n",
        "  plt.figure(figsize=(8,6))\n",
        "  sns.boxplot(data=df, x='Age_Group', y='Rating', palette='Set2')\n",
        "\n",
        "  # Adding title and labels\n",
        "  plt.title('Rating Spread Across Age Groups', fontsize=16)\n",
        "  plt.xlabel('Age Group', fontsize=12)\n",
        "  plt.ylabel('Rating', fontsize=12)\n",
        "\n",
        "  # Show the plot\n",
        "  plt.tight_layout()\n",
        "  plt.show()\n",
        "\n",
        "plot_within_group_ratings_spread(data_frame)"
      ],
      "metadata": {
        "colab": {
          "base_uri": "https://localhost:8080/",
          "height": 694
        },
        "id": "RvRUT7DI4qbF",
        "outputId": "2e7b8e7f-99eb-420e-da15-6d9fa93371da"
      },
      "execution_count": 14,
      "outputs": [
        {
          "output_type": "stream",
          "name": "stderr",
          "text": [
            "<ipython-input-14-fdbb94a12ff3>:7: FutureWarning: \n",
            "\n",
            "Passing `palette` without assigning `hue` is deprecated and will be removed in v0.14.0. Assign the `x` variable to `hue` and set `legend=False` for the same effect.\n",
            "\n",
            "  sns.boxplot(data=df, x='Age_Group', y='Rating', palette='Set2')\n"
          ]
        },
        {
          "output_type": "display_data",
          "data": {
            "text/plain": [
              "<Figure size 800x600 with 1 Axes>"
            ],
            "image/png": "[encoded data removed]"
          },
          "metadata": {}
        }
      ]
    },
    {
      "cell_type": "markdown",
      "source": [
        "The **boxplot** visualizes the spread of ratings within each age group. Here's what it reveals:\n",
        "\n",
        "\n",
        "*   Most age groups have a similar range of ratings, but some differences in spread can be observed.\n",
        "*   The 26-35 and 66-75 age groups show a broader spread in ratings, indicating more variability in their opinions.\n",
        "*   18-25 and 56-65 show slightly narrower spreads, meaning their ratings are more consistent.\n",
        "*   Outliers exist in most age groups, representing extreme ratings (either very low or very high).\n",
        "\n",
        "\n",
        "\n",
        "\n",
        "\n",
        "\n",
        "\n"
      ],
      "metadata": {
        "id": "v303qTVv5rUd"
      }
    },
    {
      "cell_type": "markdown",
      "source": [
        "Now, let’s move on to **Category Analysis**. The goal is to explore how different product categories perform in terms of ratings. We can analyze various aspects like:\n",
        "\n",
        "**Average Rating per Category**: Identify which product categories receive the highest or lowest ratings.\n",
        "\n",
        "**Distribution of Ratings within Categories**: Understand how the ratings are spread within each category (e.g., some categories might have more polarized ratings).\n",
        "\n",
        "**Category Popularity**: Check how frequently different categories are reviewed."
      ],
      "metadata": {
        "id": "kl4gw2Cd7exH"
      }
    },
    {
      "cell_type": "code",
      "source": [
        "def calc_category_avg_rating(df):\n",
        "  #Average rating per category\n",
        "\n",
        "  # Grouping by Product Category (Type) and calculating the average rating\n",
        "  category_avg_rating = df.groupby('Type')['Rating'].mean().reset_index()\n",
        "  return category_avg_rating\n",
        "\n",
        "category_avg_rating = calc_category_avg_rating(data_frame)\n",
        "\n",
        "# Display the average rating for each category\n",
        "print(category_avg_rating)"
      ],
      "metadata": {
        "colab": {
          "base_uri": "https://localhost:8080/"
        },
        "id": "-IlN45pT7bje",
        "outputId": "9047263e-1c9b-4e71-e7a6-97089542bb91"
      },
      "execution_count": 15,
      "outputs": [
        {
          "output_type": "stream",
          "name": "stdout",
          "text": [
            "       Type    Rating\n",
            "0   Bottoms  4.288760\n",
            "1   Dresses  4.150815\n",
            "2  Intimate  4.280115\n",
            "3   Jackets  4.264535\n",
            "4      Tops  4.172239\n",
            "5     Trend  3.815126\n",
            "6   Unknown  5.000000\n"
          ]
        }
      ]
    },
    {
      "cell_type": "markdown",
      "source": [
        "**Average Rating per Category**:\n",
        "\n",
        "*  Bottoms (4.29), Intimate (4.28), and Jackets (4.26) are the highest-rated product categories.\n",
        "\n",
        "*   Dresses (4.15) and Tops (4.17) follow with slightly lower average ratings.\n",
        "Trend products have the lowest average rating (3.82), indicating that these may not be as well-received as other categories."
      ],
      "metadata": {
        "id": "BtQpf8kXaRJY"
      }
    },
    {
      "cell_type": "code",
      "source": [
        "def plot_ratings_per_category(df):\n",
        "  # Plotting a boxplot to show the spread of ratings within each category\n",
        "  plt.figure(figsize=(8,6))\n",
        "  sns.boxplot(data=df, x='Type', y='Rating', palette='Set2')\n",
        "\n",
        "  # Adding title and labels\n",
        "  plt.title('Rating Spread Across Product Categories', fontsize=16)\n",
        "  plt.xlabel('Product Category', fontsize=12)\n",
        "  plt.ylabel('Rating', fontsize=12)\n",
        "  plt.xticks(rotation=45)\n",
        "\n",
        "  # Show the plot\n",
        "  plt.tight_layout()\n",
        "  plt.show()\n",
        "\n",
        "plot_ratings_per_category(data_frame)"
      ],
      "metadata": {
        "colab": {
          "base_uri": "https://localhost:8080/",
          "height": 694
        },
        "id": "qpfpNsIP85vL",
        "outputId": "45d26598-b177-4273-acef-ab0ceaf0d779"
      },
      "execution_count": 16,
      "outputs": [
        {
          "output_type": "stream",
          "name": "stderr",
          "text": [
            "<ipython-input-16-2150b022d11c>:4: FutureWarning: \n",
            "\n",
            "Passing `palette` without assigning `hue` is deprecated and will be removed in v0.14.0. Assign the `x` variable to `hue` and set `legend=False` for the same effect.\n",
            "\n",
            "  sns.boxplot(data=df, x='Type', y='Rating', palette='Set2')\n"
          ]
        },
        {
          "output_type": "display_data",
          "data": {
            "text/plain": [
              "<Figure size 800x600 with 1 Axes>"
            ],
            "image/png": "[encoded data removed]"
          },
          "metadata": {}
        }
      ]
    },
    {
      "cell_type": "markdown",
      "source": [
        "**Distribution of Ratings (Boxplot)**:\n",
        "*   Most categories show consistent ratings, with relatively fewer outliers.\n",
        "Trend products have more variability and outliers, indicating polarized opinions.\n",
        "*   Bottoms, Jackets, and Intimate categories show the most consistency, with most ratings clustering at higher values (above 4)."
      ],
      "metadata": {
        "id": "WErAWY0yaYGv"
      }
    },
    {
      "cell_type": "code",
      "source": [
        "def calc_category_popularity(df):\n",
        "  # Counting the number of reviews per category\n",
        "  category_popularity = df['Type'].value_counts().reset_index()\n",
        "  category_popularity.columns = ['Product Category', 'Review Count']\n",
        "  return category_popularity\n",
        "\n",
        "category_popularity = calc_category_popularity(data_frame)\n",
        "\n",
        "# Display the popularity of each category\n",
        "print(category_popularity)"
      ],
      "metadata": {
        "colab": {
          "base_uri": "https://localhost:8080/"
        },
        "id": "9RmcSqhi9HSN",
        "outputId": "6c80f711-6139-49c2-e5e5-d093cb3ab6e7"
      },
      "execution_count": 17,
      "outputs": [
        {
          "output_type": "stream",
          "name": "stdout",
          "text": [
            "  Product Category  Review Count\n",
            "0             Tops         10468\n",
            "1          Dresses          6319\n",
            "2          Bottoms          3799\n",
            "3         Intimate          1735\n",
            "4          Jackets          1032\n",
            "5            Trend           119\n",
            "6          Unknown            14\n"
          ]
        }
      ]
    },
    {
      "cell_type": "markdown",
      "source": [
        "\n",
        "**Category Popularity (Number of Reviews)**:\n",
        "\n",
        "\n",
        "*   Tops (10,468 reviews) and Dresses (6,319 reviews) are the most reviewed categories, showing their popularity among customers.\n",
        "*   Trend (119 reviews) and Jackets (1,032 reviews) are the least reviewed categories.\n",
        "\n",
        "\n",
        "\n",
        "\n",
        "\n",
        "\n",
        "\n",
        "\n",
        "\n",
        "\n",
        "\n",
        "\n",
        "\n",
        "\n"
      ],
      "metadata": {
        "id": "mE_N7YdK-bVW"
      }
    },
    {
      "cell_type": "markdown",
      "source": [
        "**Key Insights:**\n",
        "\n",
        "\n",
        "*   Bottoms, Intimate, and Jackets not only receive high ratings but also show consistency, meaning customers generally rate them favorably with little variability.\n",
        "*   Trend products, though reviewed less frequently, have more polarized opinions, as indicated by the lower average rating and wider spread in the boxplot.\n",
        "*   Tops and Dresses, despite being the most popular categories in terms of reviews, don’t receive the highest average ratings.\n",
        "\n"
      ],
      "metadata": {
        "id": "pxLFy2Ns-Dwe"
      }
    },
    {
      "cell_type": "code",
      "source": [
        "def calc_age_category_ratings_unstack(df):\n",
        "  # Step 1: Calculate average rating for each product category across age groups\n",
        "  age_category_ratings = df.groupby(['Age_Group', 'Type'])['Rating'].mean().unstack()\n",
        "  return age_category_ratings\n",
        "\n",
        "def plot_age_category_ratings_heat_map(age_category_ratings):\n",
        "  # Step 2: Visualize the interaction using a heatmap\n",
        "  plt.figure(figsize=(12,8))\n",
        "  sns.heatmap(age_category_ratings, annot=True, cmap='Blues')\n",
        "  plt.title('Average Rating of Product Categories Across Age Groups', fontsize=16)\n",
        "  plt.xlabel('Product Category', fontsize=12)\n",
        "  plt.ylabel('Age Group', fontsize=12)\n",
        "  plt.tight_layout()\n",
        "  plt.show()\n",
        "\n",
        "age_category_ratings = calc_age_category_ratings_unstack(data_frame)\n",
        "plot_age_category_ratings_heat_map(age_category_ratings)"
      ],
      "metadata": {
        "colab": {
          "base_uri": "https://localhost:8080/",
          "height": 862
        },
        "id": "NdrSYt6S_Ssu",
        "outputId": "c9a9be2c-b21d-49da-8553-9b8604e4987e"
      },
      "execution_count": 18,
      "outputs": [
        {
          "output_type": "stream",
          "name": "stderr",
          "text": [
            "<ipython-input-18-db437930a651>:3: FutureWarning: The default of observed=False is deprecated and will be changed to True in a future version of pandas. Pass observed=False to retain current behavior or observed=True to adopt the future default and silence this warning.\n",
            "  age_category_ratings = df.groupby(['Age_Group', 'Type'])['Rating'].mean().unstack()\n"
          ]
        },
        {
          "output_type": "display_data",
          "data": {
            "text/plain": [
              "<Figure size 1200x800 with 2 Axes>"
            ],
            "image/png": "[encoded data removed]"
          },
          "metadata": {}
        }
      ]
    },
    {
      "cell_type": "markdown",
      "source": [
        "# **NLP**\n",
        "After completing the age-wise analysis and product category analysis, our next step will be to dive into **Natural Language Processing (NLP)**. This will allow us to gain deeper insights by analyzing the review text itself, identifying customer sentiment, frequent themes, and underlying topics. By applying NLP techniques such as **sentiment analysis**, **word frequency analysis**, and **topic modeling**, we can better understand the qualitative aspects of customer feedback and uncover patterns that may not be apparent from numerical ratings alone."
      ],
      "metadata": {
        "id": "78YNMjqBshuA"
      }
    },
    {
      "cell_type": "markdown",
      "source": [
        "We will apply **VADER** **sentiment analysis** to understand the alignment between the text sentiment of customer reviews and their ratings (1-5 stars). Our goal is to check if customers' written feedback matched their ratings and to identify potential mismatches or hidden insights."
      ],
      "metadata": {
        "id": "6CgWTnrSy1Uw"
      }
    },
    {
      "cell_type": "markdown",
      "source": [
        "Then, we will proceed to download the VADER lexicon and initialize the sentiment analyzer:"
      ],
      "metadata": {
        "id": "G-v1FY9vuo2V"
      }
    },
    {
      "cell_type": "code",
      "source": [
        "import nltk\n",
        "from nltk.sentiment.vader import SentimentIntensityAnalyzer\n",
        "\n",
        "# Step 2: Download VADER lexicon\n",
        "nltk.download('vader_lexicon')\n",
        "\n",
        "# Initialize VADER sentiment analyzer\n",
        "sia = SentimentIntensityAnalyzer()"
      ],
      "metadata": {
        "colab": {
          "base_uri": "https://localhost:8080/"
        },
        "id": "ekIXR-7MufqQ",
        "outputId": "7aad1004-b490-4021-f68f-26b99defa6d4"
      },
      "execution_count": 19,
      "outputs": [
        {
          "output_type": "stream",
          "name": "stderr",
          "text": [
            "[nltk_data] Downloading package vader_lexicon to /root/nltk_data...\n"
          ]
        }
      ]
    },
    {
      "cell_type": "markdown",
      "source": [
        "Define a Function to Get **VADER** Sentiment Scores"
      ],
      "metadata": {
        "id": "chA3mT8lvYEI"
      }
    },
    {
      "cell_type": "code",
      "source": [
        "# Step 3: Define a function to get sentiment scores using VADER\n",
        "def get_vader_sentiment(text):\n",
        "    sentiment_scores = sia.polarity_scores(str(text))  # Calculate sentiment scores for the text\n",
        "    return sentiment_scores['compound']  # Return the compound score (overall sentiment)"
      ],
      "metadata": {
        "id": "6YUs5eJVvTLI"
      },
      "execution_count": 20,
      "outputs": []
    },
    {
      "cell_type": "markdown",
      "source": [
        "Apply Sentiment Analysis to the Reviews in data_frame"
      ],
      "metadata": {
        "id": "_C-rL8p-vt2J"
      }
    },
    {
      "cell_type": "code",
      "source": [
        "def analyze_sentiment(data_frame, text_column, rating_column, sentiment_function):\n",
        "    # Apply the sentiment function to each review\n",
        "    data_frame['VADER_Sentiment'] = data_frame[text_column].apply(sentiment_function)\n",
        "\n",
        "    # Calculate the average sentiment for each rating level\n",
        "    sentiment_summary = data_frame.groupby(rating_column)['VADER_Sentiment'].mean().reset_index()\n",
        "\n",
        "    # Return the sentiment summary\n",
        "    return sentiment_summary\n",
        "\n",
        "# Usage example:\n",
        "sentiment_summary = analyze_sentiment(data_frame, 'Text_Review', 'Rating', get_vader_sentiment)\n",
        "\n",
        "# Display the result\n",
        "print(sentiment_summary)"
      ],
      "metadata": {
        "colab": {
          "base_uri": "https://localhost:8080/"
        },
        "id": "6RMZPTR7gx7x",
        "outputId": "b36ad085-b8d0-4169-f3b7-5ef75c2ad362"
      },
      "execution_count": 21,
      "outputs": [
        {
          "output_type": "stream",
          "name": "stdout",
          "text": [
            "   Rating  VADER_Sentiment\n",
            "0       1         0.195338\n",
            "1       2         0.392625\n",
            "2       3         0.524711\n",
            "3       4         0.709751\n",
            "4       5         0.801571\n"
          ]
        }
      ]
    },
    {
      "cell_type": "code",
      "source": [
        "# Function to plot the sentiment summary\n",
        "def plot_sentiment_summary(sentiment_summary, x_column, y_column):\n",
        "    plt.figure(figsize=(8,6))\n",
        "    sns.barplot(data=sentiment_summary, x=x_column, y=y_column, palette='coolwarm')\n",
        "\n",
        "    # Add title and labels\n",
        "    plt.title('Average VADER Sentiment per Rating')\n",
        "    plt.xlabel(x_column)\n",
        "    plt.ylabel('Average VADER Sentiment')\n",
        "\n",
        "    # Show the plot\n",
        "    plt.tight_layout()\n",
        "    plt.show()\n",
        "# Call the plotting function to display the chart\n",
        "plot_sentiment_summary(sentiment_summary, 'Rating', 'VADER_Sentiment')"
      ],
      "metadata": {
        "colab": {
          "base_uri": "https://localhost:8080/",
          "height": 694
        },
        "id": "27ZfHQ29kGLY",
        "outputId": "a553de4e-20e8-4039-9437-967470ca3499"
      },
      "execution_count": 22,
      "outputs": [
        {
          "output_type": "stream",
          "name": "stderr",
          "text": [
            "<ipython-input-22-d148752848ce>:4: FutureWarning: \n",
            "\n",
            "Passing `palette` without assigning `hue` is deprecated and will be removed in v0.14.0. Assign the `x` variable to `hue` and set `legend=False` for the same effect.\n",
            "\n",
            "  sns.barplot(data=sentiment_summary, x=x_column, y=y_column, palette='coolwarm')\n"
          ]
        },
        {
          "output_type": "display_data",
          "data": {
            "text/plain": [
              "<Figure size 800x600 with 1 Axes>"
            ],
            "image/png": "[encoded data removed]"
          },
          "metadata": {}
        }
      ]
    },
    {
      "cell_type": "markdown",
      "source": [
        "***Sentiment Analysis Findings:***\n",
        "\n",
        "Here is the summary of the average VADER sentiment for each rating level:\n",
        "\n",
        "**Rating 1**: Average sentiment score of 0.20 (generally neutral to slightly positive).\n",
        "\n",
        "**Rating 2**: Average sentiment score of 0.40 (moderately positive).\n",
        "\n",
        "**Rating 3:** Average sentiment score of 0.53 (more positive).\n",
        "\n",
        "**Rating 4:** Average sentiment score of 0.72 (highly positive).\n",
        "\n",
        "**Rating 5:** Average sentiment score of 0.81 (very positive).\n",
        "\n",
        "**Interpretation:**\n",
        "**Higher Ratings (4-5):** As expected, the sentiment scores are strongly positive, aligning well with the high ratings.\n",
        "\n",
        "**Lower Ratings (1-2):** Interestingly, even for low ratings, the sentiment scores are slightly positive (0.20 and 0.40), which may indicate that some customers are leaving low ratings despite expressing neutral or somewhat positive feedback in their reviews.\n",
        "\n",
        "This could be a sign that some customers might not be fully reflecting their sentiments in the ratings or that there are external factors (e.g., product fit, delivery issues) influencing their ratings despite expressing more neutral or positive feedback."
      ],
      "metadata": {
        "id": "2bVuEe1EyC2W"
      }
    },
    {
      "cell_type": "markdown",
      "source": [
        "***What do low-rated reviews typically say?***\n",
        "\n",
        "To understand what low-rated reviews typically say, we can analyze the text content of reviews that received 1-2 star ratings. By identifying common words, phrases, or themes, we can determine the recurring pain points or issues customers mention in these reviews.\n",
        "\n",
        "\n",
        "**Steps to Analyze Low-Rated Reviews:**\n",
        "\n",
        "\n",
        "*   Filter Reviews with Low Ratings (1-2 stars).\n",
        "*   Word Frequency Analysis: Identify the most frequently used words in these reviews.\n",
        "*   Common Themes: Analyze common terms or aspects like \"quality\", \"fit\", \"delivery\", etc., that customers often mention negatively.\n",
        "\n",
        "\n",
        "\n",
        "\n",
        "\n",
        "\n",
        "\n"
      ],
      "metadata": {
        "id": "hn0YXV_SzggA"
      }
    },
    {
      "cell_type": "code",
      "source": [
        "from sklearn.feature_extraction.text import CountVectorizer\n",
        "\n",
        "# Step 1: Filter reviews with low ratings (1-2 stars)\n",
        "low_rated_reviews = data_frame[data_frame['Rating'] <= 2]\n",
        "\n",
        "# Step 2: Perform word frequency analysis on the review text\n",
        "vectorizer = CountVectorizer(stop_words='english', max_features=20)\n",
        "word_counts = vectorizer.fit_transform(low_rated_reviews['Text_Review'])\n",
        "\n",
        "# Step 3: Display the top 10 most frequent words in low-rated reviews\n",
        "top_words = vectorizer.get_feature_names_out()\n",
        "print(\"Top words in low-rated reviews:\", top_words)"
      ],
      "metadata": {
        "colab": {
          "base_uri": "https://localhost:8080/"
        },
        "id": "nL11Zz-ZzfRj",
        "outputId": "9c5d3b7d-8ba3-4f96-87d0-47d36ed1434a"
      },
      "execution_count": 23,
      "outputs": [
        {
          "output_type": "stream",
          "name": "stdout",
          "text": [
            "Top words in low-rated reviews: ['color' 'dress' 'fabric' 'fit' 'just' 'large' 'like' 'look' 'looked'\n",
            " 'looks' 'love' 'material' 'ordered' 'quality' 'really' 'shirt' 'size'\n",
            " 'small' 'way' 'wear']\n"
          ]
        }
      ]
    },
    {
      "cell_type": "markdown",
      "source": [
        "*Inference from Top Words in Low-Rated Reviews:*\n",
        "\n",
        "The most frequent words in low-rated reviews provide valuable insight into common customer complaints and pain points:\n",
        "\n",
        "**Fit Issues:**\n",
        "\n",
        "Words like \"fit\", \"large\", \"small\", \"size\", and \"way\" indicate that many customers are dissatisfied with how the product fits. This suggests that sizing or fitting problems are a major reason for low ratings.\n",
        "\n",
        "**Quality Concerns:**\n",
        "\n",
        "Words like \"fabric\", \"material\", and \"quality\" show that customers are frequently commenting on the quality of the products, likely finding them subpar or not meeting expectations.\n",
        "\n",
        "**Product Appearance:**\n",
        "\n",
        "Words like \"look\", \"looks\", \"looked\", and \"color\" suggest that customers may feel that the product doesn't match the images or descriptions, leading to disappointment regarding the appearance.\n",
        "\n",
        "**Ordering and Expectations:**\n",
        "\n",
        "Words like \"ordered\" and \"just\" may indicate issues related to the ordering process or unmet expectations (e.g., the product wasn’t what they expected).\n",
        "\n",
        "**Positive Sentiment Words (e.g., \"love\"):**\n",
        "\n",
        "Interestingly, words like \"love\" appear, indicating that even in low-rated reviews, customers may express positive sentiments about certain aspects of the product (e.g., loving the design but disliking the fit or quality).\n",
        "\n",
        "This insight can help businesses focus on improving product descriptions, sizing accuracy, and quality control to reduce the number of low-rated reviews."
      ],
      "metadata": {
        "id": "6IkgcZUE0zyB"
      }
    },
    {
      "cell_type": "markdown",
      "source": [
        "**Now, we would like to explore product category wise sentiment and the review length.**"
      ],
      "metadata": {
        "id": "sq2ahMwLlqZv"
      }
    },
    {
      "cell_type": "code",
      "source": [
        "# Group by product category (Type) and calculate the average VADER sentiment and review length for each category\n",
        "def analyze_category_sentiment_and_length(data_frame, text_column, type_column, sentiment_column, sentiment_function):\n",
        "    # Apply the sentiment function to each review\n",
        "    data_frame[sentiment_column] = data_frame[text_column].apply(sentiment_function)\n",
        "\n",
        "    # Calculate average sentiment by product category\n",
        "    category_sentiment = data_frame.groupby(type_column)[sentiment_column].mean().reset_index()\n",
        "\n",
        "    # Calculate review length and average review length by product category\n",
        "    data_frame['Review_Length'] = data_frame[text_column].apply(lambda x: len(str(x).split()))\n",
        "    category_review_length = data_frame.groupby(type_column)['Review_Length'].mean().reset_index()\n",
        "\n",
        "    # Merge the two metrics into one DataFrame\n",
        "    category_analysis = pd.merge(category_sentiment, category_review_length, on=type_column)\n",
        "\n",
        "    # Return the combined analysis DataFrame\n",
        "    return category_analysis\n",
        "\n",
        "# Usage example:\n",
        "category_analysis = analyze_category_sentiment_and_length(data_frame, 'Text_Review', 'Type', 'VADER_Sentiment', get_vader_sentiment)\n",
        "\n",
        "# Display the result\n",
        "print(category_analysis)"
      ],
      "metadata": {
        "colab": {
          "base_uri": "https://localhost:8080/"
        },
        "id": "pRLcmdyHooOG",
        "outputId": "601694a4-2547-4a61-9f84-9f4eb207a45e"
      },
      "execution_count": 24,
      "outputs": [
        {
          "output_type": "stream",
          "name": "stdout",
          "text": [
            "       Type  VADER_Sentiment  Review_Length\n",
            "0   Bottoms         0.710057      58.786260\n",
            "1   Dresses         0.706032      62.984491\n",
            "2  Intimate         0.677502      52.640346\n",
            "3   Jackets         0.707644      62.956395\n",
            "4      Tops         0.694364      55.251911\n",
            "5     Trend         0.596986      68.546218\n",
            "6   Unknown         0.707200      31.357143\n"
          ]
        }
      ]
    },
    {
      "cell_type": "markdown",
      "source": [
        "*The table shows the average sentiment and review length by product category:*\n",
        "\n",
        "**Bottoms:** Average sentiment of 0.72 with a review length of 58.78 words.\n",
        "\n",
        "**Dresses: **Average sentiment of 0.71 with a review length of 62.98 words.\n",
        "\n",
        "**Intimate:** Average sentiment of 0.69 with a review length of 52.64 words.\n",
        "\n",
        "**Jackets:** Average sentiment of 0.72 with a review length of 62.95 words.\n",
        "\n",
        "**Tops:** Average sentiment of 0.71 with a review length of 55.25 words.\n",
        "\n",
        "**Key Observations:**\n",
        "\n",
        "Bottoms and Jackets have the highest sentiment scores (~0.72), indicating that customers are generally more positive about these categories.\n",
        "\n",
        "Dresses and Jackets have the longest reviews, suggesting customers might be more descriptive when reviewing these categories.\n",
        "\n",
        "Trend has the lowest sentiment score, suggesting more negative or neutral feedback compared to other categories.\n",
        "\n",
        "Intimate and Tops also have lower sentiment compared to Bottoms and Jackets, indicating areas where customers may have more complaints or lower satisfaction."
      ],
      "metadata": {
        "id": "Mf1gJ10e3uGC"
      }
    },
    {
      "cell_type": "markdown",
      "source": [
        "*Now we would like to do review length analysis*\n",
        "\n",
        "**Review Length Analysis:**\n",
        "\n",
        "Goal: See if there's any correlation between review length (number of words) and rating.\n",
        "\n",
        "How: Analyze the length of reviews and compare it with ratings\n"
      ],
      "metadata": {
        "id": "wBil3xmT46NN"
      }
    },
    {
      "cell_type": "code",
      "source": [
        "def analyze_review_length_by_rating(data_frame, text_column, rating_column):\n",
        "    # Calculate review length (number of words) for each review\n",
        "    data_frame['Review_Length'] = data_frame[text_column].apply(lambda x: len(str(x).split()))\n",
        "\n",
        "    # Calculate average review length by rating\n",
        "    review_length_summary = data_frame.groupby(rating_column)['Review_Length'].mean().reset_index()\n",
        "\n",
        "    # Return the summary DataFrame\n",
        "    return review_length_summary\n",
        "\n",
        "# Usage example:\n",
        "review_length_summary = analyze_review_length_by_rating(data_frame, 'Text_Review', 'Rating')\n",
        "\n",
        "# Display the result\n",
        "print(review_length_summary)"
      ],
      "metadata": {
        "colab": {
          "base_uri": "https://localhost:8080/"
        },
        "id": "9E9buZVaplSz",
        "outputId": "704d9f56-7868-4e41-cb53-2274df762ade"
      },
      "execution_count": 25,
      "outputs": [
        {
          "output_type": "stream",
          "name": "stdout",
          "text": [
            "   Rating  Review_Length\n",
            "0       1      57.220903\n",
            "1       2      61.442812\n",
            "2       3      63.177987\n",
            "3       4      61.274966\n",
            "4       5      55.425177\n"
          ]
        }
      ]
    },
    {
      "cell_type": "markdown",
      "source": [
        "*Inference from Rating vs. Review Length:*\n",
        "\n",
        "**Longer Reviews for Lower Ratings (1-3):**\n",
        "\n",
        "Reviews with lower ratings (1-3) tend to be longer on average, with the highest average review length at 63.18 words for 3-star reviews.\n",
        "This suggests that when customers are dissatisfied or neutral, they tend to write more detailed reviews, possibly to explain their negative experiences or frustrations.\n",
        "\n",
        "**Shorter Reviews for Higher Ratings (4-5):**\n",
        "\n",
        "Higher-rated reviews (4-5 stars) tend to be shorter, with the shortest average review length (55.43 words) for 5-star ratings.\n",
        "This indicates that satisfied customers might be more concise, possibly offering quick, positive feedback without going into much detail.\n",
        "\n",
        "*Key Takeaway:*\n",
        "\n",
        "Negative or neutral experiences lead to longer and more detailed reviews, as customers likely want to explain their dissatisfaction.\n",
        "Positive experiences are often accompanied by shorter reviews, possibly because satisfied customers feel there’s less to elaborate on."
      ],
      "metadata": {
        "id": "a0Fk6n2O5bQh"
      }
    },
    {
      "cell_type": "markdown",
      "source": [
        "# **Topic Modeling Using LDA (Latent Dirichlet Allocation)**\n",
        "\n",
        "Goal: To discover hidden themes or topics in the review text, especially around product aspects like \"fit\", \"quality\", \"price\", etc. This will help us understand the main topics customers are discussing, whether they are complaints or praises.\n",
        "\n",
        "**We will follow these steps:**\n",
        "\n",
        "\n",
        "*   Text Preprocessing: Clean and prepare the text for topic modeling (remove stopwords, tokenize, etc.).\n",
        "*   Apply LDA: Use the LDA algorithm to extract topics from the text.\n",
        "\n",
        "*   Interpret the Topics: Identify the main words in each topic and infer the themes."
      ],
      "metadata": {
        "id": "CxYefNj18fs1"
      }
    },
    {
      "cell_type": "code",
      "source": [
        "from sklearn.feature_extraction.text import CountVectorizer\n",
        "from sklearn.decomposition import LatentDirichletAllocation\n",
        "import nltk\n",
        "from nltk.corpus import stopwords\n",
        "\n",
        "# Download NLTK stopwords\n",
        "nltk.download('stopwords')\n",
        "stop_words = stopwords.words('english')\n",
        "\n",
        "# Function to perform topic modeling and display top words for each topic\n",
        "def perform_topic_modeling(data_frame, text_column, n_topics=5, n_top_words=20, max_features=5000):\n",
        "    # Step 1: Text Preprocessing (Convert text to a document-term matrix)\n",
        "    vectorizer = CountVectorizer(stop_words=stop_words, max_features=max_features)\n",
        "    doc_term_matrix = vectorizer.fit_transform(data_frame[text_column])\n",
        "\n",
        "    # Step 2: Apply LDA for Topic Modeling\n",
        "    lda = LatentDirichletAllocation(n_components=n_topics, random_state=42)\n",
        "    lda.fit(doc_term_matrix)\n",
        "\n",
        "    # Step 3: Display Topics and the Top Words for Each Topic\n",
        "    def display_topics(model, feature_names, no_top_words):\n",
        "        for topic_idx, topic in enumerate(model.components_):\n",
        "            print(f\"\\nTopic {topic_idx + 1}:\")\n",
        "            print(\" \".join([feature_names[i] for i in topic.argsort()[-no_top_words:]]))\n",
        "\n",
        "    # Get feature names (words) from the vectorizer\n",
        "    feature_names = vectorizer.get_feature_names_out()\n",
        "\n",
        "    # Display the top words for each topic\n",
        "    display_topics(lda, feature_names, n_top_words)\n",
        "\n",
        "# Usage example:\n",
        "perform_topic_modeling(data_frame, 'Text_Review', n_topics=5, n_top_words=20)"
      ],
      "metadata": {
        "colab": {
          "base_uri": "https://localhost:8080/"
        },
        "id": "KDksPuYZs6or",
        "outputId": "a7fe67f8-a46d-463e-d771-911a2772c3e8"
      },
      "execution_count": 26,
      "outputs": [
        {
          "output_type": "stream",
          "name": "stderr",
          "text": [
            "[nltk_data] Downloading package stopwords to /root/nltk_data...\n",
            "[nltk_data]   Unzipping corpora/stopwords.zip.\n"
          ]
        },
        {
          "output_type": "stream",
          "name": "stdout",
          "text": [
            "\n",
            "Topic 1:\n",
            "one worn many fall well flattering wore bought fit compliments soft sweater color jeans comfortable perfect dress wear great love\n",
            "\n",
            "Topic 2:\n",
            "medium long one regular love big waist usually wear large store tried like xs would petite ordered small fit size\n",
            "\n",
            "Topic 3:\n",
            "perfect fabric shirt nice medium like large fits cute bought soft color fit little small great wear size love top\n",
            "\n",
            "Topic 4:\n",
            "length cut well fits wear little really look top skirt waist beautiful flattering would love like size fit fabric dress\n",
            "\n",
            "Topic 5:\n",
            "price cute looked one online also color material much looks review would really look fabric sweater shirt back top like\n"
          ]
        }
      ]
    },
    {
      "cell_type": "markdown",
      "source": [
        "**Interpretation of the Topics:**\n",
        "\n",
        "Positive Themes: Topics 1 and 3, which focus on fit, comfort, and quality, have generally positive sentiment, with customers happy about the look and feel of their purchases.\n",
        "\n",
        "Critical Themes: Topics 2 and 5 highlight sizing challenges and price vs. quality issues, indicating dissatisfaction related to these factors.\n",
        "\n",
        "Appearance and Fit: Topics 4 and 5 emphasize how the clothing looks and fits, with concerns about whether the products meet customer expectations in terms of cut, length, and material."
      ],
      "metadata": {
        "id": "tOI12j44_Puf"
      }
    },
    {
      "cell_type": "markdown",
      "source": [
        "**Now we want to classify text reviews as positive or negative based on the text using BERT embeddings and a machine learning classifier (Random Forest and XGBoost, Gradient Boosting).**\n",
        "\n",
        "**Why BERT?**\n",
        "\n",
        "**Context-Aware Embeddings:** BERT (Bidirectional Encoder Representations from Transformers) captures the context of a word in a sentence, unlike traditional embeddings like Word2Vec.\n",
        "\n",
        "**Pre-trained Model:** We use pre-trained BERT (bert-base-uncased), which has already learned a vast amount of language understanding from large datasets.\n",
        "\n",
        "**Versatility:** BERT can handle long reviews and provide a robust embedding for the entire review based on the context of each word."
      ],
      "metadata": {
        "id": "z9xdTn-SW08Y"
      }
    },
    {
      "cell_type": "markdown",
      "source": [
        "**We will load the BERT tokenizer (to convert text into token ids) and the BERT model (to generate embeddings).** We are sampling 1000 reviews from the dataset for quicker processing"
      ],
      "metadata": {
        "id": "tvw9xu2MX67b"
      }
    },
    {
      "cell_type": "code",
      "source": [
        "from transformers import BertTokenizer, BertModel\n",
        "import torch\n",
        "import numpy as np\n",
        "\n",
        "# Function to load BERT model, sample reviews, and generate BERT embeddings\n",
        "def generate_bert_embeddings(data_frame, text_column, sample_size=1000, batch_size=32):\n",
        "    # Step 1: Load pre-trained BERT tokenizer and model\n",
        "    tokenizer = BertTokenizer.from_pretrained('bert-base-uncased')\n",
        "    model = BertModel.from_pretrained('bert-base-uncased')\n",
        "\n",
        "    # Put BERT in evaluation mode to avoid training it\n",
        "    print(model.eval())\n",
        "\n",
        "    # Step 2: Sample reviews from the dataset for quicker processing\n",
        "    sampled_data = data_frame.sample(n=sample_size, random_state=42)\n",
        "\n",
        "    # Step 3: Generate BERT embeddings for the sampled reviews in batches\n",
        "    def get_bert_embeddings_batch(text_list, batch_size):\n",
        "        embeddings = []\n",
        "        for i in range(0, len(text_list), batch_size):\n",
        "            batch_texts = text_list[i:i + batch_size]\n",
        "            inputs = tokenizer(batch_texts, return_tensors='pt', padding=True, truncation=True, max_length=512)\n",
        "\n",
        "            with torch.no_grad():  # No need for gradient calculations during inference\n",
        "                outputs = model(**inputs)\n",
        "\n",
        "            # Extract the [CLS] token embedding for each review in the batch\n",
        "            cls_embeddings = outputs.last_hidden_state[:, 0, :].detach().numpy()\n",
        "            embeddings.append(cls_embeddings)\n",
        "\n",
        "        return np.vstack(embeddings)\n",
        "\n",
        "    # Get embeddings for the sampled reviews\n",
        "    bert_embeddings = get_bert_embeddings_batch(sampled_data[text_column].tolist(), batch_size)\n",
        "\n",
        "    return bert_embeddings, sampled_data  # Return embeddings and the sampled data for reference\n",
        "\n",
        "# Usage example:\n",
        "X_bert_sample, sampled_data = generate_bert_embeddings(data_frame, 'Text_Review', sample_size=1000, batch_size=32)\n",
        "\n",
        "# Now X_bert_sample contains the BERT embeddings for the sampled reviews\n",
        "print(X_bert_sample.shape)"
      ],
      "metadata": {
        "colab": {
          "base_uri": "https://localhost:8080/",
          "height": 1000,
          "referenced_widgets": [
            "c89c591f38404b848c928bbdd2778a06",
            "85723da96e89457b8ffbc098a4ec100a",
            "a14ab78f80ef4bcbb01be4653da69688",
            "ea07340069b347c6a47a048c60c9f922",
            "d319c0e997424f8c98688d17413c45b0",
            "2e15458eecd349aa9956976aa712dbad",
            "f442909a87574381b2a94de93ce47663",
            "88969b9e8ed94617a9ad657775ad43f8",
            "39db66b760e3405fb5640e7a38f4490c",
            "9875f3640eae4ef8b77a0eef8fab99b5",
            "d379a1a600f44a06a3922f87dd5e3fa2",
            "898623e4f47c4f3e8982395cdccd2b20",
            "7aea6d6efa8a43ca9d4179c4783c3cea",
            "cd0e1eb9e8114fb18b3bff784ee25eea",
            "38c6b7bf017d46558c83965fca91669e",
            "64040009a26d445bbbe7dce12819ea66",
            "0ea716f5dcdb4e2eac60e388ac05c190",
            "c9ae7e0f461f4f1e9a8a9347812170c3",
            "c075398a1719429b92f63279468fb175",
            "b444802f6284496c8d8787ec91d5fe6a",
            "3173fb6bdf754422be8fccf49eecc330",
            "dc497b0703a64f3096856cf5569423ea",
            "1165ce65deda43cd9153900eaaa1b797",
            "0dca9a98cf4e4da89d6451878fe21d3e",
            "9d666f43fe3c4910aa6b350f0169d439",
            "9e9594ffc1f34127a2f1111d2455aedc",
            "a0202a541e064a14b34a2f78ac83a311",
            "98737f6655524baa95e4223e9bef35fe",
            "c3ddb0e23efb47bbaadf8764f9514e2e",
            "250e0e786db243129a515b3a9bbf1295",
            "dd3c2ff8276b403ea8240e48609c078a",
            "8f58e4f3d5be4e57b98207a45a51b9ca",
            "1b2d6786d71a43d1a92d1f399f040a87",
            "1b7f8f60888943c0af0aae21e480f4ad",
            "2a8b2fb4f6154e0fb159b54d534e06f4",
            "1808dfc2f9664df2ada6b09cf88c4b40",
            "bc95c9749acb49a6a10caeacbb7d32fa",
            "4c62354b5e63429288428c9ceb62c2b2",
            "87d8867f5d4c449380538b5022123871",
            "686d459b73304cbbbe1651e79e9d1bdc",
            "91be884e8be34e518a4b43a1efe2b737",
            "8e590b5fbb274ba1af2917430081230f",
            "5d8472f0a8214f23881239b75ca094c5",
            "3b75d7f9d9d34a05865c3c64d57b28a7",
            "ff15380c440c4916986945f43249eb07",
            "49c67717092847edb5db262c1841df94",
            "7d6ec14428884bf18dfe8e2ec4fa6a74",
            "1a1e58533e58400ca9ceb23bf9867273",
            "8c52d029e93149e0a90a6469a15f50a9",
            "2b6f2683e54f44e9802277f50af34f9b",
            "27cfb6493d1346fb812b6d63fdc41216",
            "016639062d664caba092a1ab7aec1735",
            "214f6de9c51a4eda887b847b450bfaee",
            "db4847ba6be2411794781ffa2ad00acd",
            "396f8ed523a9448291a6e07f551f925f"
          ]
        },
        "id": "m1NqmWuLLjEZ",
        "outputId": "92d06e7f-cea2-492e-a4fc-f397f57e290e"
      },
      "execution_count": 27,
      "outputs": [
        {
          "output_type": "stream",
          "name": "stderr",
          "text": [
            "/usr/local/lib/python3.10/dist-packages/huggingface_hub/utils/_token.py:89: UserWarning: \n",
            "The secret `HF_TOKEN` does not exist in your Colab secrets.\n",
            "To authenticate with the Hugging Face Hub, create a token in your settings tab (https://huggingface.co/settings/tokens), set it as secret in your Google Colab and restart your session.\n",
            "You will be able to reuse this secret in all of your notebooks.\n",
            "Please note that authentication is recommended but still optional to access public models or datasets.\n",
            "  warnings.warn(\n"
          ]
        },
        {
          "output_type": "display_data",
          "data": {
            "text/plain": [
              "tokenizer_config.json:   0%|          | 0.00/48.0 [00:00<?, ?B/s]"
            ],
            "application/vnd.jupyter.widget-view+json": {
              "version_major": 2,
              "version_minor": 0,
              "model_id": "c89c591f38404b848c928bbdd2778a06"
            }
          },
          "metadata": {}
        },
        {
          "output_type": "display_data",
          "data": {
            "text/plain": [
              "vocab.txt:   0%|          | 0.00/232k [00:00<?, ?B/s]"
            ],
            "application/vnd.jupyter.widget-view+json": {
              "version_major": 2,
              "version_minor": 0,
              "model_id": "898623e4f47c4f3e8982395cdccd2b20"
            }
          },
          "metadata": {}
        },
        {
          "output_type": "display_data",
          "data": {
            "text/plain": [
              "tokenizer.json:   0%|          | 0.00/466k [00:00<?, ?B/s]"
            ],
            "application/vnd.jupyter.widget-view+json": {
              "version_major": 2,
              "version_minor": 0,
              "model_id": "1165ce65deda43cd9153900eaaa1b797"
            }
          },
          "metadata": {}
        },
        {
          "output_type": "display_data",
          "data": {
            "text/plain": [
              "config.json:   0%|          | 0.00/570 [00:00<?, ?B/s]"
            ],
            "application/vnd.jupyter.widget-view+json": {
              "version_major": 2,
              "version_minor": 0,
              "model_id": "1b7f8f60888943c0af0aae21e480f4ad"
            }
          },
          "metadata": {}
        },
        {
          "output_type": "stream",
          "name": "stderr",
          "text": [
            "/usr/local/lib/python3.10/dist-packages/transformers/tokenization_utils_base.py:1601: FutureWarning: `clean_up_tokenization_spaces` was not set. It will be set to `True` by default. This behavior will be depracted in transformers v4.45, and will be then set to `False` by default. For more details check this issue: https://github.com/huggingface/transformers/issues/31884\n",
            "  warnings.warn(\n"
          ]
        },
        {
          "output_type": "display_data",
          "data": {
            "text/plain": [
              "model.safetensors:   0%|          | 0.00/440M [00:00<?, ?B/s]"
            ],
            "application/vnd.jupyter.widget-view+json": {
              "version_major": 2,
              "version_minor": 0,
              "model_id": "ff15380c440c4916986945f43249eb07"
            }
          },
          "metadata": {}
        },
        {
          "output_type": "stream",
          "name": "stdout",
          "text": [
            "BertModel(\n",
            "  (embeddings): BertEmbeddings(\n",
            "    (word_embeddings): Embedding(30522, 768, padding_idx=0)\n",
            "    (position_embeddings): Embedding(512, 768)\n",
            "    (token_type_embeddings): Embedding(2, 768)\n",
            "    (LayerNorm): LayerNorm((768,), eps=1e-12, elementwise_affine=True)\n",
            "    (dropout): Dropout(p=0.1, inplace=False)\n",
            "  )\n",
            "  (encoder): BertEncoder(\n",
            "    (layer): ModuleList(\n",
            "      (0-11): 12 x BertLayer(\n",
            "        (attention): BertAttention(\n",
            "          (self): BertSdpaSelfAttention(\n",
            "            (query): Linear(in_features=768, out_features=768, bias=True)\n",
            "            (key): Linear(in_features=768, out_features=768, bias=True)\n",
            "            (value): Linear(in_features=768, out_features=768, bias=True)\n",
            "            (dropout): Dropout(p=0.1, inplace=False)\n",
            "          )\n",
            "          (output): BertSelfOutput(\n",
            "            (dense): Linear(in_features=768, out_features=768, bias=True)\n",
            "            (LayerNorm): LayerNorm((768,), eps=1e-12, elementwise_affine=True)\n",
            "            (dropout): Dropout(p=0.1, inplace=False)\n",
            "          )\n",
            "        )\n",
            "        (intermediate): BertIntermediate(\n",
            "          (dense): Linear(in_features=768, out_features=3072, bias=True)\n",
            "          (intermediate_act_fn): GELUActivation()\n",
            "        )\n",
            "        (output): BertOutput(\n",
            "          (dense): Linear(in_features=3072, out_features=768, bias=True)\n",
            "          (LayerNorm): LayerNorm((768,), eps=1e-12, elementwise_affine=True)\n",
            "          (dropout): Dropout(p=0.1, inplace=False)\n",
            "        )\n",
            "      )\n",
            "    )\n",
            "  )\n",
            "  (pooler): BertPooler(\n",
            "    (dense): Linear(in_features=768, out_features=768, bias=True)\n",
            "    (activation): Tanh()\n",
            "  )\n",
            ")\n",
            "(1000, 768)\n"
          ]
        }
      ]
    },
    {
      "cell_type": "markdown",
      "source": [
        "**In this section, we will define a custom function label_sentiment to categorize reviews based on their rating scores. Reviews with ratings of 4 or 5 are labeled as positive (1), while those with ratings of 1, 2, or 3 are labeled as negative (0). This binary classification is used for sentiment analysis purposes. The function operates on the sampled_data DataFrame and returns a new column, Sentiment_Label, containing the sentiment labels for each review.**"
      ],
      "metadata": {
        "id": "Umrz2uKqcLVO"
      }
    },
    {
      "cell_type": "code",
      "source": [
        "# Label the reviews based on the Rating column\n",
        "# Assuming a rating of 4 and 5 is positive, and 1-3 is negative\n",
        "def label_sentiment(sampled_data, rating_column):\n",
        "    # Label sentiment: 1 for positive (rating >= 4), 0 for negative (rating <= 3)\n",
        "    sampled_data['Sentiment_Label'] = sampled_data[rating_column].apply(lambda x: 1 if x >= 4 else 0)\n",
        "    return sampled_data['Sentiment_Label']\n",
        "\n",
        "# Usage example:\n",
        "y_sample = label_sentiment(sampled_data, 'Rating')"
      ],
      "metadata": {
        "id": "18fCxnCFagJc"
      },
      "execution_count": 28,
      "outputs": []
    },
    {
      "cell_type": "markdown",
      "source": [
        "train_test_split is used to split the **BERT embeddings** (**X_bert_sample**) and the corresponding **sentiment labels (y_sample)** into training and test sets. The training set is used to fit the model, and the test set is used to evaluate the model’s performance."
      ],
      "metadata": {
        "id": "On5NWXQNdM80"
      }
    },
    {
      "cell_type": "code",
      "source": [
        "from sklearn.model_selection import train_test_split\n",
        "\n",
        "# Split the data into training and test sets\n",
        "X_train, X_test, y_train, y_test = train_test_split(X_bert_sample, y_sample, test_size=0.2, random_state=42)"
      ],
      "metadata": {
        "id": "bAWfQjT8hP2T"
      },
      "execution_count": 29,
      "outputs": []
    },
    {
      "cell_type": "markdown",
      "source": [
        "Predictive models such as **Random Forest**, **Gradient Boosting**, and **XGBoost** are commonly used for classification tasks, including sentiment analysis. In this case, these models are applied to predict whether a review is positive or negative based on various features, including **BERT embeddings**. The binary labels (positive or negative) serve as the target variable, allowing these models to learn patterns from the data. These models are effective because they handle complex feature interactions, offer robust performance with imbalanced data, and have strong generalization capabilities, making them ideal for tasks like sentiment classification."
      ],
      "metadata": {
        "id": "fmII2bUgdwPl"
      }
    },
    {
      "cell_type": "code",
      "source": [
        "from sklearn.ensemble import RandomForestClassifier\n",
        "from sklearn.metrics import classification_report, accuracy_score\n",
        "\n",
        "# Function to train Random Forest, make predictions, and evaluate the model\n",
        "def train_and_evaluate_random_forest(X_train, y_train, X_test, y_test):\n",
        "    # Initialize the Random Forest classifier\n",
        "    random_forest_model = RandomForestClassifier(n_estimators=100,  # Increase number of trees\n",
        "                                                 max_depth=7,  # Limit the depth of each tree\n",
        "                                                 min_samples_split=5,  # Minimum samples required to split\n",
        "                                                 min_samples_leaf=2,  # Minimum samples required at leaf node\n",
        "                                                 random_state=42)\n",
        "\n",
        "    # Train the model\n",
        "    random_forest_model.fit(X_train, y_train)\n",
        "\n",
        "    # Make predictions on the test set\n",
        "    y_pred = random_forest_model.predict(X_test)\n",
        "\n",
        "    # Calculate accuracy\n",
        "    accuracy = accuracy_score(y_test, y_pred)\n",
        "    print(f\"Random Forest Accuracy: {accuracy:.4f}\")  # Accuracy with 4 decimal places\n",
        "\n",
        "    # Display classification report (precision, recall, F1-score) with 4 decimal places\n",
        "    report = classification_report(y_test, y_pred, digits=4)\n",
        "    print(\"Classification Report:\")\n",
        "    print(report)\n",
        "\n",
        "    return random_forest_model, accuracy, report  # Optionally return the model and evaluation metrics\n",
        "\n",
        "# Usage example:\n",
        "rf_model, rf_accuracy, rf_report = train_and_evaluate_random_forest(X_train, y_train, X_test, y_test)"
      ],
      "metadata": {
        "colab": {
          "base_uri": "https://localhost:8080/"
        },
        "id": "aWqTmU82eJ1y",
        "outputId": "b5034e84-7b35-464a-c847-fdbbaa0d66b0"
      },
      "execution_count": 30,
      "outputs": [
        {
          "output_type": "stream",
          "name": "stdout",
          "text": [
            "Random Forest Accuracy: 0.8050\n",
            "Classification Report:\n",
            "              precision    recall  f1-score   support\n",
            "\n",
            "           0     0.9000    0.1915    0.3158        47\n",
            "           1     0.8000    0.9935    0.8863       153\n",
            "\n",
            "    accuracy                         0.8050       200\n",
            "   macro avg     0.8500    0.5925    0.6010       200\n",
            "weighted avg     0.8235    0.8050    0.7522       200\n",
            "\n"
          ]
        }
      ]
    },
    {
      "cell_type": "markdown",
      "source": [
        "**Observations:**\n",
        "\n",
        "\n",
        "*   The model is very good at identifying positive reviews (class 1) but struggles with negative reviews (class 0), as shown by the low recall for class 0.\n",
        "*   This imbalance in performance is likely due to the class imbalance in the dataset.\n",
        "*   The model is likely biased toward predicting positive reviews because they dominate the training data."
      ],
      "metadata": {
        "id": "zOEo3i0TmWIF"
      }
    },
    {
      "cell_type": "markdown",
      "source": [
        "**We will explore Gradient Boosting or XGBoost, which often perform well on imbalanced datasets. These models can be tuned to handle class imbalance better than Random Forest.**\n",
        "\n",
        "Step-by-Step Implementation:\n",
        "\n",
        "Gradient Boosting: We will start with Gradient Boosting Classifier from sklearn and tune the class weights to handle imbalance.\n",
        "\n",
        "XGBoost: Then, we'll use XGBoost, which has built-in parameters to handle class imbalance (like scale_pos_weight)."
      ],
      "metadata": {
        "id": "rW1do_SImvHY"
      }
    },
    {
      "cell_type": "code",
      "source": [
        "from sklearn.ensemble import GradientBoostingClassifier\n",
        "from sklearn.metrics import classification_report, accuracy_score\n",
        "\n",
        "# Function to train and evaluate Gradient Boosting\n",
        "def train_and_evaluate_gradient_boosting(X_train, y_train, X_test, y_test):\n",
        "    # Initialize Gradient Boosting classifier\n",
        "    gb_model = GradientBoostingClassifier(n_estimators=200,  # More trees\n",
        "                                          learning_rate=0.1,  # Smaller learning rate\n",
        "                                          max_depth=3,  # Shallow trees\n",
        "                                          min_samples_split=5,  # Minimum number of samples to split\n",
        "                                          min_samples_leaf=2,  # Minimum number of samples at a leaf\n",
        "                                          subsample=0.8,  # Use 80% of data for each tree\n",
        "                                          random_state=42)\n",
        "\n",
        "    # Train the Gradient Boosting model\n",
        "    gb_model.fit(X_train, y_train)\n",
        "\n",
        "    # Make predictions on the test set\n",
        "    y_pred_gb = gb_model.predict(X_test)\n",
        "\n",
        "    # Evaluate the Gradient Boosting model\n",
        "    accuracy_gb = accuracy_score(y_test, y_pred_gb)\n",
        "    print(f\"Gradient Boosting Accuracy: {accuracy_gb:.4f}\")\n",
        "\n",
        "    # Display classification report (precision, recall, F1-score)\n",
        "    report_gb = classification_report(y_test, y_pred_gb, digits=4)\n",
        "    print(\"Classification Report for Gradient Boosting:\")\n",
        "    print(report_gb)\n",
        "\n",
        "    return gb_model, accuracy_gb, report_gb  # Return the model and evaluation metrics\n",
        "\n",
        "# Usage example:\n",
        "gb_model, gb_accuracy, gb_report = train_and_evaluate_gradient_boosting(X_train, y_train, X_test, y_test)"
      ],
      "metadata": {
        "id": "T2-CKfV_m0ri",
        "colab": {
          "base_uri": "https://localhost:8080/"
        },
        "outputId": "3e48664d-6be3-49b8-a801-dae8f36460c0"
      },
      "execution_count": 31,
      "outputs": [
        {
          "output_type": "stream",
          "name": "stdout",
          "text": [
            "Gradient Boosting Accuracy: 0.8300\n",
            "Classification Report for Gradient Boosting:\n",
            "              precision    recall  f1-score   support\n",
            "\n",
            "           0     0.7241    0.4468    0.5526        47\n",
            "           1     0.8480    0.9477    0.8951       153\n",
            "\n",
            "    accuracy                         0.8300       200\n",
            "   macro avg     0.7860    0.6973    0.7238       200\n",
            "weighted avg     0.8189    0.8300    0.8146       200\n",
            "\n"
          ]
        }
      ]
    },
    {
      "cell_type": "code",
      "source": [
        "!pip install xgboost"
      ],
      "metadata": {
        "id": "CLlEWaNHn4SP",
        "colab": {
          "base_uri": "https://localhost:8080/"
        },
        "outputId": "e79d1149-7c75-484b-eeac-3b3f587d7f0d"
      },
      "execution_count": 32,
      "outputs": [
        {
          "output_type": "stream",
          "name": "stdout",
          "text": [
            "Requirement already satisfied: xgboost in /usr/local/lib/python3.10/dist-packages (2.1.1)\n",
            "Requirement already satisfied: numpy in /usr/local/lib/python3.10/dist-packages (from xgboost) (1.26.4)\n",
            "Requirement already satisfied: nvidia-nccl-cu12 in /usr/local/lib/python3.10/dist-packages (from xgboost) (2.23.4)\n",
            "Requirement already satisfied: scipy in /usr/local/lib/python3.10/dist-packages (from xgboost) (1.13.1)\n"
          ]
        }
      ]
    },
    {
      "cell_type": "code",
      "source": [
        "import xgboost as xgb\n",
        "from sklearn.metrics import classification_report, accuracy_score\n",
        "\n",
        "# Function to train and evaluate XGBoost classifier\n",
        "def train_and_evaluate_xgboost(X_train, y_train, X_test, y_test):\n",
        "    # Calculate scale_pos_weight (balancing the classes)\n",
        "    negative_class = sum(y_train == 0)\n",
        "    positive_class = sum(y_train == 1)\n",
        "    scale_pos_weight = negative_class / positive_class\n",
        "\n",
        "    # Initialize XGBoost classifier with calculated scale_pos_weight\n",
        "    xgb_model = xgb.XGBClassifier(random_state=42, scale_pos_weight=scale_pos_weight, eval_metric='logloss')\n",
        "\n",
        "    # Train the XGBoost model\n",
        "    xgb_model.fit(X_train, y_train)\n",
        "\n",
        "    # Make predictions on the test set\n",
        "    y_pred_xgb = xgb_model.predict(X_test)\n",
        "\n",
        "    # Evaluate the XGBoost model\n",
        "    accuracy_xgb = accuracy_score(y_test, y_pred_xgb)\n",
        "    print(f\"XGBoost Accuracy: {accuracy_xgb:.4f}\")\n",
        "\n",
        "    # Display classification report (precision, recall, F1-score)\n",
        "    report_xgb = classification_report(y_test, y_pred_xgb, digits=4)\n",
        "    print(\"Classification Report for XGBoost:\")\n",
        "    print(report_xgb)\n",
        "\n",
        "    return xgb_model, accuracy_xgb, report_xgb  # Return the model, accuracy, and report\n",
        "\n",
        "# Usage example:\n",
        "xgb_model, xgb_accuracy, xgb_report = train_and_evaluate_xgboost(X_train, y_train, X_test, y_test)"
      ],
      "metadata": {
        "id": "anzbgFy8oANk",
        "colab": {
          "base_uri": "https://localhost:8080/"
        },
        "outputId": "63f26adc-7e8a-467c-f3cd-08e936a86efd"
      },
      "execution_count": 33,
      "outputs": [
        {
          "output_type": "stream",
          "name": "stdout",
          "text": [
            "XGBoost Accuracy: 0.8200\n",
            "Classification Report for XGBoost:\n",
            "              precision    recall  f1-score   support\n",
            "\n",
            "           0     0.6486    0.5106    0.5714        47\n",
            "           1     0.8589    0.9150    0.8861       153\n",
            "\n",
            "    accuracy                         0.8200       200\n",
            "   macro avg     0.7538    0.7128    0.7288       200\n",
            "weighted avg     0.8095    0.8200    0.8121       200\n",
            "\n"
          ]
        }
      ]
    },
    {
      "cell_type": "markdown",
      "source": [
        "*Recall is important in this context because it ensures that the model catches as many of these critical negative reviews as possible, preventing missed opportunities to address customer dissatisfaction.*\n",
        "\n",
        "\n",
        "**XGBoost:**\n",
        "\n",
        "Recall for Class 0: 51.06%\n",
        "\n",
        "This means XGBoost correctly identifies 51.06% of actual negative reviews. This is higher than both Gradient Boosting and Random Forest, which means it is better at catching negative reviews.\n",
        "\n",
        "**Gradient Boosting:**\n",
        "\n",
        "Recall for Class 0: 44.68%\n",
        "Gradient Boosting identifies 44.68% of actual negative reviews, which is lower than XGBoost.\n",
        "\n",
        "**Random Forest:**\n",
        "\n",
        "Recall for Class 0: 19.15%\n",
        "Random Forest has a much lower recall for negative reviews compared to both XGBoost and Gradient Boosting.\n",
        "\n",
        "So, we can conclude that XGBoost does a better job of identifying negative reviews (Class 0) than both Gradient Boosting and Random Forest. This means XGBoost is better at catching negative reviews, even though Gradient Boosting has slightly better performance on positive reviews.\n",
        "Gradient Boosting shows slightly better precision for negative reviews, meaning fewer false positives (incorrectly predicting reviews as negative when they're actually positive)."
      ],
      "metadata": {
        "id": "KWcFQcJtq4VC"
      }
    },
    {
      "cell_type": "markdown",
      "source": [
        "# **Transition from BERT Embeddings to Fine-Tuning BERT**\n",
        "We started our sentiment analysis by using BERT embeddings in combination with models like XGBoost and Gradient Boosting. These models helped us achieve good results by using pre-trained BERT embeddings as features, but now we aim to enhance performance further by fine-tuning BERT directly on our dataset."
      ],
      "metadata": {
        "id": "vkGBJMF8HRpB"
      }
    },
    {
      "cell_type": "markdown",
      "source": [
        "**Fine-Tuning:**\n",
        "\n",
        "When we fine-tune BERT on our specific dataset of reviews, the model adjusts its pre-trained weights to better grasp how sentiment (positive or negative) is expressed within the context of these reviews. It learns to associate certain patterns, words, or combinations of words with either positive or negative sentiment.\n",
        "\n",
        "**Binary Classification:**\n",
        "\n",
        "In the fine-tuning process, we train BERT as a sequence classification model with two possible labels: 0 for negative sentiment and 1 for positive sentiment. During training, BERT’s internal parameters are updated to minimize errors and make accurate predictions based on sentiment.\n",
        "\n",
        "**Prediction:**\n",
        "\n",
        "Once the model is fine-tuned, we can pass a new review (or text) to the model, and it will predict whether the sentiment is positive or negative. This prediction is based on the specific patterns and language nuances that BERT has learned during fine-tuning."
      ],
      "metadata": {
        "id": "_sDqPGgXHh2U"
      }
    },
    {
      "cell_type": "markdown",
      "source": [
        "**We’ll sample 500 rows from the dataset to use for fine-tuning.**\n",
        "\n"
      ],
      "metadata": {
        "id": "5G0lUqbTH7GO"
      }
    },
    {
      "cell_type": "code",
      "source": [
        "def prepare_data_for_finetuning(data_frame, sample_size=500, test_size=0.2, random_state=42):\n",
        "\n",
        "\n",
        "    # Step 1: Create the Sentiment_Label column\n",
        "    data_frame['Sentiment_Label'] = data_frame['Rating'].apply(lambda x: 1 if x >= 4 else 0)\n",
        "\n",
        "    # Step 2: Sample a subset of the data\n",
        "    data_frame_sampled = data_frame.sample(n=sample_size, random_state=random_state)\n",
        "\n",
        "    # Step 3: Split the data into training and test sets\n",
        "    train_texts, test_texts, train_labels, test_labels = train_test_split(\n",
        "        data_frame_sampled['Text_Review'].tolist(),\n",
        "        data_frame_sampled['Sentiment_Label'].tolist(),\n",
        "        test_size=test_size,\n",
        "        random_state=random_state\n",
        "    )\n",
        "\n",
        "    return train_texts, test_texts, train_labels, test_labels\n",
        "\n",
        "# Usage example:\n",
        "train_texts, test_texts, train_labels, test_labels = prepare_data_for_finetuning(data_frame)"
      ],
      "metadata": {
        "id": "YlXi5lJ-H9Ci"
      },
      "execution_count": 34,
      "outputs": []
    },
    {
      "cell_type": "code",
      "source": [
        "from transformers import BertTokenizer\n",
        "\n",
        "# Define a function to load the tokenizer and tokenize the input data\n",
        "def tokenize_text_data(train_texts, test_texts, max_length=128):\n",
        "    \"\"\"\n",
        "    This function tokenizes both training and test text data using the BERT tokenizer.\n",
        "\n",
        "    Parameters:\n",
        "    - train_texts: List of training texts\n",
        "    - test_texts: List of testing texts\n",
        "    - max_length: Maximum token length for truncation and padding (default=128)\n",
        "\n",
        "    Returns:\n",
        "    - train_encodings: Tokenized encodings for training texts\n",
        "    - test_encodings: Tokenized encodings for testing texts\n",
        "    \"\"\"\n",
        "    # Load the BERT tokenizer\n",
        "    tokenizer = BertTokenizer.from_pretrained('bert-base-uncased')\n",
        "\n",
        "    # Tokenize the train and test text data\n",
        "    train_encodings = tokenizer(\n",
        "        train_texts,\n",
        "        padding='max_length',\n",
        "        truncation=True,\n",
        "        max_length=max_length,\n",
        "        return_tensors='pt'\n",
        "    )\n",
        "\n",
        "    test_encodings = tokenizer(\n",
        "        test_texts,\n",
        "        padding='max_length',\n",
        "        truncation=True,\n",
        "        max_length=max_length,\n",
        "        return_tensors='pt'\n",
        "    )\n",
        "\n",
        "    return train_encodings, test_encodings\n",
        "\n",
        "# Usage example:\n",
        "train_encodings, test_encodings = tokenize_text_data(train_texts, test_texts)"
      ],
      "metadata": {
        "colab": {
          "base_uri": "https://localhost:8080/"
        },
        "id": "yH-vuCVuJRMV",
        "outputId": "446244d7-4e97-4141-bd64-1d55db3b3ff8"
      },
      "execution_count": 35,
      "outputs": [
        {
          "output_type": "stream",
          "name": "stderr",
          "text": [
            "/usr/local/lib/python3.10/dist-packages/transformers/tokenization_utils_base.py:1601: FutureWarning: `clean_up_tokenization_spaces` was not set. It will be set to `True` by default. This behavior will be depracted in transformers v4.45, and will be then set to `False` by default. For more details check this issue: https://github.com/huggingface/transformers/issues/31884\n",
            "  warnings.warn(\n"
          ]
        }
      ]
    },
    {
      "cell_type": "code",
      "source": [
        "import torch\n",
        "from torch.utils.data import Dataset\n",
        "\n",
        "def create_sentiment_dataset(encodings, labels):\n",
        "    \"\"\"\n",
        "    Create a PyTorch Dataset class for sentiment data.\n",
        "\n",
        "    Parameters:\n",
        "    - encodings: The tokenized encodings of the texts\n",
        "    - labels: The sentiment labels for the texts (0 or 1)\n",
        "\n",
        "    Returns:\n",
        "    - A PyTorch Dataset object\n",
        "    \"\"\"\n",
        "    class SentimentDataset(Dataset):\n",
        "        def __init__(self, encodings, labels):\n",
        "            self.encodings = encodings\n",
        "            self.labels = labels\n",
        "\n",
        "        def __getitem__(self, idx):\n",
        "            item = {key: torch.tensor(val[idx]) for key, val in self.encodings.items()}\n",
        "            item['labels'] = torch.tensor(self.labels[idx])\n",
        "            return item\n",
        "\n",
        "        def __len__(self):\n",
        "            return len(self.labels)\n",
        "\n",
        "    return SentimentDataset(encodings, labels)"
      ],
      "metadata": {
        "id": "lISww19oJ9Vc"
      },
      "execution_count": 36,
      "outputs": []
    },
    {
      "cell_type": "code",
      "source": [
        "from torch.utils.data import DataLoader\n",
        "\n",
        "def create_dataloaders(train_encodings, train_labels, test_encodings, test_labels, batch_size=16):\n",
        "    \"\"\"\n",
        "    Create PyTorch DataLoaders for the training and test datasets.\n",
        "\n",
        "    Parameters:\n",
        "    - train_encodings: Tokenized training texts\n",
        "    - train_labels: Sentiment labels for training texts\n",
        "    - test_encodings: Tokenized test texts\n",
        "    - test_labels: Sentiment labels for test texts\n",
        "    - batch_size: Batch size for training (default is 16)\n",
        "\n",
        "    Returns:\n",
        "    - train_loader: DataLoader for training set\n",
        "    - test_loader: DataLoader for test set\n",
        "    \"\"\"\n",
        "    # Create Dataset objects\n",
        "    train_dataset = create_sentiment_dataset(train_encodings, train_labels)\n",
        "    test_dataset = create_sentiment_dataset(test_encodings, test_labels)\n",
        "\n",
        "    # Create DataLoaders\n",
        "    train_loader = DataLoader(train_dataset, batch_size=batch_size, shuffle=True)\n",
        "    test_loader = DataLoader(test_dataset, batch_size=batch_size)\n",
        "\n",
        "    return train_loader, test_loader"
      ],
      "metadata": {
        "id": "vlqrHFBDKCyj"
      },
      "execution_count": 37,
      "outputs": []
    },
    {
      "cell_type": "markdown",
      "source": [
        "temporary check"
      ],
      "metadata": {
        "id": "kYwxn4w_MdU9"
      }
    },
    {
      "cell_type": "code",
      "source": [
        "#temporary to check data loader\n",
        "# Step 1: Create the DataLoaders\n",
        "train_loader, test_loader = create_dataloaders(train_encodings, train_labels, test_encodings, test_labels)\n",
        "\n",
        "# Step 2: Define the check_dataloader function\n",
        "def check_dataloader(dataloader, num_batches=1):\n",
        "    \"\"\"\n",
        "    Function to check if DataLoader is working properly.\n",
        "\n",
        "    Parameters:\n",
        "    - dataloader: DataLoader to check\n",
        "    - num_batches: Number of batches to inspect (default is 1)\n",
        "    \"\"\"\n",
        "    for batch_idx, batch in enumerate(dataloader):\n",
        "        print(f\"Batch {batch_idx+1}:\")\n",
        "        print(f\"Input IDs: {batch['input_ids']}\")\n",
        "        print(f\"Attention Mask: {batch['attention_mask']}\")\n",
        "        print(f\"Labels: {batch['labels']}\")\n",
        "        print(\"-\" * 20)\n",
        "\n",
        "        # Only check the first few batches\n",
        "        if batch_idx + 1 == num_batches:\n",
        "            break\n",
        "\n",
        "# Step 3: Check train_loader\n",
        "check_dataloader(train_loader)\n",
        "\n",
        "# Step 4: Check test_loader\n",
        "check_dataloader(test_loader)"
      ],
      "metadata": {
        "colab": {
          "base_uri": "https://localhost:8080/"
        },
        "id": "33lScS_4MU5X",
        "outputId": "28571ca8-be1a-4413-fc7d-52a135f06e52"
      },
      "execution_count": 38,
      "outputs": [
        {
          "output_type": "stream",
          "name": "stdout",
          "text": [
            "Batch 1:\n",
            "Input IDs: tensor([[ 101, 1045, 2001,  ...,    0,    0,    0],\n",
            "        [ 101, 1045, 2293,  ...,    0,    0,    0],\n",
            "        [ 101, 1045, 2031,  ...,    0,    0,    0],\n",
            "        ...,\n",
            "        [ 101, 1045, 2066,  ...,    0,    0,    0],\n",
            "        [ 101, 1045, 2031,  ...,    0,    0,    0],\n",
            "        [ 101, 2023, 9764,  ...,    0,    0,    0]])\n",
            "Attention Mask: tensor([[1, 1, 1,  ..., 0, 0, 0],\n",
            "        [1, 1, 1,  ..., 0, 0, 0],\n",
            "        [1, 1, 1,  ..., 0, 0, 0],\n",
            "        ...,\n",
            "        [1, 1, 1,  ..., 0, 0, 0],\n",
            "        [1, 1, 1,  ..., 0, 0, 0],\n",
            "        [1, 1, 1,  ..., 0, 0, 0]])\n",
            "Labels: tensor([1, 1, 1, 1, 1, 0, 1, 1, 1, 1, 1, 1, 0, 1, 1, 1])\n",
            "--------------------\n",
            "Batch 1:\n",
            "Input IDs: tensor([[  101,  5683,  2307,  ...,     0,     0,     0],\n",
            "        [  101,  1045,  5247,  ...,     0,     0,     0],\n",
            "        [  101,  1045,  2788,  ...,     0,     0,     0],\n",
            "        ...,\n",
            "        [  101,  2023,  2003,  ...,     0,     0,     0],\n",
            "        [  101,  1045,  1005,  ...,     0,     0,     0],\n",
            "        [  101,  2023, 14329,  ...,     0,     0,     0]])\n",
            "Attention Mask: tensor([[1, 1, 1,  ..., 0, 0, 0],\n",
            "        [1, 1, 1,  ..., 0, 0, 0],\n",
            "        [1, 1, 1,  ..., 0, 0, 0],\n",
            "        ...,\n",
            "        [1, 1, 1,  ..., 0, 0, 0],\n",
            "        [1, 1, 1,  ..., 0, 0, 0],\n",
            "        [1, 1, 1,  ..., 0, 0, 0]])\n",
            "Labels: tensor([1, 1, 0, 1, 1, 1, 1, 1, 1, 0, 1, 1, 1, 1, 1, 1])\n",
            "--------------------\n"
          ]
        },
        {
          "output_type": "stream",
          "name": "stderr",
          "text": [
            "<ipython-input-36-7a2865e5a42d>:21: UserWarning: To copy construct from a tensor, it is recommended to use sourceTensor.clone().detach() or sourceTensor.clone().detach().requires_grad_(True), rather than torch.tensor(sourceTensor).\n",
            "  item = {key: torch.tensor(val[idx]) for key, val in self.encodings.items()}\n"
          ]
        }
      ]
    },
    {
      "cell_type": "code",
      "source": [
        "from transformers import BertForSequenceClassification\n",
        "\n",
        "# Load pre-trained BERT model for sequence classification (binary classification)\n",
        "def load_bert_model():\n",
        "    \"\"\"\n",
        "    Load the pre-trained BERT model for binary classification.\n",
        "\n",
        "    Returns:\n",
        "    - model: The BERT model with a classification head\n",
        "    \"\"\"\n",
        "    model = BertForSequenceClassification.from_pretrained('bert-base-uncased', num_labels=2)\n",
        "    return model\n",
        "\n",
        "# Load the model\n",
        "model = load_bert_model()"
      ],
      "metadata": {
        "colab": {
          "base_uri": "https://localhost:8080/"
        },
        "id": "WXu4TVdcKMiU",
        "outputId": "e5b55235-f02b-48a9-ef67-d6f013958bb2"
      },
      "execution_count": 39,
      "outputs": [
        {
          "output_type": "stream",
          "name": "stderr",
          "text": [
            "Some weights of BertForSequenceClassification were not initialized from the model checkpoint at bert-base-uncased and are newly initialized: ['classifier.bias', 'classifier.weight']\n",
            "You should probably TRAIN this model on a down-stream task to be able to use it for predictions and inference.\n"
          ]
        }
      ]
    },
    {
      "cell_type": "code",
      "source": [
        "from transformers import AdamW, get_scheduler\n",
        "\n",
        "def setup_optimizer_scheduler(model, train_loader, num_epochs=3, lr=5e-5):\n",
        "    \"\"\"\n",
        "    Set up the AdamW optimizer and learning rate scheduler for the BERT model.\n",
        "\n",
        "    Parameters:\n",
        "    - model: The BERT model to be fine-tuned\n",
        "    - train_loader: DataLoader for the training dataset\n",
        "    - num_epochs: Number of training epochs (default is 3)\n",
        "    - lr: Learning rate for the optimizer (default is 5e-5)\n",
        "\n",
        "    Returns:\n",
        "    - optimizer: AdamW optimizer\n",
        "    - scheduler: Linear learning rate scheduler\n",
        "    - num_training_steps: Number of total training steps\n",
        "    \"\"\"\n",
        "    # AdamW optimizer with weight decay\n",
        "    optimizer = AdamW(model.parameters(), lr=lr)\n",
        "\n",
        "    # Calculate total training steps (epochs * batches per epoch)\n",
        "    num_training_steps = num_epochs * len(train_loader)\n",
        "\n",
        "    # Create a linear learning rate scheduler\n",
        "    scheduler = get_scheduler(\n",
        "        name=\"linear\",\n",
        "        optimizer=optimizer,\n",
        "        num_warmup_steps=0,  # Warm-up steps can be adjusted if needed\n",
        "        num_training_steps=num_training_steps\n",
        "    )\n",
        "\n",
        "    return optimizer, scheduler, num_training_steps\n",
        "\n",
        "# Example usage\n",
        "optimizer, scheduler, num_training_steps = setup_optimizer_scheduler(model, train_loader)"
      ],
      "metadata": {
        "colab": {
          "base_uri": "https://localhost:8080/"
        },
        "id": "tKBjV9jINCij",
        "outputId": "b97a3331-1c17-4683-bbb6-5367c20b3e7f"
      },
      "execution_count": 40,
      "outputs": [
        {
          "output_type": "stream",
          "name": "stderr",
          "text": [
            "/usr/local/lib/python3.10/dist-packages/transformers/optimization.py:591: FutureWarning: This implementation of AdamW is deprecated and will be removed in a future version. Use the PyTorch implementation torch.optim.AdamW instead, or set `no_deprecation_warning=True` to disable this warning\n",
            "  warnings.warn(\n"
          ]
        }
      ]
    },
    {
      "cell_type": "code",
      "source": [
        "import torch\n",
        "import random\n",
        "import numpy as np\n",
        "\n",
        "def set_random_seed(seed):\n",
        "    random.seed(seed)\n",
        "    np.random.seed(seed)\n",
        "    torch.manual_seed(seed)\n",
        "    if torch.cuda.is_available():\n",
        "        torch.cuda.manual_seed_all(seed)\n",
        "\n",
        "# Set a random seed for reproducibility\n",
        "set_random_seed(42)  # You can replace 42 with any seed value\n",
        "\n",
        "def train_model(model, train_loader, optimizer, scheduler, num_epochs=3, device=\"cpu\"):\n",
        "    \"\"\"\n",
        "    Fine-tune the BERT model on the training dataset.\n",
        "\n",
        "    Parameters:\n",
        "    - model: The BERT model to be trained\n",
        "    - train_loader: DataLoader for the training dataset\n",
        "    - optimizer: AdamW optimizer\n",
        "    - scheduler: Learning rate scheduler\n",
        "    - num_epochs: Number of training epochs (default is 3)\n",
        "    - device: Device to train on (default is CPU)\n",
        "    \"\"\"\n",
        "    model.to(device)  # Move model to the correct device (CPU or GPU)\n",
        "    model.train()  # Set the model to training mode\n",
        "\n",
        "    for epoch in range(num_epochs):\n",
        "        print(f\"Starting epoch {epoch+1}/{num_epochs}...\")  # Epoch progress tracking\n",
        "\n",
        "        for batch_idx, batch in enumerate(train_loader):\n",
        "            # Move batch data to the correct device (CPU or GPU)\n",
        "            batch = {k: v.to(device) for k, v in batch.items()}\n",
        "\n",
        "            # Forward pass\n",
        "            outputs = model(**batch)  # Compute model predictions\n",
        "            loss = outputs.loss  # Get the loss from the outputs\n",
        "\n",
        "            # Backward pass\n",
        "            loss.backward()  # Compute gradients\n",
        "\n",
        "            # Update model weights\n",
        "            optimizer.step()\n",
        "\n",
        "            # Update the learning rate using the scheduler\n",
        "            scheduler.step()\n",
        "\n",
        "            # Zero out gradients for the next iteration\n",
        "            optimizer.zero_grad()\n",
        "\n",
        "            # Print loss for every 10 batches\n",
        "            if batch_idx % 10 == 0:\n",
        "                print(f\"Epoch {epoch+1}, Batch {batch_idx}, Loss: {loss.item():.4f}\")\n",
        "\n",
        "        print(f\"Epoch {epoch+1}/{num_epochs} completed.\")  # Print when epoch is done\n",
        "\n",
        "# Check if GPU (CUDA) is available and use it, otherwise default to CPU\n",
        "device = \"cuda\" if torch.cuda.is_available() else \"cpu\"\n",
        "print(f\"Using device: {device}\")\n",
        "\n",
        "# Set the random seed for reproducibility\n",
        "set_random_seed(42)\n",
        "\n",
        "# Call the training function with the appropriate device\n",
        "train_model(model, train_loader, optimizer, scheduler, num_epochs=3, device=device)"
      ],
      "metadata": {
        "colab": {
          "base_uri": "https://localhost:8080/"
        },
        "id": "NP8VGhPsdkJQ",
        "outputId": "f9d9cfa1-4030-4baf-f0af-c10c08f0f597"
      },
      "execution_count": 41,
      "outputs": [
        {
          "output_type": "stream",
          "name": "stderr",
          "text": [
            "<ipython-input-36-7a2865e5a42d>:21: UserWarning: To copy construct from a tensor, it is recommended to use sourceTensor.clone().detach() or sourceTensor.clone().detach().requires_grad_(True), rather than torch.tensor(sourceTensor).\n",
            "  item = {key: torch.tensor(val[idx]) for key, val in self.encodings.items()}\n"
          ]
        },
        {
          "output_type": "stream",
          "name": "stdout",
          "text": [
            "Using device: cpu\n",
            "Starting epoch 1/3...\n",
            "Epoch 1, Batch 0, Loss: 0.6140\n",
            "Epoch 1, Batch 10, Loss: 0.4584\n",
            "Epoch 1, Batch 20, Loss: 0.3811\n",
            "Epoch 1/3 completed.\n",
            "Starting epoch 2/3...\n",
            "Epoch 2, Batch 0, Loss: 0.3964\n",
            "Epoch 2, Batch 10, Loss: 0.2911\n",
            "Epoch 2, Batch 20, Loss: 0.2795\n",
            "Epoch 2/3 completed.\n",
            "Starting epoch 3/3...\n",
            "Epoch 3, Batch 0, Loss: 0.2486\n",
            "Epoch 3, Batch 10, Loss: 0.2959\n",
            "Epoch 3, Batch 20, Loss: 0.1036\n",
            "Epoch 3/3 completed.\n"
          ]
        }
      ]
    },
    {
      "cell_type": "code",
      "source": [
        "from sklearn.metrics import accuracy_score, classification_report\n",
        "\n",
        "def evaluate_model(model, test_loader, device=\"cpu\"):\n",
        "    \"\"\"\n",
        "    Evaluate the fine-tuned BERT model on the test dataset.\n",
        "\n",
        "    Parameters:\n",
        "    - model: The fine-tuned BERT model\n",
        "    - test_loader: DataLoader for the test dataset\n",
        "    - device: Device for evaluation (default is CPU)\n",
        "\n",
        "    Returns:\n",
        "    - accuracy: The accuracy score on the test dataset\n",
        "    - report: Classification report (precision, recall, F1-score)\n",
        "    \"\"\"\n",
        "    model.eval()\n",
        "    predictions, true_labels = [], []\n",
        "\n",
        "    with torch.no_grad():\n",
        "        for batch in test_loader:\n",
        "            batch = {k: v.to(device) for k, v in batch.items()}\n",
        "            outputs = model(**batch)\n",
        "            logits = outputs.logits\n",
        "            preds = torch.argmax(logits, dim=1)\n",
        "            predictions.extend(preds.cpu().numpy())\n",
        "            true_labels.extend(batch['labels'].cpu().numpy())\n",
        "\n",
        "    accuracy = accuracy_score(true_labels, predictions)\n",
        "    report = classification_report(true_labels, predictions, digits=4)\n",
        "\n",
        "    return accuracy, report\n",
        "\n",
        "# Evaluate the model\n",
        "accuracy, report = evaluate_model(model, test_loader)\n",
        "print(f\"Test Accuracy: {accuracy:.4f}\")\n",
        "print(\"Classification Report:\")\n",
        "print(report)\n",
        "\n"
      ],
      "metadata": {
        "colab": {
          "base_uri": "https://localhost:8080/"
        },
        "id": "Ov-3qp88aIWW",
        "outputId": "8eb4ffde-a0f3-4f52-d859-29c958a8ed17"
      },
      "execution_count": 43,
      "outputs": [
        {
          "output_type": "stream",
          "name": "stderr",
          "text": [
            "<ipython-input-36-7a2865e5a42d>:21: UserWarning: To copy construct from a tensor, it is recommended to use sourceTensor.clone().detach() or sourceTensor.clone().detach().requires_grad_(True), rather than torch.tensor(sourceTensor).\n",
            "  item = {key: torch.tensor(val[idx]) for key, val in self.encodings.items()}\n"
          ]
        },
        {
          "output_type": "stream",
          "name": "stdout",
          "text": [
            "Test Accuracy: 0.8200\n",
            "Classification Report:\n",
            "              precision    recall  f1-score   support\n",
            "\n",
            "           0     0.7500    0.6562    0.7000        32\n",
            "           1     0.8472    0.8971    0.8714        68\n",
            "\n",
            "    accuracy                         0.8200       100\n",
            "   macro avg     0.7986    0.7767    0.7857       100\n",
            "weighted avg     0.8161    0.8200    0.8166       100\n",
            "\n"
          ]
        }
      ]
    },
    {
      "cell_type": "markdown",
      "source": [
        "**Overall Comparison BERT and XGBoost:**\n",
        "\n",
        "**BERT:**\n",
        "\n",
        "Strengths: Performs better on negative reviews across precision, recall, and F1-score. This suggests that BERT is better at identifying and correctly labeling negative reviews.\n",
        "Weaknesses: Performs slightly worse than XGBoost on positive reviews, although the difference is small.\n",
        "\n",
        "**XGBoost:**\n",
        "\n",
        "Strengths: Performs slightly better than BERT on positive reviews in terms of precision, recall, and F1-score. It identifies more true positives (positive reviews) and makes fewer false positive errors for positive reviews.\n",
        "Weaknesses: Struggles more with negative reviews, having lower precision, recall, and F1-score for this class.\n",
        "\n",
        "Conclusion:\n",
        "If negative reviews are more important to correctly classify for the company, BERT would be the better model as it consistently outperforms XGBoost on this class.\n",
        "If positive reviews are more critical and false positives need to be minimized, XGBoost slightly edges out BERT for this class, especially in precision.\n",
        "\n",
        "BERT currently has better balance (higher macro F1-score) across positive and negative reviews, so if we want a single model to balance both(positive and negative reviews), **BERT** is the better choice.\n"
      ],
      "metadata": {
        "id": "U25uab7acXW1"
      }
    },
    {
      "cell_type": "markdown",
      "source": [
        "# **Now I will try to create user interface on Google Colab using ipwidgets.**\n",
        "\n",
        "  I will create few UI features based on Age distribution, popularity, category."
      ],
      "metadata": {
        "id": "h65JNa2xHWlP"
      }
    },
    {
      "cell_type": "code",
      "source": [
        "!pip install ipywidgets"
      ],
      "metadata": {
        "colab": {
          "base_uri": "https://localhost:8080/"
        },
        "id": "KkeXj0dyF2rl",
        "outputId": "39d5cafd-761f-4474-cdfd-8842b2745fb4"
      },
      "execution_count": 44,
      "outputs": [
        {
          "output_type": "stream",
          "name": "stdout",
          "text": [
            "Requirement already satisfied: ipywidgets in /usr/local/lib/python3.10/dist-packages (7.7.1)\n",
            "Requirement already satisfied: ipykernel>=4.5.1 in /usr/local/lib/python3.10/dist-packages (from ipywidgets) (5.5.6)\n",
            "Requirement already satisfied: ipython-genutils~=0.2.0 in /usr/local/lib/python3.10/dist-packages (from ipywidgets) (0.2.0)\n",
            "Requirement already satisfied: traitlets>=4.3.1 in /usr/local/lib/python3.10/dist-packages (from ipywidgets) (5.7.1)\n",
            "Requirement already satisfied: widgetsnbextension~=3.6.0 in /usr/local/lib/python3.10/dist-packages (from ipywidgets) (3.6.9)\n",
            "Requirement already satisfied: ipython>=4.0.0 in /usr/local/lib/python3.10/dist-packages (from ipywidgets) (7.34.0)\n",
            "Requirement already satisfied: jupyterlab-widgets>=1.0.0 in /usr/local/lib/python3.10/dist-packages (from ipywidgets) (3.0.13)\n",
            "Requirement already satisfied: jupyter-client in /usr/local/lib/python3.10/dist-packages (from ipykernel>=4.5.1->ipywidgets) (6.1.12)\n",
            "Requirement already satisfied: tornado>=4.2 in /usr/local/lib/python3.10/dist-packages (from ipykernel>=4.5.1->ipywidgets) (6.3.3)\n",
            "Requirement already satisfied: setuptools>=18.5 in /usr/local/lib/python3.10/dist-packages (from ipython>=4.0.0->ipywidgets) (71.0.4)\n",
            "Collecting jedi>=0.16 (from ipython>=4.0.0->ipywidgets)\n",
            "  Using cached jedi-0.19.1-py2.py3-none-any.whl.metadata (22 kB)\n",
            "Requirement already satisfied: decorator in /usr/local/lib/python3.10/dist-packages (from ipython>=4.0.0->ipywidgets) (4.4.2)\n",
            "Requirement already satisfied: pickleshare in /usr/local/lib/python3.10/dist-packages (from ipython>=4.0.0->ipywidgets) (0.7.5)\n",
            "Requirement already satisfied: prompt-toolkit!=3.0.0,!=3.0.1,<3.1.0,>=2.0.0 in /usr/local/lib/python3.10/dist-packages (from ipython>=4.0.0->ipywidgets) (3.0.47)\n",
            "Requirement already satisfied: pygments in /usr/local/lib/python3.10/dist-packages (from ipython>=4.0.0->ipywidgets) (2.18.0)\n",
            "Requirement already satisfied: backcall in /usr/local/lib/python3.10/dist-packages (from ipython>=4.0.0->ipywidgets) (0.2.0)\n",
            "Requirement already satisfied: matplotlib-inline in /usr/local/lib/python3.10/dist-packages (from ipython>=4.0.0->ipywidgets) (0.1.7)\n",
            "Requirement already satisfied: pexpect>4.3 in /usr/local/lib/python3.10/dist-packages (from ipython>=4.0.0->ipywidgets) (4.9.0)\n",
            "Requirement already satisfied: notebook>=4.4.1 in /usr/local/lib/python3.10/dist-packages (from widgetsnbextension~=3.6.0->ipywidgets) (6.5.5)\n",
            "Requirement already satisfied: parso<0.9.0,>=0.8.3 in /usr/local/lib/python3.10/dist-packages (from jedi>=0.16->ipython>=4.0.0->ipywidgets) (0.8.4)\n",
            "Requirement already satisfied: jinja2 in /usr/local/lib/python3.10/dist-packages (from notebook>=4.4.1->widgetsnbextension~=3.6.0->ipywidgets) (3.1.4)\n",
            "Requirement already satisfied: pyzmq<25,>=17 in /usr/local/lib/python3.10/dist-packages (from notebook>=4.4.1->widgetsnbextension~=3.6.0->ipywidgets) (24.0.1)\n",
            "Requirement already satisfied: argon2-cffi in /usr/local/lib/python3.10/dist-packages (from notebook>=4.4.1->widgetsnbextension~=3.6.0->ipywidgets) (23.1.0)\n",
            "Requirement already satisfied: jupyter-core>=4.6.1 in /usr/local/lib/python3.10/dist-packages (from notebook>=4.4.1->widgetsnbextension~=3.6.0->ipywidgets) (5.7.2)\n",
            "Requirement already satisfied: nbformat in /usr/local/lib/python3.10/dist-packages (from notebook>=4.4.1->widgetsnbextension~=3.6.0->ipywidgets) (5.10.4)\n",
            "Requirement already satisfied: nbconvert>=5 in /usr/local/lib/python3.10/dist-packages (from notebook>=4.4.1->widgetsnbextension~=3.6.0->ipywidgets) (6.5.4)\n",
            "Requirement already satisfied: nest-asyncio>=1.5 in /usr/local/lib/python3.10/dist-packages (from notebook>=4.4.1->widgetsnbextension~=3.6.0->ipywidgets) (1.6.0)\n",
            "Requirement already satisfied: Send2Trash>=1.8.0 in /usr/local/lib/python3.10/dist-packages (from notebook>=4.4.1->widgetsnbextension~=3.6.0->ipywidgets) (1.8.3)\n",
            "Requirement already satisfied: terminado>=0.8.3 in /usr/local/lib/python3.10/dist-packages (from notebook>=4.4.1->widgetsnbextension~=3.6.0->ipywidgets) (0.18.1)\n",
            "Requirement already satisfied: prometheus-client in /usr/local/lib/python3.10/dist-packages (from notebook>=4.4.1->widgetsnbextension~=3.6.0->ipywidgets) (0.21.0)\n",
            "Requirement already satisfied: nbclassic>=0.4.7 in /usr/local/lib/python3.10/dist-packages (from notebook>=4.4.1->widgetsnbextension~=3.6.0->ipywidgets) (1.1.0)\n",
            "Requirement already satisfied: python-dateutil>=2.1 in /usr/local/lib/python3.10/dist-packages (from jupyter-client->ipykernel>=4.5.1->ipywidgets) (2.8.2)\n",
            "Requirement already satisfied: ptyprocess>=0.5 in /usr/local/lib/python3.10/dist-packages (from pexpect>4.3->ipython>=4.0.0->ipywidgets) (0.7.0)\n",
            "Requirement already satisfied: wcwidth in /usr/local/lib/python3.10/dist-packages (from prompt-toolkit!=3.0.0,!=3.0.1,<3.1.0,>=2.0.0->ipython>=4.0.0->ipywidgets) (0.2.13)\n",
            "Requirement already satisfied: platformdirs>=2.5 in /usr/local/lib/python3.10/dist-packages (from jupyter-core>=4.6.1->notebook>=4.4.1->widgetsnbextension~=3.6.0->ipywidgets) (4.3.6)\n",
            "Requirement already satisfied: notebook-shim>=0.2.3 in /usr/local/lib/python3.10/dist-packages (from nbclassic>=0.4.7->notebook>=4.4.1->widgetsnbextension~=3.6.0->ipywidgets) (0.2.4)\n",
            "Requirement already satisfied: lxml in /usr/local/lib/python3.10/dist-packages (from nbconvert>=5->notebook>=4.4.1->widgetsnbextension~=3.6.0->ipywidgets) (4.9.4)\n",
            "Requirement already satisfied: beautifulsoup4 in /usr/local/lib/python3.10/dist-packages (from nbconvert>=5->notebook>=4.4.1->widgetsnbextension~=3.6.0->ipywidgets) (4.12.3)\n",
            "Requirement already satisfied: bleach in /usr/local/lib/python3.10/dist-packages (from nbconvert>=5->notebook>=4.4.1->widgetsnbextension~=3.6.0->ipywidgets) (6.1.0)\n",
            "Requirement already satisfied: defusedxml in /usr/local/lib/python3.10/dist-packages (from nbconvert>=5->notebook>=4.4.1->widgetsnbextension~=3.6.0->ipywidgets) (0.7.1)\n",
            "Requirement already satisfied: entrypoints>=0.2.2 in /usr/local/lib/python3.10/dist-packages (from nbconvert>=5->notebook>=4.4.1->widgetsnbextension~=3.6.0->ipywidgets) (0.4)\n",
            "Requirement already satisfied: jupyterlab-pygments in /usr/local/lib/python3.10/dist-packages (from nbconvert>=5->notebook>=4.4.1->widgetsnbextension~=3.6.0->ipywidgets) (0.3.0)\n",
            "Requirement already satisfied: MarkupSafe>=2.0 in /usr/local/lib/python3.10/dist-packages (from nbconvert>=5->notebook>=4.4.1->widgetsnbextension~=3.6.0->ipywidgets) (2.1.5)\n",
            "Requirement already satisfied: mistune<2,>=0.8.1 in /usr/local/lib/python3.10/dist-packages (from nbconvert>=5->notebook>=4.4.1->widgetsnbextension~=3.6.0->ipywidgets) (0.8.4)\n",
            "Requirement already satisfied: nbclient>=0.5.0 in /usr/local/lib/python3.10/dist-packages (from nbconvert>=5->notebook>=4.4.1->widgetsnbextension~=3.6.0->ipywidgets) (0.10.0)\n",
            "Requirement already satisfied: packaging in /usr/local/lib/python3.10/dist-packages (from nbconvert>=5->notebook>=4.4.1->widgetsnbextension~=3.6.0->ipywidgets) (24.1)\n",
            "Requirement already satisfied: pandocfilters>=1.4.1 in /usr/local/lib/python3.10/dist-packages (from nbconvert>=5->notebook>=4.4.1->widgetsnbextension~=3.6.0->ipywidgets) (1.5.1)\n",
            "Requirement already satisfied: tinycss2 in /usr/local/lib/python3.10/dist-packages (from nbconvert>=5->notebook>=4.4.1->widgetsnbextension~=3.6.0->ipywidgets) (1.3.0)\n",
            "Requirement already satisfied: fastjsonschema>=2.15 in /usr/local/lib/python3.10/dist-packages (from nbformat->notebook>=4.4.1->widgetsnbextension~=3.6.0->ipywidgets) (2.20.0)\n",
            "Requirement already satisfied: jsonschema>=2.6 in /usr/local/lib/python3.10/dist-packages (from nbformat->notebook>=4.4.1->widgetsnbextension~=3.6.0->ipywidgets) (4.23.0)\n",
            "Requirement already satisfied: six>=1.5 in /usr/local/lib/python3.10/dist-packages (from python-dateutil>=2.1->jupyter-client->ipykernel>=4.5.1->ipywidgets) (1.16.0)\n",
            "Requirement already satisfied: argon2-cffi-bindings in /usr/local/lib/python3.10/dist-packages (from argon2-cffi->notebook>=4.4.1->widgetsnbextension~=3.6.0->ipywidgets) (21.2.0)\n",
            "Requirement already satisfied: attrs>=22.2.0 in /usr/local/lib/python3.10/dist-packages (from jsonschema>=2.6->nbformat->notebook>=4.4.1->widgetsnbextension~=3.6.0->ipywidgets) (24.2.0)\n",
            "Requirement already satisfied: jsonschema-specifications>=2023.03.6 in /usr/local/lib/python3.10/dist-packages (from jsonschema>=2.6->nbformat->notebook>=4.4.1->widgetsnbextension~=3.6.0->ipywidgets) (2023.12.1)\n",
            "Requirement already satisfied: referencing>=0.28.4 in /usr/local/lib/python3.10/dist-packages (from jsonschema>=2.6->nbformat->notebook>=4.4.1->widgetsnbextension~=3.6.0->ipywidgets) (0.35.1)\n",
            "Requirement already satisfied: rpds-py>=0.7.1 in /usr/local/lib/python3.10/dist-packages (from jsonschema>=2.6->nbformat->notebook>=4.4.1->widgetsnbextension~=3.6.0->ipywidgets) (0.20.0)\n",
            "Requirement already satisfied: jupyter-server<3,>=1.8 in /usr/local/lib/python3.10/dist-packages (from notebook-shim>=0.2.3->nbclassic>=0.4.7->notebook>=4.4.1->widgetsnbextension~=3.6.0->ipywidgets) (1.24.0)\n",
            "Requirement already satisfied: cffi>=1.0.1 in /usr/local/lib/python3.10/dist-packages (from argon2-cffi-bindings->argon2-cffi->notebook>=4.4.1->widgetsnbextension~=3.6.0->ipywidgets) (1.17.1)\n",
            "Requirement already satisfied: soupsieve>1.2 in /usr/local/lib/python3.10/dist-packages (from beautifulsoup4->nbconvert>=5->notebook>=4.4.1->widgetsnbextension~=3.6.0->ipywidgets) (2.6)\n",
            "Requirement already satisfied: webencodings in /usr/local/lib/python3.10/dist-packages (from bleach->nbconvert>=5->notebook>=4.4.1->widgetsnbextension~=3.6.0->ipywidgets) (0.5.1)\n",
            "Requirement already satisfied: pycparser in /usr/local/lib/python3.10/dist-packages (from cffi>=1.0.1->argon2-cffi-bindings->argon2-cffi->notebook>=4.4.1->widgetsnbextension~=3.6.0->ipywidgets) (2.22)\n",
            "Requirement already satisfied: anyio<4,>=3.1.0 in /usr/local/lib/python3.10/dist-packages (from jupyter-server<3,>=1.8->notebook-shim>=0.2.3->nbclassic>=0.4.7->notebook>=4.4.1->widgetsnbextension~=3.6.0->ipywidgets) (3.7.1)\n",
            "Requirement already satisfied: websocket-client in /usr/local/lib/python3.10/dist-packages (from jupyter-server<3,>=1.8->notebook-shim>=0.2.3->nbclassic>=0.4.7->notebook>=4.4.1->widgetsnbextension~=3.6.0->ipywidgets) (1.8.0)\n",
            "Requirement already satisfied: idna>=2.8 in /usr/local/lib/python3.10/dist-packages (from anyio<4,>=3.1.0->jupyter-server<3,>=1.8->notebook-shim>=0.2.3->nbclassic>=0.4.7->notebook>=4.4.1->widgetsnbextension~=3.6.0->ipywidgets) (3.10)\n",
            "Requirement already satisfied: sniffio>=1.1 in /usr/local/lib/python3.10/dist-packages (from anyio<4,>=3.1.0->jupyter-server<3,>=1.8->notebook-shim>=0.2.3->nbclassic>=0.4.7->notebook>=4.4.1->widgetsnbextension~=3.6.0->ipywidgets) (1.3.1)\n",
            "Requirement already satisfied: exceptiongroup in /usr/local/lib/python3.10/dist-packages (from anyio<4,>=3.1.0->jupyter-server<3,>=1.8->notebook-shim>=0.2.3->nbclassic>=0.4.7->notebook>=4.4.1->widgetsnbextension~=3.6.0->ipywidgets) (1.2.2)\n",
            "Using cached jedi-0.19.1-py2.py3-none-any.whl (1.6 MB)\n",
            "Installing collected packages: jedi\n",
            "Successfully installed jedi-0.19.1\n"
          ]
        }
      ]
    },
    {
      "cell_type": "code",
      "source": [
        "import ipywidgets as widgets\n",
        "from IPython.display import display"
      ],
      "metadata": {
        "id": "kQ7LObPLGMUR"
      },
      "execution_count": 45,
      "outputs": []
    },
    {
      "cell_type": "code",
      "source": [
        "# Add rating UI\n",
        "# Define the options for age groups and clothing types\n",
        "age_groups = age_category_ratings.index.to_list()\n",
        "clothing_types = age_category_ratings.columns.to_list()\n",
        "\n",
        "# Create dropdown widgets for age groups and clothing types\n",
        "age_group_dropdown = widgets.Dropdown(\n",
        "    options=age_groups,\n",
        "    description='Age Group:',\n",
        "    value=age_groups[0]  # Default value\n",
        ")\n",
        "\n",
        "clothing_type_dropdown = widgets.Dropdown(\n",
        "    options=clothing_types,\n",
        "    description='Clothing:',\n",
        "    value=clothing_types[0]  # Default value\n",
        ")\n",
        "\n",
        "\n",
        "def get_rating():\n",
        "  return f\"{round(age_category_ratings.loc[age_group_dropdown.value, clothing_type_dropdown.value], 2)}\"\n",
        "\n",
        "# Create a non-editable text box to display the result\n",
        "result_box = widgets.Text(\n",
        "    value=get_rating(),\n",
        "    description='Avg. Rating:',\n",
        "    disabled=True,  # Make the text box non-editable\n",
        "    layout=widgets.Layout(margin=\"0px 0px 0px 40px\")\n",
        ")\n",
        "\n",
        "# # Create a button widget\n",
        "# get_rating_button = widgets.Button(description=\"Get Rating\")\n",
        "# get_rating_button.age_group_sel = age_group_dropdown.value\n",
        "# get_rating_button.clothing_type_sel = clothing_type_dropdown.value\n",
        "\n",
        "\n",
        "# Callback function to handle changes\n",
        "def on_selection_change(change):\n",
        "    result_box.value = get_rating()\n",
        "\n",
        "# Attach the callback to the dropdowns\n",
        "age_group_dropdown.observe(on_selection_change, names='value')\n",
        "clothing_type_dropdown.observe(on_selection_change, names='value')"
      ],
      "metadata": {
        "id": "aXjAQsmaGVI8"
      },
      "execution_count": 46,
      "outputs": []
    },
    {
      "cell_type": "code",
      "source": [
        "# # Define a callback function that will be called when the button is clicked\n",
        "# def on_get_rating_click(b):\n",
        "#     get_rating()\n",
        "\n",
        "# # Attach the callback function to the button's 'on_click' event\n",
        "# get_rating_button.on_click(on_get_rating_click)\n",
        "\n",
        "# Create a title using Markdown\n",
        "rating_title = widgets.Output()\n",
        "with rating_title:\n",
        "    display(widgets.HTML(\"<h1>Ratings</h1>\"))\n",
        "\n",
        "dropdowns = widgets.VBox([age_group_dropdown, clothing_type_dropdown])\n",
        "rating_ui = widgets.VBox([rating_title, widgets.HBox([dropdowns, result_box])])\n"
      ],
      "metadata": {
        "id": "_UCHKl1cGZ7S"
      },
      "execution_count": 47,
      "outputs": []
    },
    {
      "cell_type": "code",
      "source": [
        "# Add popularity UI\n",
        "pop_widget_age_group = widgets.Dropdown(\n",
        "    options=age_groups,\n",
        "    description='Age Group:',\n",
        "    value=age_groups[0]  # Default value\n",
        ")\n",
        "\n",
        "def get_most_popular_known(age_index):\n",
        "  return age_category_ratings.loc[age_index, age_category_ratings.columns != \"Unknown\"].idxmax()\n",
        "\n",
        "def get_least_popular_known(age_index):\n",
        "  return age_category_ratings.loc[age_index, age_category_ratings.columns != \"Unknown\"].idxmin()\n",
        "\n",
        "# Create a non-editable text box to display the result\n",
        "pop_result_box = widgets.Text(\n",
        "    value=get_most_popular_known(pop_widget_age_group.value),\n",
        "    disabled=True,  # Make the text box non-editable\n",
        ")\n",
        "\n",
        "# Adjust the description width\n",
        "pop_description_label = widgets.Label('Most popular (except unknown):', layout=widgets.Layout(width='auto'))\n",
        "comp_pop_result_box = widgets.HBox([pop_description_label, pop_result_box], layout=widgets.Layout(margin=\"0px 0px 0px 40px\"))\n",
        "\n",
        "# Create a non-editable text box to display the result\n",
        "least_pop_result_box = widgets.Text(\n",
        "    value=get_least_popular_known(pop_widget_age_group.value),\n",
        "    disabled=True,  # Make the text box non-editable\n",
        ")\n",
        "\n",
        "# Adjust the description width\n",
        "least_pop_description_label = widgets.Label('Least popular (except unknown):', layout=widgets.Layout(width='auto'))\n",
        "comp_least_pop_result_box = widgets.HBox([least_pop_description_label, least_pop_result_box], layout=widgets.Layout(margin=\"0px 0px 0px 40px\"))\n",
        "\n",
        "\n",
        "def update_pop(b):\n",
        "  pop_result_box.value = get_most_popular_known(pop_widget_age_group.value)\n",
        "  least_pop_result_box.value = get_least_popular_known(pop_widget_age_group.value)\n",
        "\n",
        "\n",
        "pop_widget_age_group.observe(update_pop, names=\"value\")\n",
        "\n",
        "# Create a title using Markdown\n",
        "pop_title = widgets.Output()\n",
        "with pop_title:\n",
        "    display(widgets.HTML(\"<h1>Popularity</h1>\"))\n",
        "\n",
        "pop_widgets = widgets.HBox([pop_widget_age_group, comp_pop_result_box, comp_least_pop_result_box])\n",
        "pop_ui = widgets.VBox([pop_title, pop_widgets], layout=widgets.Layout(margin=\"40px 0px 40px 0px\"))\n"
      ],
      "metadata": {
        "id": "hFzwyOgyGhm5"
      },
      "execution_count": 48,
      "outputs": []
    },
    {
      "cell_type": "code",
      "source": [
        "# Function to generate plots\n",
        "def generate_plots(selected_columns):\n",
        "    if len(selected_columns) < 2:\n",
        "        print(\"Please select at least two columns for comparison.\")\n",
        "        return\n",
        "\n",
        "    # Generate Pairplot\n",
        "    sns.pairplot(df[list(selected_columns)])\n",
        "    plt.show()\n",
        "\n",
        "    # Generate Correlation Matrix\n",
        "    plt.figure(figsize=(8, 6))\n",
        "    correlation_matrix = df[list(selected_columns)].corr()\n",
        "    sns.heatmap(correlation_matrix, annot=True, cmap='coolwarm', fmt=\".2f\", square=True)\n",
        "    plt.title(\"Correlation Matrix\")\n",
        "    plt.show()\n"
      ],
      "metadata": {
        "id": "l7n8sEIUGn5r"
      },
      "execution_count": 49,
      "outputs": []
    },
    {
      "cell_type": "code",
      "source": [
        "# Add rating distribution\n",
        "rating_dist_title = widgets.Output()\n",
        "with rating_dist_title:\n",
        "    display(widgets.HTML(\"<h1>Rating distribution</h1>\"))\n",
        "\n",
        "def make_bar_plot(age_group):\n",
        "      with plot_output:\n",
        "        # Clear the previous output first\n",
        "        plot_output.clear_output()\n",
        "        # Filter the data for the selected age group\n",
        "        df_filtered = age_product_rating[age_product_rating['Age_Group'] == age_group]\n",
        "\n",
        "        # Create the barplot\n",
        "        plt.figure(figsize=(10, 6))\n",
        "        sns.barplot(data=df_filtered, x='Type', y='Rating', hue='Type', palette='Set2', legend=False)\n",
        "\n",
        "        # Add title and labels\n",
        "        plt.title(f'Ratings for Different Product Categories (Age Group: {age_group})', fontsize=16)\n",
        "        plt.xlabel('Product Type', fontsize=12)\n",
        "        plt.ylabel('Rating', fontsize=12)\n",
        "        plt.xticks(rotation=45)  # Rotate x-axis labels for readability\n",
        "\n",
        "        # Show the plot\n",
        "        plt.tight_layout()\n",
        "        plt.show()\n",
        "\n",
        "# Output widget to display the plot\n",
        "plot_output = widgets.Output()\n",
        "\n",
        "# Function to update the plot when dropdown value changes\n",
        "def update_plot(change):\n",
        "    # Get the new value from the change dictionary\n",
        "    new_age_group = change['new']\n",
        "    make_bar_plot(new_age_group)\n",
        "\n",
        "# Create dropdown for Age Group selection\n",
        "rating_dist_dropdown = widgets.Dropdown(\n",
        "    options=age_product_rating['Age_Group'].unique(),\n",
        "    description='Age Group:',\n",
        "    value=age_groups[0]  # Default value\n",
        ")\n",
        "\n",
        "# initialize bar plot\n",
        "make_bar_plot(rating_dist_dropdown.value)\n",
        "\n",
        "# Attach the update function to the dropdown's value change event\n",
        "rating_dist_dropdown.observe(update_plot, names='value')\n",
        "\n",
        "rating_distribution_ui = widgets.VBox([rating_dist_title, rating_dist_dropdown, plot_output], layout=widgets.Layout(margin=\"40px 0px 40px 0px\"))"
      ],
      "metadata": {
        "id": "0sozagRyGtP7"
      },
      "execution_count": 50,
      "outputs": []
    },
    {
      "cell_type": "code",
      "source": [
        "# Add rating distribution\n",
        "sentiment_dist_title = widgets.Output()\n",
        "with sentiment_dist_title:\n",
        "    display(widgets.HTML(\"<h1>Clothing type distribution</h1>\"))\n",
        "\n",
        "\n",
        "\n",
        "def make_sentiment_bar_plot(column_name):\n",
        "      with sentiment_plot_output:\n",
        "        # Clear the previous output first\n",
        "        sentiment_plot_output.clear_output()\n",
        "        # Filter the data for the selected age group\n",
        "        # df_filtered = category_analysis[category_analysis['Age_Group'] == age_group]\n",
        "\n",
        "        # Create the barplot\n",
        "        plt.figure(figsize=(10, 6))\n",
        "        sns.barplot(data=category_analysis, x='Type', y=column_name, hue='Type', palette='Set2', legend=False)\n",
        "\n",
        "        # Add title and labels\n",
        "        plt.title(f'Sentiment distribution by clothing type', fontsize=16)\n",
        "        plt.xlabel('Product Type', fontsize=12)\n",
        "        plt.ylabel(column_name, fontsize=12)\n",
        "        plt.xticks(rotation=45)  # Rotate x-axis labels for readability\n",
        "\n",
        "        # Show the plot\n",
        "        plt.tight_layout()\n",
        "        plt.show()\n",
        "\n",
        "# Output widget to display the plot\n",
        "sentiment_plot_output = widgets.Output()\n",
        "\n",
        "# Function to update the plot when dropdown value changes\n",
        "def update_sentiment_plot(change):\n",
        "    # Get the new value from the change dictionary\n",
        "    selected_column = change['new']\n",
        "    make_sentiment_bar_plot(selected_column)\n",
        "\n",
        "# Create dropdown for Age Group selection\n",
        "sentiment_dist_dropdown = widgets.Dropdown(\n",
        "    options=[\"VADER_Sentiment\", \"Review_Length\"],\n",
        "    description='Variable:',\n",
        "    value=\"VADER_Sentiment\"  # Default value\n",
        ")\n",
        "\n",
        "# initialize bar plot\n",
        "make_sentiment_bar_plot(sentiment_dist_dropdown.value)\n",
        "\n",
        "# Attach the update function to the dropdown's value change event\n",
        "sentiment_dist_dropdown.observe(update_sentiment_plot, names='value')\n",
        "\n",
        "sentiment_distribution_ui = widgets.VBox([sentiment_dist_title, sentiment_dist_dropdown, sentiment_plot_output], layout=widgets.Layout(margin=\"40px 0px 40px 0px\"))"
      ],
      "metadata": {
        "id": "0c9RQAFaGztK"
      },
      "execution_count": 51,
      "outputs": []
    },
    {
      "cell_type": "code",
      "source": [
        "display(rating_ui)\n",
        "display(pop_ui)\n",
        "display(rating_distribution_ui)\n",
        "display(sentiment_distribution_ui)"
      ],
      "metadata": {
        "colab": {
          "base_uri": "https://localhost:8080/",
          "height": 1000,
          "referenced_widgets": [
            "f0219e7bd20c4cb9ae9fb9a7c04baf9f",
            "2efefae21f03481ca0e8d61da4f3cdb2",
            "c22e1a0786c244b4a53d7328de8d5124",
            "49c345130d634666a33a195b596bb58e",
            "1b21719ccb8e4758bba4e44e569f9743",
            "e29bf1b485c243e89c164e36f2571387",
            "9c91e43da27448f2b6ad5235393b4402",
            "59d61abe34bb49f6a3d4dedfd443d07c",
            "33e9b2de9cca444c91b3a527eb6e1d5d",
            "7fd53a1db2d94f259972e23e9cb94132",
            "86ac555ed2094d0a9eabdcc0997d7c5c",
            "4e480954e4444f5782f8f2fa76571c0a",
            "7df2ae2fd0944614af3bc3fc78ff5868",
            "f7302f24da054f5cae5435a8bff8d1b1",
            "4803f7336b8441c088d6db5bdbfd54b6",
            "2dbe2eca11b94625a3bbe7ab4e150a26",
            "91c36cdc207543eb9decfb799a0f516f",
            "bdfd31e18e6a44f39e9b0bc3e8c68162",
            "e9ef753da57d419da20cf8d1bd59a47d",
            "77ae722b4a974b53960cefb9cbd561b8",
            "43ccfd5322254a90b30696bd2dc0002a",
            "7458810dac59441aa21e6efe9f0ff1e3",
            "24a719ab3a5d4c798b086f6cbb1b971f",
            "7b14c47bebe248e1b3aea4d477e34b0b",
            "ba789b9d9bc84a858aca6b8e3aadc563",
            "a3b65b8d5133455eb1d36e22a0bcad63",
            "1ad30f755ec34313a8e4f67d8d3a31a4",
            "0f6b41ccdb974500b38f9c6418bbc13d",
            "1c0b93344e17436ab03c8775d5de0222",
            "b85a3193c50d4cd1b951289248d8a589",
            "82c8f78696d544ed9e0af4acc6e6326c",
            "9fbab5d452454b959b8a5666cd696a97",
            "306f3e7c7b4e4db28f0b23abd731251d",
            "bcc0a135ae0f40c888d71d01f28be144",
            "701b1a145ce446c5b6c8308accc49bc6",
            "2bd8e4de5d7f4d108147017908be1b2f",
            "1cf04b60b3a04bbc9d9264645da10fe1",
            "366adeacceae420da62e972509e19f96",
            "c63cca8bc60c4ec9889b3d38300fd9dd",
            "9f496d2b2ea4452884754fadc63075bd",
            "6c15379c7c9e49738b820e89c5e0fead",
            "d3886f35c3014edb965d94eb5ad6a3b4",
            "d640b14f0dbc41369e93780476c27c60",
            "624937bcec564ec4baeb95949391ff47",
            "0df4c51f11e447708a6e05959dba6514",
            "41d6e67909d24a11bb33be0fb4a8288d",
            "d488585468a84ef3bcb4d8d8e4804dbf",
            "56e1f84177ec4ff1b48f7ebe3c7c4107",
            "cae93e6f97da4289a17b4c31bc443735",
            "7afff7a711dd42d5915ad0e1106d3611",
            "310234cfb3ae44d0942051dfb2bda001",
            "c4878c36ac164407beb1eecf9eb56dbf",
            "6a7bcb6542da4b6190c28b5a39cffdcb",
            "527c31db73b54a898632d94271b2f065",
            "fc1e35767b5c476cb3a0e0f2445f7db0",
            "a34f0baa2171466a94dd4bad352a9188",
            "a44bae50b68b4164bc4f861c1d506f04",
            "0dde573ba18a497e9237a4c1ed63583d",
            "f3e571d88b8f4a56a28bef154a734c3f",
            "8c15345f56fb476ca2d748c3027e0c7e",
            "9fe8767e41364c19a9903d9e53c185b1",
            "d5c750a22a1a4c5f845fc4669153cc6e",
            "8ec75503cded412fad40c57af84a113c",
            "0add638c3dec42298e967d6584ee7829",
            "d443f3ba536c4a659202b08982cccc49",
            "3f0e1949b653490ca405c486bea2793e",
            "d17a9548df624edf99b60355fe58e73c",
            "f054cad049a94067af9def74a9a95820",
            "2031b81d8ab841e49460963636aa8d46",
            "a16230b96a594c299e04702bb05bef59",
            "5f6f1a6665da497f845aae58f2e678c8",
            "72f0afdbae6041b2ac78b74791a059df"
          ]
        },
        "id": "D6TXsiUOG81o",
        "outputId": "33e09b5a-7459-4d52-ea5e-d5de33fa9623"
      },
      "execution_count": 52,
      "outputs": [
        {
          "output_type": "display_data",
          "data": {
            "text/plain": [
              "VBox(children=(Output(), HBox(children=(VBox(children=(Dropdown(description='Age Group:', options=('18-25', '2…"
            ],
            "application/vnd.jupyter.widget-view+json": {
              "version_major": 2,
              "version_minor": 0,
              "model_id": "f0219e7bd20c4cb9ae9fb9a7c04baf9f"
            }
          },
          "metadata": {}
        },
        {
          "output_type": "display_data",
          "data": {
            "text/plain": [
              "VBox(children=(Output(), HBox(children=(Dropdown(description='Age Group:', options=('18-25', '26-35', '36-45',…"
            ],
            "application/vnd.jupyter.widget-view+json": {
              "version_major": 2,
              "version_minor": 0,
              "model_id": "e9ef753da57d419da20cf8d1bd59a47d"
            }
          },
          "metadata": {}
        },
        {
          "output_type": "display_data",
          "data": {
            "text/plain": [
              "VBox(children=(Output(), Dropdown(description='Age Group:', options=('18-25', '26-35', '36-45', '46-55', '56-6…"
            ],
            "application/vnd.jupyter.widget-view+json": {
              "version_major": 2,
              "version_minor": 0,
              "model_id": "d488585468a84ef3bcb4d8d8e4804dbf"
            }
          },
          "metadata": {}
        },
        {
          "output_type": "display_data",
          "data": {
            "text/plain": [
              "VBox(children=(Output(), Dropdown(description='Variable:', options=('VADER_Sentiment', 'Review_Length'), value…"
            ],
            "application/vnd.jupyter.widget-view+json": {
              "version_major": 2,
              "version_minor": 0,
              "model_id": "f3e571d88b8f4a56a28bef154a734c3f"
            }
          },
          "metadata": {}
        }
      ]
    }
  ]
}